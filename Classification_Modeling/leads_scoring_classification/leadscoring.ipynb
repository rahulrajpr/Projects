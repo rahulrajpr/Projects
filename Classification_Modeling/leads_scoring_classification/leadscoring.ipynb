{
 "cells": [
  {
   "cell_type": "markdown",
   "metadata": {
    "execution": {
     "iopub.execute_input": "2022-07-28T15:24:50.850639Z",
     "iopub.status.busy": "2022-07-28T15:24:50.850250Z",
     "iopub.status.idle": "2022-07-28T15:24:50.858477Z",
     "shell.execute_reply": "2022-07-28T15:24:50.856871Z",
     "shell.execute_reply.started": "2022-07-28T15:24:50.850610Z"
    }
   },
   "source": [
    "# Objective\n",
    "\n",
    "To build a logistic regression model to assign a lead score between 0 and 100 to each of the leads which can be used by the company to target potential leads."
   ]
  },
  {
   "cell_type": "code",
   "execution_count": 217,
   "metadata": {
    "execution": {
     "iopub.execute_input": "2022-07-31T09:26:38.127873Z",
     "iopub.status.busy": "2022-07-31T09:26:38.127365Z",
     "iopub.status.idle": "2022-07-31T09:26:38.133357Z",
     "shell.execute_reply": "2022-07-31T09:26:38.132488Z",
     "shell.execute_reply.started": "2022-07-31T09:26:38.127831Z"
    }
   },
   "outputs": [],
   "source": [
    "# Importing the basic libraries\n",
    "import pandas as pd \n",
    "import numpy as np\n",
    "import matplotlib.pyplot as plt\n",
    "import seaborn as sns"
   ]
  },
  {
   "cell_type": "code",
   "execution_count": 218,
   "metadata": {
    "_cell_guid": "b1076dfc-b9ad-4769-8c92-a6c4dae69d19",
    "_uuid": "8f2839f25d086af736a60e9eeb907d3b93b6e0e5",
    "execution": {
     "iopub.execute_input": "2022-07-31T09:26:38.208901Z",
     "iopub.status.busy": "2022-07-31T09:26:38.208425Z",
     "iopub.status.idle": "2022-07-31T09:26:38.214945Z",
     "shell.execute_reply": "2022-07-31T09:26:38.213492Z",
     "shell.execute_reply.started": "2022-07-31T09:26:38.208856Z"
    }
   },
   "outputs": [],
   "source": [
    "import warnings\n",
    "warnings.filterwarnings('ignore')"
   ]
  },
  {
   "cell_type": "markdown",
   "metadata": {},
   "source": [
    "# Steps to follow\n",
    "\n",
    "1. Reading & Understanding the Dataset\n",
    "2. Preparing the DataFrame for Modeling\n",
    "3. Modeling\n",
    "4. Evaluating the Model\n",
    "5. Final Prediction\n",
    "6. Conclusion"
   ]
  },
  {
   "cell_type": "markdown",
   "metadata": {},
   "source": [
    "# Machine Learning Libraries & Classes\n",
    "\n",
    "1. Scikit Learn - preprocessing, metrics, feature_selection\n",
    "2. Stats Models api - GLM"
   ]
  },
  {
   "cell_type": "markdown",
   "metadata": {},
   "source": [
    "# 1.Reading and understanding the data"
   ]
  },
  {
   "cell_type": "code",
   "execution_count": 219,
   "metadata": {
    "execution": {
     "iopub.execute_input": "2022-07-31T09:26:38.277133Z",
     "iopub.status.busy": "2022-07-31T09:26:38.276532Z",
     "iopub.status.idle": "2022-07-31T09:26:38.350149Z",
     "shell.execute_reply": "2022-07-31T09:26:38.349170Z",
     "shell.execute_reply.started": "2022-07-31T09:26:38.277099Z"
    }
   },
   "outputs": [],
   "source": [
    "path = 'Leads.csv'\n",
    "leads = pd.read_csv(path)"
   ]
  },
  {
   "cell_type": "code",
   "execution_count": 220,
   "metadata": {
    "execution": {
     "iopub.execute_input": "2022-07-31T09:26:38.352285Z",
     "iopub.status.busy": "2022-07-31T09:26:38.351749Z",
     "iopub.status.idle": "2022-07-31T09:26:38.400339Z",
     "shell.execute_reply": "2022-07-31T09:26:38.398877Z",
     "shell.execute_reply.started": "2022-07-31T09:26:38.352253Z"
    }
   },
   "outputs": [
    {
     "data": {
      "text/plain": [
       "(9240, 37)"
      ]
     },
     "execution_count": 220,
     "metadata": {},
     "output_type": "execute_result"
    }
   ],
   "source": [
    "# Dropping the duplicated rows in case of any\n",
    "leads = leads.drop_duplicates()\n",
    "leads.shape"
   ]
  },
  {
   "cell_type": "code",
   "execution_count": 221,
   "metadata": {
    "execution": {
     "iopub.execute_input": "2022-07-31T09:26:38.414309Z",
     "iopub.status.busy": "2022-07-31T09:26:38.413903Z",
     "iopub.status.idle": "2022-07-31T09:26:38.421487Z",
     "shell.execute_reply": "2022-07-31T09:26:38.420622Z",
     "shell.execute_reply.started": "2022-07-31T09:26:38.414275Z"
    }
   },
   "outputs": [
    {
     "data": {
      "text/plain": [
       "(9240, 37)"
      ]
     },
     "execution_count": 221,
     "metadata": {},
     "output_type": "execute_result"
    }
   ],
   "source": [
    "initial_shape = leads.shape\n",
    "initial_shape"
   ]
  },
  {
   "cell_type": "code",
   "execution_count": 222,
   "metadata": {
    "execution": {
     "iopub.execute_input": "2022-07-31T09:26:38.548190Z",
     "iopub.status.busy": "2022-07-31T09:26:38.546944Z",
     "iopub.status.idle": "2022-07-31T09:26:38.578563Z",
     "shell.execute_reply": "2022-07-31T09:26:38.577256Z",
     "shell.execute_reply.started": "2022-07-31T09:26:38.548136Z"
    }
   },
   "outputs": [
    {
     "data": {
      "text/html": [
       "<div>\n",
       "<style scoped>\n",
       "    .dataframe tbody tr th:only-of-type {\n",
       "        vertical-align: middle;\n",
       "    }\n",
       "\n",
       "    .dataframe tbody tr th {\n",
       "        vertical-align: top;\n",
       "    }\n",
       "\n",
       "    .dataframe thead th {\n",
       "        text-align: right;\n",
       "    }\n",
       "</style>\n",
       "<table border=\"1\" class=\"dataframe\">\n",
       "  <thead>\n",
       "    <tr style=\"text-align: right;\">\n",
       "      <th></th>\n",
       "      <th>Prospect ID</th>\n",
       "      <th>Lead Number</th>\n",
       "      <th>Lead Origin</th>\n",
       "      <th>Lead Source</th>\n",
       "      <th>Do Not Email</th>\n",
       "      <th>Do Not Call</th>\n",
       "      <th>Converted</th>\n",
       "      <th>TotalVisits</th>\n",
       "      <th>Total Time Spent on Website</th>\n",
       "      <th>Page Views Per Visit</th>\n",
       "      <th>...</th>\n",
       "      <th>Get updates on DM Content</th>\n",
       "      <th>Lead Profile</th>\n",
       "      <th>City</th>\n",
       "      <th>Asymmetrique Activity Index</th>\n",
       "      <th>Asymmetrique Profile Index</th>\n",
       "      <th>Asymmetrique Activity Score</th>\n",
       "      <th>Asymmetrique Profile Score</th>\n",
       "      <th>I agree to pay the amount through cheque</th>\n",
       "      <th>A free copy of Mastering The Interview</th>\n",
       "      <th>Last Notable Activity</th>\n",
       "    </tr>\n",
       "  </thead>\n",
       "  <tbody>\n",
       "    <tr>\n",
       "      <th>0</th>\n",
       "      <td>7927b2df-8bba-4d29-b9a2-b6e0beafe620</td>\n",
       "      <td>660737</td>\n",
       "      <td>API</td>\n",
       "      <td>Olark Chat</td>\n",
       "      <td>No</td>\n",
       "      <td>No</td>\n",
       "      <td>0</td>\n",
       "      <td>0.0</td>\n",
       "      <td>0</td>\n",
       "      <td>0.0</td>\n",
       "      <td>...</td>\n",
       "      <td>No</td>\n",
       "      <td>Select</td>\n",
       "      <td>Select</td>\n",
       "      <td>02.Medium</td>\n",
       "      <td>02.Medium</td>\n",
       "      <td>15.0</td>\n",
       "      <td>15.0</td>\n",
       "      <td>No</td>\n",
       "      <td>No</td>\n",
       "      <td>Modified</td>\n",
       "    </tr>\n",
       "    <tr>\n",
       "      <th>1</th>\n",
       "      <td>2a272436-5132-4136-86fa-dcc88c88f482</td>\n",
       "      <td>660728</td>\n",
       "      <td>API</td>\n",
       "      <td>Organic Search</td>\n",
       "      <td>No</td>\n",
       "      <td>No</td>\n",
       "      <td>0</td>\n",
       "      <td>5.0</td>\n",
       "      <td>674</td>\n",
       "      <td>2.5</td>\n",
       "      <td>...</td>\n",
       "      <td>No</td>\n",
       "      <td>Select</td>\n",
       "      <td>Select</td>\n",
       "      <td>02.Medium</td>\n",
       "      <td>02.Medium</td>\n",
       "      <td>15.0</td>\n",
       "      <td>15.0</td>\n",
       "      <td>No</td>\n",
       "      <td>No</td>\n",
       "      <td>Email Opened</td>\n",
       "    </tr>\n",
       "    <tr>\n",
       "      <th>2</th>\n",
       "      <td>8cc8c611-a219-4f35-ad23-fdfd2656bd8a</td>\n",
       "      <td>660727</td>\n",
       "      <td>Landing Page Submission</td>\n",
       "      <td>Direct Traffic</td>\n",
       "      <td>No</td>\n",
       "      <td>No</td>\n",
       "      <td>1</td>\n",
       "      <td>2.0</td>\n",
       "      <td>1532</td>\n",
       "      <td>2.0</td>\n",
       "      <td>...</td>\n",
       "      <td>No</td>\n",
       "      <td>Potential Lead</td>\n",
       "      <td>Mumbai</td>\n",
       "      <td>02.Medium</td>\n",
       "      <td>01.High</td>\n",
       "      <td>14.0</td>\n",
       "      <td>20.0</td>\n",
       "      <td>No</td>\n",
       "      <td>Yes</td>\n",
       "      <td>Email Opened</td>\n",
       "    </tr>\n",
       "  </tbody>\n",
       "</table>\n",
       "<p>3 rows × 37 columns</p>\n",
       "</div>"
      ],
      "text/plain": [
       "                            Prospect ID  Lead Number              Lead Origin  \\\n",
       "0  7927b2df-8bba-4d29-b9a2-b6e0beafe620       660737                      API   \n",
       "1  2a272436-5132-4136-86fa-dcc88c88f482       660728                      API   \n",
       "2  8cc8c611-a219-4f35-ad23-fdfd2656bd8a       660727  Landing Page Submission   \n",
       "\n",
       "      Lead Source Do Not Email Do Not Call  Converted  TotalVisits  \\\n",
       "0      Olark Chat           No          No          0          0.0   \n",
       "1  Organic Search           No          No          0          5.0   \n",
       "2  Direct Traffic           No          No          1          2.0   \n",
       "\n",
       "   Total Time Spent on Website  Page Views Per Visit  ...  \\\n",
       "0                            0                   0.0  ...   \n",
       "1                          674                   2.5  ...   \n",
       "2                         1532                   2.0  ...   \n",
       "\n",
       "  Get updates on DM Content    Lead Profile    City  \\\n",
       "0                        No          Select  Select   \n",
       "1                        No          Select  Select   \n",
       "2                        No  Potential Lead  Mumbai   \n",
       "\n",
       "  Asymmetrique Activity Index Asymmetrique Profile Index  \\\n",
       "0                   02.Medium                  02.Medium   \n",
       "1                   02.Medium                  02.Medium   \n",
       "2                   02.Medium                    01.High   \n",
       "\n",
       "  Asymmetrique Activity Score Asymmetrique Profile Score  \\\n",
       "0                        15.0                       15.0   \n",
       "1                        15.0                       15.0   \n",
       "2                        14.0                       20.0   \n",
       "\n",
       "  I agree to pay the amount through cheque  \\\n",
       "0                                       No   \n",
       "1                                       No   \n",
       "2                                       No   \n",
       "\n",
       "  A free copy of Mastering The Interview Last Notable Activity  \n",
       "0                                     No              Modified  \n",
       "1                                     No          Email Opened  \n",
       "2                                    Yes          Email Opened  \n",
       "\n",
       "[3 rows x 37 columns]"
      ]
     },
     "execution_count": 222,
     "metadata": {},
     "output_type": "execute_result"
    }
   ],
   "source": [
    "leads.head(3)"
   ]
  },
  {
   "cell_type": "code",
   "execution_count": 223,
   "metadata": {
    "execution": {
     "iopub.execute_input": "2022-07-31T09:26:38.613234Z",
     "iopub.status.busy": "2022-07-31T09:26:38.612808Z",
     "iopub.status.idle": "2022-07-31T09:26:38.658573Z",
     "shell.execute_reply": "2022-07-31T09:26:38.657308Z",
     "shell.execute_reply.started": "2022-07-31T09:26:38.613196Z"
    }
   },
   "outputs": [
    {
     "name": "stdout",
     "output_type": "stream",
     "text": [
      "<class 'pandas.core.frame.DataFrame'>\n",
      "Int64Index: 9240 entries, 0 to 9239\n",
      "Data columns (total 37 columns):\n",
      " #   Column                                         Non-Null Count  Dtype  \n",
      "---  ------                                         --------------  -----  \n",
      " 0   Prospect ID                                    9240 non-null   object \n",
      " 1   Lead Number                                    9240 non-null   int64  \n",
      " 2   Lead Origin                                    9240 non-null   object \n",
      " 3   Lead Source                                    9204 non-null   object \n",
      " 4   Do Not Email                                   9240 non-null   object \n",
      " 5   Do Not Call                                    9240 non-null   object \n",
      " 6   Converted                                      9240 non-null   int64  \n",
      " 7   TotalVisits                                    9103 non-null   float64\n",
      " 8   Total Time Spent on Website                    9240 non-null   int64  \n",
      " 9   Page Views Per Visit                           9103 non-null   float64\n",
      " 10  Last Activity                                  9137 non-null   object \n",
      " 11  Country                                        6779 non-null   object \n",
      " 12  Specialization                                 7802 non-null   object \n",
      " 13  How did you hear about X Education             7033 non-null   object \n",
      " 14  What is your current occupation                6550 non-null   object \n",
      " 15  What matters most to you in choosing a course  6531 non-null   object \n",
      " 16  Search                                         9240 non-null   object \n",
      " 17  Magazine                                       9240 non-null   object \n",
      " 18  Newspaper Article                              9240 non-null   object \n",
      " 19  X Education Forums                             9240 non-null   object \n",
      " 20  Newspaper                                      9240 non-null   object \n",
      " 21  Digital Advertisement                          9240 non-null   object \n",
      " 22  Through Recommendations                        9240 non-null   object \n",
      " 23  Receive More Updates About Our Courses         9240 non-null   object \n",
      " 24  Tags                                           5887 non-null   object \n",
      " 25  Lead Quality                                   4473 non-null   object \n",
      " 26  Update me on Supply Chain Content              9240 non-null   object \n",
      " 27  Get updates on DM Content                      9240 non-null   object \n",
      " 28  Lead Profile                                   6531 non-null   object \n",
      " 29  City                                           7820 non-null   object \n",
      " 30  Asymmetrique Activity Index                    5022 non-null   object \n",
      " 31  Asymmetrique Profile Index                     5022 non-null   object \n",
      " 32  Asymmetrique Activity Score                    5022 non-null   float64\n",
      " 33  Asymmetrique Profile Score                     5022 non-null   float64\n",
      " 34  I agree to pay the amount through cheque       9240 non-null   object \n",
      " 35  A free copy of Mastering The Interview         9240 non-null   object \n",
      " 36  Last Notable Activity                          9240 non-null   object \n",
      "dtypes: float64(4), int64(3), object(30)\n",
      "memory usage: 2.7+ MB\n"
     ]
    }
   ],
   "source": [
    "leads.info()"
   ]
  },
  {
   "cell_type": "markdown",
   "metadata": {},
   "source": [
    "## Inference :\n",
    "1. There are few categorical variables present in this dataset for which we will need to create dummy variables.\n",
    "2. There are a lot of null values, they needs to be treated accordingly."
   ]
  },
  {
   "cell_type": "code",
   "execution_count": 224,
   "metadata": {
    "execution": {
     "iopub.execute_input": "2022-07-31T09:26:38.689544Z",
     "iopub.status.busy": "2022-07-31T09:26:38.689120Z",
     "iopub.status.idle": "2022-07-31T09:26:38.728496Z",
     "shell.execute_reply": "2022-07-31T09:26:38.727113Z",
     "shell.execute_reply.started": "2022-07-31T09:26:38.689505Z"
    }
   },
   "outputs": [
    {
     "data": {
      "text/html": [
       "<div>\n",
       "<style scoped>\n",
       "    .dataframe tbody tr th:only-of-type {\n",
       "        vertical-align: middle;\n",
       "    }\n",
       "\n",
       "    .dataframe tbody tr th {\n",
       "        vertical-align: top;\n",
       "    }\n",
       "\n",
       "    .dataframe thead th {\n",
       "        text-align: right;\n",
       "    }\n",
       "</style>\n",
       "<table border=\"1\" class=\"dataframe\">\n",
       "  <thead>\n",
       "    <tr style=\"text-align: right;\">\n",
       "      <th></th>\n",
       "      <th>Lead Number</th>\n",
       "      <th>Converted</th>\n",
       "      <th>TotalVisits</th>\n",
       "      <th>Total Time Spent on Website</th>\n",
       "      <th>Page Views Per Visit</th>\n",
       "      <th>Asymmetrique Activity Score</th>\n",
       "      <th>Asymmetrique Profile Score</th>\n",
       "    </tr>\n",
       "  </thead>\n",
       "  <tbody>\n",
       "    <tr>\n",
       "      <th>count</th>\n",
       "      <td>9240.000000</td>\n",
       "      <td>9240.000000</td>\n",
       "      <td>9103.000000</td>\n",
       "      <td>9240.000000</td>\n",
       "      <td>9103.000000</td>\n",
       "      <td>5022.000000</td>\n",
       "      <td>5022.000000</td>\n",
       "    </tr>\n",
       "    <tr>\n",
       "      <th>mean</th>\n",
       "      <td>617188.435606</td>\n",
       "      <td>0.385390</td>\n",
       "      <td>3.445238</td>\n",
       "      <td>487.698268</td>\n",
       "      <td>2.362820</td>\n",
       "      <td>14.306252</td>\n",
       "      <td>16.344883</td>\n",
       "    </tr>\n",
       "    <tr>\n",
       "      <th>std</th>\n",
       "      <td>23405.995698</td>\n",
       "      <td>0.486714</td>\n",
       "      <td>4.854853</td>\n",
       "      <td>548.021466</td>\n",
       "      <td>2.161418</td>\n",
       "      <td>1.386694</td>\n",
       "      <td>1.811395</td>\n",
       "    </tr>\n",
       "    <tr>\n",
       "      <th>min</th>\n",
       "      <td>579533.000000</td>\n",
       "      <td>0.000000</td>\n",
       "      <td>0.000000</td>\n",
       "      <td>0.000000</td>\n",
       "      <td>0.000000</td>\n",
       "      <td>7.000000</td>\n",
       "      <td>11.000000</td>\n",
       "    </tr>\n",
       "    <tr>\n",
       "      <th>25%</th>\n",
       "      <td>596484.500000</td>\n",
       "      <td>0.000000</td>\n",
       "      <td>1.000000</td>\n",
       "      <td>12.000000</td>\n",
       "      <td>1.000000</td>\n",
       "      <td>14.000000</td>\n",
       "      <td>15.000000</td>\n",
       "    </tr>\n",
       "    <tr>\n",
       "      <th>50%</th>\n",
       "      <td>615479.000000</td>\n",
       "      <td>0.000000</td>\n",
       "      <td>3.000000</td>\n",
       "      <td>248.000000</td>\n",
       "      <td>2.000000</td>\n",
       "      <td>14.000000</td>\n",
       "      <td>16.000000</td>\n",
       "    </tr>\n",
       "    <tr>\n",
       "      <th>75%</th>\n",
       "      <td>637387.250000</td>\n",
       "      <td>1.000000</td>\n",
       "      <td>5.000000</td>\n",
       "      <td>936.000000</td>\n",
       "      <td>3.000000</td>\n",
       "      <td>15.000000</td>\n",
       "      <td>18.000000</td>\n",
       "    </tr>\n",
       "    <tr>\n",
       "      <th>max</th>\n",
       "      <td>660737.000000</td>\n",
       "      <td>1.000000</td>\n",
       "      <td>251.000000</td>\n",
       "      <td>2272.000000</td>\n",
       "      <td>55.000000</td>\n",
       "      <td>18.000000</td>\n",
       "      <td>20.000000</td>\n",
       "    </tr>\n",
       "  </tbody>\n",
       "</table>\n",
       "</div>"
      ],
      "text/plain": [
       "         Lead Number    Converted  TotalVisits  Total Time Spent on Website  \\\n",
       "count    9240.000000  9240.000000  9103.000000                  9240.000000   \n",
       "mean   617188.435606     0.385390     3.445238                   487.698268   \n",
       "std     23405.995698     0.486714     4.854853                   548.021466   \n",
       "min    579533.000000     0.000000     0.000000                     0.000000   \n",
       "25%    596484.500000     0.000000     1.000000                    12.000000   \n",
       "50%    615479.000000     0.000000     3.000000                   248.000000   \n",
       "75%    637387.250000     1.000000     5.000000                   936.000000   \n",
       "max    660737.000000     1.000000   251.000000                  2272.000000   \n",
       "\n",
       "       Page Views Per Visit  Asymmetrique Activity Score  \\\n",
       "count           9103.000000                  5022.000000   \n",
       "mean               2.362820                    14.306252   \n",
       "std                2.161418                     1.386694   \n",
       "min                0.000000                     7.000000   \n",
       "25%                1.000000                    14.000000   \n",
       "50%                2.000000                    14.000000   \n",
       "75%                3.000000                    15.000000   \n",
       "max               55.000000                    18.000000   \n",
       "\n",
       "       Asymmetrique Profile Score  \n",
       "count                 5022.000000  \n",
       "mean                    16.344883  \n",
       "std                      1.811395  \n",
       "min                     11.000000  \n",
       "25%                     15.000000  \n",
       "50%                     16.000000  \n",
       "75%                     18.000000  \n",
       "max                     20.000000  "
      ]
     },
     "execution_count": 224,
     "metadata": {},
     "output_type": "execute_result"
    }
   ],
   "source": [
    "leads.describe()"
   ]
  },
  {
   "cell_type": "code",
   "execution_count": 225,
   "metadata": {
    "execution": {
     "iopub.execute_input": "2022-07-31T09:26:38.758908Z",
     "iopub.status.busy": "2022-07-31T09:26:38.758154Z",
     "iopub.status.idle": "2022-07-31T09:26:38.765293Z",
     "shell.execute_reply": "2022-07-31T09:26:38.764394Z",
     "shell.execute_reply.started": "2022-07-31T09:26:38.758864Z"
    }
   },
   "outputs": [],
   "source": [
    "# User Defined Function to see the null values and null values distrbution in the data set\n",
    "\n",
    "def see_nulls(df):\n",
    "\n",
    "    null_count = df.isnull().sum()\n",
    "    null_perc = round(df.isnull().mean()*100)\n",
    "\n",
    "    nulls = pd.DataFrame({\"count_nulls\" : null_count,\"%nulls\" : null_perc})\n",
    "    nulls.sort_values(by = 'count_nulls', ascending = False, inplace = True)\n",
    "    \n",
    "    return nulls"
   ]
  },
  {
   "cell_type": "code",
   "execution_count": 226,
   "metadata": {
    "execution": {
     "iopub.execute_input": "2022-07-31T09:26:38.833127Z",
     "iopub.status.busy": "2022-07-31T09:26:38.832100Z",
     "iopub.status.idle": "2022-07-31T09:26:38.911536Z",
     "shell.execute_reply": "2022-07-31T09:26:38.910455Z",
     "shell.execute_reply.started": "2022-07-31T09:26:38.833070Z"
    }
   },
   "outputs": [
    {
     "data": {
      "text/html": [
       "<div>\n",
       "<style scoped>\n",
       "    .dataframe tbody tr th:only-of-type {\n",
       "        vertical-align: middle;\n",
       "    }\n",
       "\n",
       "    .dataframe tbody tr th {\n",
       "        vertical-align: top;\n",
       "    }\n",
       "\n",
       "    .dataframe thead th {\n",
       "        text-align: right;\n",
       "    }\n",
       "</style>\n",
       "<table border=\"1\" class=\"dataframe\">\n",
       "  <thead>\n",
       "    <tr style=\"text-align: right;\">\n",
       "      <th></th>\n",
       "      <th>count_nulls</th>\n",
       "      <th>%nulls</th>\n",
       "    </tr>\n",
       "  </thead>\n",
       "  <tbody>\n",
       "    <tr>\n",
       "      <th>Lead Quality</th>\n",
       "      <td>4767</td>\n",
       "      <td>52.0</td>\n",
       "    </tr>\n",
       "    <tr>\n",
       "      <th>Asymmetrique Activity Index</th>\n",
       "      <td>4218</td>\n",
       "      <td>46.0</td>\n",
       "    </tr>\n",
       "    <tr>\n",
       "      <th>Asymmetrique Profile Score</th>\n",
       "      <td>4218</td>\n",
       "      <td>46.0</td>\n",
       "    </tr>\n",
       "    <tr>\n",
       "      <th>Asymmetrique Activity Score</th>\n",
       "      <td>4218</td>\n",
       "      <td>46.0</td>\n",
       "    </tr>\n",
       "    <tr>\n",
       "      <th>Asymmetrique Profile Index</th>\n",
       "      <td>4218</td>\n",
       "      <td>46.0</td>\n",
       "    </tr>\n",
       "    <tr>\n",
       "      <th>Tags</th>\n",
       "      <td>3353</td>\n",
       "      <td>36.0</td>\n",
       "    </tr>\n",
       "    <tr>\n",
       "      <th>Lead Profile</th>\n",
       "      <td>2709</td>\n",
       "      <td>29.0</td>\n",
       "    </tr>\n",
       "    <tr>\n",
       "      <th>What matters most to you in choosing a course</th>\n",
       "      <td>2709</td>\n",
       "      <td>29.0</td>\n",
       "    </tr>\n",
       "    <tr>\n",
       "      <th>What is your current occupation</th>\n",
       "      <td>2690</td>\n",
       "      <td>29.0</td>\n",
       "    </tr>\n",
       "    <tr>\n",
       "      <th>Country</th>\n",
       "      <td>2461</td>\n",
       "      <td>27.0</td>\n",
       "    </tr>\n",
       "    <tr>\n",
       "      <th>How did you hear about X Education</th>\n",
       "      <td>2207</td>\n",
       "      <td>24.0</td>\n",
       "    </tr>\n",
       "    <tr>\n",
       "      <th>Specialization</th>\n",
       "      <td>1438</td>\n",
       "      <td>16.0</td>\n",
       "    </tr>\n",
       "    <tr>\n",
       "      <th>City</th>\n",
       "      <td>1420</td>\n",
       "      <td>15.0</td>\n",
       "    </tr>\n",
       "    <tr>\n",
       "      <th>Page Views Per Visit</th>\n",
       "      <td>137</td>\n",
       "      <td>1.0</td>\n",
       "    </tr>\n",
       "    <tr>\n",
       "      <th>TotalVisits</th>\n",
       "      <td>137</td>\n",
       "      <td>1.0</td>\n",
       "    </tr>\n",
       "    <tr>\n",
       "      <th>Last Activity</th>\n",
       "      <td>103</td>\n",
       "      <td>1.0</td>\n",
       "    </tr>\n",
       "    <tr>\n",
       "      <th>Lead Source</th>\n",
       "      <td>36</td>\n",
       "      <td>0.0</td>\n",
       "    </tr>\n",
       "    <tr>\n",
       "      <th>Receive More Updates About Our Courses</th>\n",
       "      <td>0</td>\n",
       "      <td>0.0</td>\n",
       "    </tr>\n",
       "    <tr>\n",
       "      <th>I agree to pay the amount through cheque</th>\n",
       "      <td>0</td>\n",
       "      <td>0.0</td>\n",
       "    </tr>\n",
       "    <tr>\n",
       "      <th>Get updates on DM Content</th>\n",
       "      <td>0</td>\n",
       "      <td>0.0</td>\n",
       "    </tr>\n",
       "    <tr>\n",
       "      <th>Update me on Supply Chain Content</th>\n",
       "      <td>0</td>\n",
       "      <td>0.0</td>\n",
       "    </tr>\n",
       "    <tr>\n",
       "      <th>A free copy of Mastering The Interview</th>\n",
       "      <td>0</td>\n",
       "      <td>0.0</td>\n",
       "    </tr>\n",
       "    <tr>\n",
       "      <th>Prospect ID</th>\n",
       "      <td>0</td>\n",
       "      <td>0.0</td>\n",
       "    </tr>\n",
       "    <tr>\n",
       "      <th>Newspaper Article</th>\n",
       "      <td>0</td>\n",
       "      <td>0.0</td>\n",
       "    </tr>\n",
       "    <tr>\n",
       "      <th>Through Recommendations</th>\n",
       "      <td>0</td>\n",
       "      <td>0.0</td>\n",
       "    </tr>\n",
       "    <tr>\n",
       "      <th>Digital Advertisement</th>\n",
       "      <td>0</td>\n",
       "      <td>0.0</td>\n",
       "    </tr>\n",
       "    <tr>\n",
       "      <th>Newspaper</th>\n",
       "      <td>0</td>\n",
       "      <td>0.0</td>\n",
       "    </tr>\n",
       "    <tr>\n",
       "      <th>X Education Forums</th>\n",
       "      <td>0</td>\n",
       "      <td>0.0</td>\n",
       "    </tr>\n",
       "    <tr>\n",
       "      <th>Lead Number</th>\n",
       "      <td>0</td>\n",
       "      <td>0.0</td>\n",
       "    </tr>\n",
       "    <tr>\n",
       "      <th>Magazine</th>\n",
       "      <td>0</td>\n",
       "      <td>0.0</td>\n",
       "    </tr>\n",
       "    <tr>\n",
       "      <th>Search</th>\n",
       "      <td>0</td>\n",
       "      <td>0.0</td>\n",
       "    </tr>\n",
       "    <tr>\n",
       "      <th>Total Time Spent on Website</th>\n",
       "      <td>0</td>\n",
       "      <td>0.0</td>\n",
       "    </tr>\n",
       "    <tr>\n",
       "      <th>Converted</th>\n",
       "      <td>0</td>\n",
       "      <td>0.0</td>\n",
       "    </tr>\n",
       "    <tr>\n",
       "      <th>Do Not Call</th>\n",
       "      <td>0</td>\n",
       "      <td>0.0</td>\n",
       "    </tr>\n",
       "    <tr>\n",
       "      <th>Do Not Email</th>\n",
       "      <td>0</td>\n",
       "      <td>0.0</td>\n",
       "    </tr>\n",
       "    <tr>\n",
       "      <th>Lead Origin</th>\n",
       "      <td>0</td>\n",
       "      <td>0.0</td>\n",
       "    </tr>\n",
       "    <tr>\n",
       "      <th>Last Notable Activity</th>\n",
       "      <td>0</td>\n",
       "      <td>0.0</td>\n",
       "    </tr>\n",
       "  </tbody>\n",
       "</table>\n",
       "</div>"
      ],
      "text/plain": [
       "                                               count_nulls  %nulls\n",
       "Lead Quality                                          4767    52.0\n",
       "Asymmetrique Activity Index                           4218    46.0\n",
       "Asymmetrique Profile Score                            4218    46.0\n",
       "Asymmetrique Activity Score                           4218    46.0\n",
       "Asymmetrique Profile Index                            4218    46.0\n",
       "Tags                                                  3353    36.0\n",
       "Lead Profile                                          2709    29.0\n",
       "What matters most to you in choosing a course         2709    29.0\n",
       "What is your current occupation                       2690    29.0\n",
       "Country                                               2461    27.0\n",
       "How did you hear about X Education                    2207    24.0\n",
       "Specialization                                        1438    16.0\n",
       "City                                                  1420    15.0\n",
       "Page Views Per Visit                                   137     1.0\n",
       "TotalVisits                                            137     1.0\n",
       "Last Activity                                          103     1.0\n",
       "Lead Source                                             36     0.0\n",
       "Receive More Updates About Our Courses                   0     0.0\n",
       "I agree to pay the amount through cheque                 0     0.0\n",
       "Get updates on DM Content                                0     0.0\n",
       "Update me on Supply Chain Content                        0     0.0\n",
       "A free copy of Mastering The Interview                   0     0.0\n",
       "Prospect ID                                              0     0.0\n",
       "Newspaper Article                                        0     0.0\n",
       "Through Recommendations                                  0     0.0\n",
       "Digital Advertisement                                    0     0.0\n",
       "Newspaper                                                0     0.0\n",
       "X Education Forums                                       0     0.0\n",
       "Lead Number                                              0     0.0\n",
       "Magazine                                                 0     0.0\n",
       "Search                                                   0     0.0\n",
       "Total Time Spent on Website                              0     0.0\n",
       "Converted                                                0     0.0\n",
       "Do Not Call                                              0     0.0\n",
       "Do Not Email                                             0     0.0\n",
       "Lead Origin                                              0     0.0\n",
       "Last Notable Activity                                    0     0.0"
      ]
     },
     "execution_count": 226,
     "metadata": {},
     "output_type": "execute_result"
    }
   ],
   "source": [
    "see_nulls(leads)"
   ]
  },
  {
   "cell_type": "markdown",
   "metadata": {},
   "source": [
    "### Inference :\n",
    "* There are a lot of missing values in the data set, the columns with high number of mising values are not useful for objective.\n",
    "* since we have around 9000 datapoints, we need to drop those variables with more than 3000 missing values in it."
   ]
  },
  {
   "cell_type": "code",
   "execution_count": 227,
   "metadata": {
    "execution": {
     "iopub.execute_input": "2022-07-31T09:26:38.914699Z",
     "iopub.status.busy": "2022-07-31T09:26:38.913959Z",
     "iopub.status.idle": "2022-07-31T09:26:38.955128Z",
     "shell.execute_reply": "2022-07-31T09:26:38.954186Z",
     "shell.execute_reply.started": "2022-07-31T09:26:38.914649Z"
    }
   },
   "outputs": [],
   "source": [
    "# Dropping all coulmns having more than 3000 rows of null values\n",
    "\n",
    "null_count = leads.isnull().sum()\n",
    "drop_high_null_cols = leads.columns[ null_count > 3000 ]\n",
    "\n",
    "leads.drop(columns = drop_high_null_cols, inplace = True)"
   ]
  },
  {
   "cell_type": "code",
   "execution_count": 228,
   "metadata": {
    "execution": {
     "iopub.execute_input": "2022-07-31T09:26:38.970548Z",
     "iopub.status.busy": "2022-07-31T09:26:38.969853Z",
     "iopub.status.idle": "2022-07-31T09:26:39.040663Z",
     "shell.execute_reply": "2022-07-31T09:26:39.039333Z",
     "shell.execute_reply.started": "2022-07-31T09:26:38.970508Z"
    }
   },
   "outputs": [
    {
     "data": {
      "text/html": [
       "<div>\n",
       "<style scoped>\n",
       "    .dataframe tbody tr th:only-of-type {\n",
       "        vertical-align: middle;\n",
       "    }\n",
       "\n",
       "    .dataframe tbody tr th {\n",
       "        vertical-align: top;\n",
       "    }\n",
       "\n",
       "    .dataframe thead th {\n",
       "        text-align: right;\n",
       "    }\n",
       "</style>\n",
       "<table border=\"1\" class=\"dataframe\">\n",
       "  <thead>\n",
       "    <tr style=\"text-align: right;\">\n",
       "      <th></th>\n",
       "      <th>count_nulls</th>\n",
       "      <th>%nulls</th>\n",
       "    </tr>\n",
       "  </thead>\n",
       "  <tbody>\n",
       "    <tr>\n",
       "      <th>What matters most to you in choosing a course</th>\n",
       "      <td>2709</td>\n",
       "      <td>29.0</td>\n",
       "    </tr>\n",
       "    <tr>\n",
       "      <th>Lead Profile</th>\n",
       "      <td>2709</td>\n",
       "      <td>29.0</td>\n",
       "    </tr>\n",
       "    <tr>\n",
       "      <th>What is your current occupation</th>\n",
       "      <td>2690</td>\n",
       "      <td>29.0</td>\n",
       "    </tr>\n",
       "    <tr>\n",
       "      <th>Country</th>\n",
       "      <td>2461</td>\n",
       "      <td>27.0</td>\n",
       "    </tr>\n",
       "    <tr>\n",
       "      <th>How did you hear about X Education</th>\n",
       "      <td>2207</td>\n",
       "      <td>24.0</td>\n",
       "    </tr>\n",
       "    <tr>\n",
       "      <th>Specialization</th>\n",
       "      <td>1438</td>\n",
       "      <td>16.0</td>\n",
       "    </tr>\n",
       "    <tr>\n",
       "      <th>City</th>\n",
       "      <td>1420</td>\n",
       "      <td>15.0</td>\n",
       "    </tr>\n",
       "    <tr>\n",
       "      <th>Page Views Per Visit</th>\n",
       "      <td>137</td>\n",
       "      <td>1.0</td>\n",
       "    </tr>\n",
       "    <tr>\n",
       "      <th>TotalVisits</th>\n",
       "      <td>137</td>\n",
       "      <td>1.0</td>\n",
       "    </tr>\n",
       "    <tr>\n",
       "      <th>Last Activity</th>\n",
       "      <td>103</td>\n",
       "      <td>1.0</td>\n",
       "    </tr>\n",
       "    <tr>\n",
       "      <th>Lead Source</th>\n",
       "      <td>36</td>\n",
       "      <td>0.0</td>\n",
       "    </tr>\n",
       "    <tr>\n",
       "      <th>Get updates on DM Content</th>\n",
       "      <td>0</td>\n",
       "      <td>0.0</td>\n",
       "    </tr>\n",
       "    <tr>\n",
       "      <th>Newspaper</th>\n",
       "      <td>0</td>\n",
       "      <td>0.0</td>\n",
       "    </tr>\n",
       "    <tr>\n",
       "      <th>I agree to pay the amount through cheque</th>\n",
       "      <td>0</td>\n",
       "      <td>0.0</td>\n",
       "    </tr>\n",
       "    <tr>\n",
       "      <th>A free copy of Mastering The Interview</th>\n",
       "      <td>0</td>\n",
       "      <td>0.0</td>\n",
       "    </tr>\n",
       "    <tr>\n",
       "      <th>Update me on Supply Chain Content</th>\n",
       "      <td>0</td>\n",
       "      <td>0.0</td>\n",
       "    </tr>\n",
       "    <tr>\n",
       "      <th>Receive More Updates About Our Courses</th>\n",
       "      <td>0</td>\n",
       "      <td>0.0</td>\n",
       "    </tr>\n",
       "    <tr>\n",
       "      <th>Through Recommendations</th>\n",
       "      <td>0</td>\n",
       "      <td>0.0</td>\n",
       "    </tr>\n",
       "    <tr>\n",
       "      <th>Digital Advertisement</th>\n",
       "      <td>0</td>\n",
       "      <td>0.0</td>\n",
       "    </tr>\n",
       "    <tr>\n",
       "      <th>Prospect ID</th>\n",
       "      <td>0</td>\n",
       "      <td>0.0</td>\n",
       "    </tr>\n",
       "    <tr>\n",
       "      <th>X Education Forums</th>\n",
       "      <td>0</td>\n",
       "      <td>0.0</td>\n",
       "    </tr>\n",
       "    <tr>\n",
       "      <th>Newspaper Article</th>\n",
       "      <td>0</td>\n",
       "      <td>0.0</td>\n",
       "    </tr>\n",
       "    <tr>\n",
       "      <th>Magazine</th>\n",
       "      <td>0</td>\n",
       "      <td>0.0</td>\n",
       "    </tr>\n",
       "    <tr>\n",
       "      <th>Search</th>\n",
       "      <td>0</td>\n",
       "      <td>0.0</td>\n",
       "    </tr>\n",
       "    <tr>\n",
       "      <th>Lead Number</th>\n",
       "      <td>0</td>\n",
       "      <td>0.0</td>\n",
       "    </tr>\n",
       "    <tr>\n",
       "      <th>Total Time Spent on Website</th>\n",
       "      <td>0</td>\n",
       "      <td>0.0</td>\n",
       "    </tr>\n",
       "    <tr>\n",
       "      <th>Converted</th>\n",
       "      <td>0</td>\n",
       "      <td>0.0</td>\n",
       "    </tr>\n",
       "    <tr>\n",
       "      <th>Do Not Call</th>\n",
       "      <td>0</td>\n",
       "      <td>0.0</td>\n",
       "    </tr>\n",
       "    <tr>\n",
       "      <th>Do Not Email</th>\n",
       "      <td>0</td>\n",
       "      <td>0.0</td>\n",
       "    </tr>\n",
       "    <tr>\n",
       "      <th>Lead Origin</th>\n",
       "      <td>0</td>\n",
       "      <td>0.0</td>\n",
       "    </tr>\n",
       "    <tr>\n",
       "      <th>Last Notable Activity</th>\n",
       "      <td>0</td>\n",
       "      <td>0.0</td>\n",
       "    </tr>\n",
       "  </tbody>\n",
       "</table>\n",
       "</div>"
      ],
      "text/plain": [
       "                                               count_nulls  %nulls\n",
       "What matters most to you in choosing a course         2709    29.0\n",
       "Lead Profile                                          2709    29.0\n",
       "What is your current occupation                       2690    29.0\n",
       "Country                                               2461    27.0\n",
       "How did you hear about X Education                    2207    24.0\n",
       "Specialization                                        1438    16.0\n",
       "City                                                  1420    15.0\n",
       "Page Views Per Visit                                   137     1.0\n",
       "TotalVisits                                            137     1.0\n",
       "Last Activity                                          103     1.0\n",
       "Lead Source                                             36     0.0\n",
       "Get updates on DM Content                                0     0.0\n",
       "Newspaper                                                0     0.0\n",
       "I agree to pay the amount through cheque                 0     0.0\n",
       "A free copy of Mastering The Interview                   0     0.0\n",
       "Update me on Supply Chain Content                        0     0.0\n",
       "Receive More Updates About Our Courses                   0     0.0\n",
       "Through Recommendations                                  0     0.0\n",
       "Digital Advertisement                                    0     0.0\n",
       "Prospect ID                                              0     0.0\n",
       "X Education Forums                                       0     0.0\n",
       "Newspaper Article                                        0     0.0\n",
       "Magazine                                                 0     0.0\n",
       "Search                                                   0     0.0\n",
       "Lead Number                                              0     0.0\n",
       "Total Time Spent on Website                              0     0.0\n",
       "Converted                                                0     0.0\n",
       "Do Not Call                                              0     0.0\n",
       "Do Not Email                                             0     0.0\n",
       "Lead Origin                                              0     0.0\n",
       "Last Notable Activity                                    0     0.0"
      ]
     },
     "execution_count": 228,
     "metadata": {},
     "output_type": "execute_result"
    }
   ],
   "source": [
    "# Checking the null values again\n",
    "see_nulls(leads)"
   ]
  },
  {
   "cell_type": "markdown",
   "metadata": {},
   "source": [
    "### Dropping the unessecery varibales "
   ]
  },
  {
   "cell_type": "code",
   "execution_count": 229,
   "metadata": {
    "execution": {
     "iopub.execute_input": "2022-07-31T09:26:39.043857Z",
     "iopub.status.busy": "2022-07-31T09:26:39.042721Z",
     "iopub.status.idle": "2022-07-31T09:26:39.053024Z",
     "shell.execute_reply": "2022-07-31T09:26:39.052013Z",
     "shell.execute_reply.started": "2022-07-31T09:26:39.043810Z"
    }
   },
   "outputs": [],
   "source": [
    "# Since Prospect Id, Lead Number , City & Country does not make any difference in the context of the givem objective, we can drop those variables\n",
    "\n",
    "drop_cols = ['Prospect ID','Lead Number','City','Country']\n",
    "leads.drop(columns = drop_cols, inplace = True)"
   ]
  },
  {
   "cell_type": "code",
   "execution_count": 230,
   "metadata": {
    "execution": {
     "iopub.execute_input": "2022-07-31T09:26:39.116013Z",
     "iopub.status.busy": "2022-07-31T09:26:39.115324Z",
     "iopub.status.idle": "2022-07-31T09:26:39.180134Z",
     "shell.execute_reply": "2022-07-31T09:26:39.178892Z",
     "shell.execute_reply.started": "2022-07-31T09:26:39.115972Z"
    }
   },
   "outputs": [
    {
     "data": {
      "text/html": [
       "<div>\n",
       "<style scoped>\n",
       "    .dataframe tbody tr th:only-of-type {\n",
       "        vertical-align: middle;\n",
       "    }\n",
       "\n",
       "    .dataframe tbody tr th {\n",
       "        vertical-align: top;\n",
       "    }\n",
       "\n",
       "    .dataframe thead th {\n",
       "        text-align: right;\n",
       "    }\n",
       "</style>\n",
       "<table border=\"1\" class=\"dataframe\">\n",
       "  <thead>\n",
       "    <tr style=\"text-align: right;\">\n",
       "      <th></th>\n",
       "      <th>count_nulls</th>\n",
       "      <th>%nulls</th>\n",
       "    </tr>\n",
       "  </thead>\n",
       "  <tbody>\n",
       "    <tr>\n",
       "      <th>Lead Profile</th>\n",
       "      <td>2709</td>\n",
       "      <td>29.0</td>\n",
       "    </tr>\n",
       "    <tr>\n",
       "      <th>What matters most to you in choosing a course</th>\n",
       "      <td>2709</td>\n",
       "      <td>29.0</td>\n",
       "    </tr>\n",
       "    <tr>\n",
       "      <th>What is your current occupation</th>\n",
       "      <td>2690</td>\n",
       "      <td>29.0</td>\n",
       "    </tr>\n",
       "    <tr>\n",
       "      <th>How did you hear about X Education</th>\n",
       "      <td>2207</td>\n",
       "      <td>24.0</td>\n",
       "    </tr>\n",
       "    <tr>\n",
       "      <th>Specialization</th>\n",
       "      <td>1438</td>\n",
       "      <td>16.0</td>\n",
       "    </tr>\n",
       "    <tr>\n",
       "      <th>TotalVisits</th>\n",
       "      <td>137</td>\n",
       "      <td>1.0</td>\n",
       "    </tr>\n",
       "    <tr>\n",
       "      <th>Page Views Per Visit</th>\n",
       "      <td>137</td>\n",
       "      <td>1.0</td>\n",
       "    </tr>\n",
       "    <tr>\n",
       "      <th>Last Activity</th>\n",
       "      <td>103</td>\n",
       "      <td>1.0</td>\n",
       "    </tr>\n",
       "    <tr>\n",
       "      <th>Lead Source</th>\n",
       "      <td>36</td>\n",
       "      <td>0.0</td>\n",
       "    </tr>\n",
       "    <tr>\n",
       "      <th>Receive More Updates About Our Courses</th>\n",
       "      <td>0</td>\n",
       "      <td>0.0</td>\n",
       "    </tr>\n",
       "    <tr>\n",
       "      <th>Update me on Supply Chain Content</th>\n",
       "      <td>0</td>\n",
       "      <td>0.0</td>\n",
       "    </tr>\n",
       "    <tr>\n",
       "      <th>Lead Origin</th>\n",
       "      <td>0</td>\n",
       "      <td>0.0</td>\n",
       "    </tr>\n",
       "    <tr>\n",
       "      <th>Digital Advertisement</th>\n",
       "      <td>0</td>\n",
       "      <td>0.0</td>\n",
       "    </tr>\n",
       "    <tr>\n",
       "      <th>Get updates on DM Content</th>\n",
       "      <td>0</td>\n",
       "      <td>0.0</td>\n",
       "    </tr>\n",
       "    <tr>\n",
       "      <th>I agree to pay the amount through cheque</th>\n",
       "      <td>0</td>\n",
       "      <td>0.0</td>\n",
       "    </tr>\n",
       "    <tr>\n",
       "      <th>A free copy of Mastering The Interview</th>\n",
       "      <td>0</td>\n",
       "      <td>0.0</td>\n",
       "    </tr>\n",
       "    <tr>\n",
       "      <th>Through Recommendations</th>\n",
       "      <td>0</td>\n",
       "      <td>0.0</td>\n",
       "    </tr>\n",
       "    <tr>\n",
       "      <th>Search</th>\n",
       "      <td>0</td>\n",
       "      <td>0.0</td>\n",
       "    </tr>\n",
       "    <tr>\n",
       "      <th>Newspaper</th>\n",
       "      <td>0</td>\n",
       "      <td>0.0</td>\n",
       "    </tr>\n",
       "    <tr>\n",
       "      <th>X Education Forums</th>\n",
       "      <td>0</td>\n",
       "      <td>0.0</td>\n",
       "    </tr>\n",
       "    <tr>\n",
       "      <th>Newspaper Article</th>\n",
       "      <td>0</td>\n",
       "      <td>0.0</td>\n",
       "    </tr>\n",
       "    <tr>\n",
       "      <th>Magazine</th>\n",
       "      <td>0</td>\n",
       "      <td>0.0</td>\n",
       "    </tr>\n",
       "    <tr>\n",
       "      <th>Total Time Spent on Website</th>\n",
       "      <td>0</td>\n",
       "      <td>0.0</td>\n",
       "    </tr>\n",
       "    <tr>\n",
       "      <th>Converted</th>\n",
       "      <td>0</td>\n",
       "      <td>0.0</td>\n",
       "    </tr>\n",
       "    <tr>\n",
       "      <th>Do Not Call</th>\n",
       "      <td>0</td>\n",
       "      <td>0.0</td>\n",
       "    </tr>\n",
       "    <tr>\n",
       "      <th>Do Not Email</th>\n",
       "      <td>0</td>\n",
       "      <td>0.0</td>\n",
       "    </tr>\n",
       "    <tr>\n",
       "      <th>Last Notable Activity</th>\n",
       "      <td>0</td>\n",
       "      <td>0.0</td>\n",
       "    </tr>\n",
       "  </tbody>\n",
       "</table>\n",
       "</div>"
      ],
      "text/plain": [
       "                                               count_nulls  %nulls\n",
       "Lead Profile                                          2709    29.0\n",
       "What matters most to you in choosing a course         2709    29.0\n",
       "What is your current occupation                       2690    29.0\n",
       "How did you hear about X Education                    2207    24.0\n",
       "Specialization                                        1438    16.0\n",
       "TotalVisits                                            137     1.0\n",
       "Page Views Per Visit                                   137     1.0\n",
       "Last Activity                                          103     1.0\n",
       "Lead Source                                             36     0.0\n",
       "Receive More Updates About Our Courses                   0     0.0\n",
       "Update me on Supply Chain Content                        0     0.0\n",
       "Lead Origin                                              0     0.0\n",
       "Digital Advertisement                                    0     0.0\n",
       "Get updates on DM Content                                0     0.0\n",
       "I agree to pay the amount through cheque                 0     0.0\n",
       "A free copy of Mastering The Interview                   0     0.0\n",
       "Through Recommendations                                  0     0.0\n",
       "Search                                                   0     0.0\n",
       "Newspaper                                                0     0.0\n",
       "X Education Forums                                       0     0.0\n",
       "Newspaper Article                                        0     0.0\n",
       "Magazine                                                 0     0.0\n",
       "Total Time Spent on Website                              0     0.0\n",
       "Converted                                                0     0.0\n",
       "Do Not Call                                              0     0.0\n",
       "Do Not Email                                             0     0.0\n",
       "Last Notable Activity                                    0     0.0"
      ]
     },
     "execution_count": 230,
     "metadata": {},
     "output_type": "execute_result"
    }
   ],
   "source": [
    "# Checking the null values again\n",
    "see_nulls(leads)"
   ]
  },
  {
   "cell_type": "markdown",
   "metadata": {},
   "source": [
    "# Note \n",
    "* In the dataset - there are a few columns in which there is a level called 'Select' which means that the student had not selected the option for that particular column which is why it shows 'Select'. \n",
    "* These values are as good as missing values and hence we need to identify count of the level 'Select' in all the columns and threat them accordingly"
   ]
  },
  {
   "cell_type": "code",
   "execution_count": 231,
   "metadata": {
    "execution": {
     "iopub.execute_input": "2022-07-31T09:26:39.189170Z",
     "iopub.status.busy": "2022-07-31T09:26:39.188775Z",
     "iopub.status.idle": "2022-07-31T09:26:39.435433Z",
     "shell.execute_reply": "2022-07-31T09:26:39.434316Z",
     "shell.execute_reply.started": "2022-07-31T09:26:39.189135Z"
    }
   },
   "outputs": [
    {
     "data": {
      "text/html": [
       "<div>\n",
       "<style scoped>\n",
       "    .dataframe tbody tr th:only-of-type {\n",
       "        vertical-align: middle;\n",
       "    }\n",
       "\n",
       "    .dataframe tbody tr th {\n",
       "        vertical-align: top;\n",
       "    }\n",
       "\n",
       "    .dataframe thead th {\n",
       "        text-align: right;\n",
       "    }\n",
       "</style>\n",
       "<table border=\"1\" class=\"dataframe\">\n",
       "  <thead>\n",
       "    <tr style=\"text-align: right;\">\n",
       "      <th></th>\n",
       "      <th>cols</th>\n",
       "      <th>count_of_select</th>\n",
       "    </tr>\n",
       "  </thead>\n",
       "  <tbody>\n",
       "    <tr>\n",
       "      <th>10</th>\n",
       "      <td>How did you hear about X Education</td>\n",
       "      <td>5043</td>\n",
       "    </tr>\n",
       "    <tr>\n",
       "      <th>23</th>\n",
       "      <td>Lead Profile</td>\n",
       "      <td>4146</td>\n",
       "    </tr>\n",
       "    <tr>\n",
       "      <th>9</th>\n",
       "      <td>Specialization</td>\n",
       "      <td>1942</td>\n",
       "    </tr>\n",
       "    <tr>\n",
       "      <th>0</th>\n",
       "      <td>Lead Origin</td>\n",
       "      <td>0</td>\n",
       "    </tr>\n",
       "    <tr>\n",
       "      <th>15</th>\n",
       "      <td>Newspaper Article</td>\n",
       "      <td>0</td>\n",
       "    </tr>\n",
       "    <tr>\n",
       "      <th>25</th>\n",
       "      <td>A free copy of Mastering The Interview</td>\n",
       "      <td>0</td>\n",
       "    </tr>\n",
       "    <tr>\n",
       "      <th>24</th>\n",
       "      <td>I agree to pay the amount through cheque</td>\n",
       "      <td>0</td>\n",
       "    </tr>\n",
       "    <tr>\n",
       "      <th>22</th>\n",
       "      <td>Get updates on DM Content</td>\n",
       "      <td>0</td>\n",
       "    </tr>\n",
       "    <tr>\n",
       "      <th>21</th>\n",
       "      <td>Update me on Supply Chain Content</td>\n",
       "      <td>0</td>\n",
       "    </tr>\n",
       "    <tr>\n",
       "      <th>20</th>\n",
       "      <td>Receive More Updates About Our Courses</td>\n",
       "      <td>0</td>\n",
       "    </tr>\n",
       "    <tr>\n",
       "      <th>19</th>\n",
       "      <td>Through Recommendations</td>\n",
       "      <td>0</td>\n",
       "    </tr>\n",
       "    <tr>\n",
       "      <th>18</th>\n",
       "      <td>Digital Advertisement</td>\n",
       "      <td>0</td>\n",
       "    </tr>\n",
       "    <tr>\n",
       "      <th>17</th>\n",
       "      <td>Newspaper</td>\n",
       "      <td>0</td>\n",
       "    </tr>\n",
       "    <tr>\n",
       "      <th>16</th>\n",
       "      <td>X Education Forums</td>\n",
       "      <td>0</td>\n",
       "    </tr>\n",
       "    <tr>\n",
       "      <th>13</th>\n",
       "      <td>Search</td>\n",
       "      <td>0</td>\n",
       "    </tr>\n",
       "    <tr>\n",
       "      <th>14</th>\n",
       "      <td>Magazine</td>\n",
       "      <td>0</td>\n",
       "    </tr>\n",
       "    <tr>\n",
       "      <th>1</th>\n",
       "      <td>Lead Source</td>\n",
       "      <td>0</td>\n",
       "    </tr>\n",
       "    <tr>\n",
       "      <th>12</th>\n",
       "      <td>What matters most to you in choosing a course</td>\n",
       "      <td>0</td>\n",
       "    </tr>\n",
       "    <tr>\n",
       "      <th>11</th>\n",
       "      <td>What is your current occupation</td>\n",
       "      <td>0</td>\n",
       "    </tr>\n",
       "    <tr>\n",
       "      <th>8</th>\n",
       "      <td>Last Activity</td>\n",
       "      <td>0</td>\n",
       "    </tr>\n",
       "    <tr>\n",
       "      <th>7</th>\n",
       "      <td>Page Views Per Visit</td>\n",
       "      <td>0</td>\n",
       "    </tr>\n",
       "    <tr>\n",
       "      <th>6</th>\n",
       "      <td>Total Time Spent on Website</td>\n",
       "      <td>0</td>\n",
       "    </tr>\n",
       "    <tr>\n",
       "      <th>5</th>\n",
       "      <td>TotalVisits</td>\n",
       "      <td>0</td>\n",
       "    </tr>\n",
       "    <tr>\n",
       "      <th>4</th>\n",
       "      <td>Converted</td>\n",
       "      <td>0</td>\n",
       "    </tr>\n",
       "    <tr>\n",
       "      <th>3</th>\n",
       "      <td>Do Not Call</td>\n",
       "      <td>0</td>\n",
       "    </tr>\n",
       "    <tr>\n",
       "      <th>2</th>\n",
       "      <td>Do Not Email</td>\n",
       "      <td>0</td>\n",
       "    </tr>\n",
       "    <tr>\n",
       "      <th>26</th>\n",
       "      <td>Last Notable Activity</td>\n",
       "      <td>0</td>\n",
       "    </tr>\n",
       "  </tbody>\n",
       "</table>\n",
       "</div>"
      ],
      "text/plain": [
       "                                             cols  count_of_select\n",
       "10             How did you hear about X Education             5043\n",
       "23                                   Lead Profile             4146\n",
       "9                                  Specialization             1942\n",
       "0                                     Lead Origin                0\n",
       "15                              Newspaper Article                0\n",
       "25         A free copy of Mastering The Interview                0\n",
       "24       I agree to pay the amount through cheque                0\n",
       "22                      Get updates on DM Content                0\n",
       "21              Update me on Supply Chain Content                0\n",
       "20         Receive More Updates About Our Courses                0\n",
       "19                        Through Recommendations                0\n",
       "18                          Digital Advertisement                0\n",
       "17                                      Newspaper                0\n",
       "16                             X Education Forums                0\n",
       "13                                         Search                0\n",
       "14                                       Magazine                0\n",
       "1                                     Lead Source                0\n",
       "12  What matters most to you in choosing a course                0\n",
       "11                What is your current occupation                0\n",
       "8                                   Last Activity                0\n",
       "7                            Page Views Per Visit                0\n",
       "6                     Total Time Spent on Website                0\n",
       "5                                     TotalVisits                0\n",
       "4                                       Converted                0\n",
       "3                                     Do Not Call                0\n",
       "2                                    Do Not Email                0\n",
       "26                          Last Notable Activity                0"
      ]
     },
     "execution_count": 231,
     "metadata": {},
     "output_type": "execute_result"
    }
   ],
   "source": [
    "# counting the 'Select item inside the given dataset - select value is as good as null value'\n",
    "\n",
    "cols = leads.columns\n",
    "count_select = [(leads[x].astype('str').str.upper() == 'SELECT').sum() for x in cols] \n",
    "\n",
    "select_df = pd.DataFrame({'cols':cols, 'count_of_select':count_select})\n",
    "select_df.sort_values(by = 'count_of_select', ascending = False)"
   ]
  },
  {
   "cell_type": "markdown",
   "metadata": {},
   "source": [
    "### Inference:\n",
    "Clearly the levels Lead Profile and How did you hear about X Education have a lot of rows which have the value Select which is of no use to the analysis so it's best that we drop them."
   ]
  },
  {
   "cell_type": "code",
   "execution_count": 232,
   "metadata": {
    "execution": {
     "iopub.execute_input": "2022-07-31T09:26:39.437747Z",
     "iopub.status.busy": "2022-07-31T09:26:39.437400Z",
     "iopub.status.idle": "2022-07-31T09:26:39.446070Z",
     "shell.execute_reply": "2022-07-31T09:26:39.444974Z",
     "shell.execute_reply.started": "2022-07-31T09:26:39.437714Z"
    }
   },
   "outputs": [],
   "source": [
    "# Droping the columns with high number of 'Select' in it\n",
    "\n",
    "drop_cols = ['How did you hear about X Education','Lead Profile']\n",
    "leads.drop(columns = drop_cols, inplace = True)"
   ]
  },
  {
   "cell_type": "markdown",
   "metadata": {},
   "source": [
    "### Checking the unique values in each Non-Numereical Columns in the DaraFrame"
   ]
  },
  {
   "cell_type": "code",
   "execution_count": 233,
   "metadata": {
    "execution": {
     "iopub.execute_input": "2022-07-31T09:26:39.447389Z",
     "iopub.status.busy": "2022-07-31T09:26:39.447077Z",
     "iopub.status.idle": "2022-07-31T09:26:39.457057Z",
     "shell.execute_reply": "2022-07-31T09:26:39.456026Z",
     "shell.execute_reply.started": "2022-07-31T09:26:39.447360Z"
    }
   },
   "outputs": [],
   "source": [
    "# printing a table shows the unique values details in each columsn in the data set\n",
    "\n",
    "def see_unique_values(df):\n",
    "    \n",
    "    df = df.select_dtypes(exclude = np.number)\n",
    "\n",
    "    cols = df.columns\n",
    "    unique_value_counts = [df[x].nunique() for x in cols] # count of unique values\n",
    "    unique_values = [list(df[x].value_counts().index) for x in cols ] # list of unique values\n",
    "    value_distribution = [list(round(df[x].value_counts(normalize = True)*100)) for x in cols ] # % distribution of each values \n",
    "\n",
    "    unique_df = pd.DataFrame({'cols':cols, \n",
    "                              'unique_value_count':unique_value_counts, \n",
    "                              'list of unique values':unique_values,'% distribution of uniqiue_values':value_distribution})\n",
    "\n",
    "    unique_df.sort_values(by = 'unique_value_count', ascending = False, inplace = True)\n",
    "    \n",
    "    return unique_df"
   ]
  },
  {
   "cell_type": "code",
   "execution_count": 234,
   "metadata": {
    "execution": {
     "iopub.execute_input": "2022-07-31T09:26:39.459736Z",
     "iopub.status.busy": "2022-07-31T09:26:39.459001Z",
     "iopub.status.idle": "2022-07-31T09:26:39.584707Z",
     "shell.execute_reply": "2022-07-31T09:26:39.583529Z",
     "shell.execute_reply.started": "2022-07-31T09:26:39.459703Z"
    }
   },
   "outputs": [
    {
     "data": {
      "text/html": [
       "<div>\n",
       "<style scoped>\n",
       "    .dataframe tbody tr th:only-of-type {\n",
       "        vertical-align: middle;\n",
       "    }\n",
       "\n",
       "    .dataframe tbody tr th {\n",
       "        vertical-align: top;\n",
       "    }\n",
       "\n",
       "    .dataframe thead th {\n",
       "        text-align: right;\n",
       "    }\n",
       "</style>\n",
       "<table border=\"1\" class=\"dataframe\">\n",
       "  <thead>\n",
       "    <tr style=\"text-align: right;\">\n",
       "      <th></th>\n",
       "      <th>cols</th>\n",
       "      <th>unique_value_count</th>\n",
       "      <th>list of unique values</th>\n",
       "      <th>% distribution of uniqiue_values</th>\n",
       "    </tr>\n",
       "  </thead>\n",
       "  <tbody>\n",
       "    <tr>\n",
       "      <th>1</th>\n",
       "      <td>Lead Source</td>\n",
       "      <td>21</td>\n",
       "      <td>[Google, Direct Traffic, Olark Chat, Organic S...</td>\n",
       "      <td>[31.0, 28.0, 19.0, 13.0, 6.0, 2.0, 1.0, 1.0, 0...</td>\n",
       "    </tr>\n",
       "    <tr>\n",
       "      <th>5</th>\n",
       "      <td>Specialization</td>\n",
       "      <td>19</td>\n",
       "      <td>[Select, Finance Management, Human Resource Ma...</td>\n",
       "      <td>[25.0, 13.0, 11.0, 11.0, 6.0, 5.0, 5.0, 4.0, 4...</td>\n",
       "    </tr>\n",
       "    <tr>\n",
       "      <th>4</th>\n",
       "      <td>Last Activity</td>\n",
       "      <td>17</td>\n",
       "      <td>[Email Opened, SMS Sent, Olark Chat Conversati...</td>\n",
       "      <td>[38.0, 30.0, 11.0, 7.0, 5.0, 4.0, 3.0, 1.0, 1....</td>\n",
       "    </tr>\n",
       "    <tr>\n",
       "      <th>20</th>\n",
       "      <td>Last Notable Activity</td>\n",
       "      <td>16</td>\n",
       "      <td>[Modified, Email Opened, SMS Sent, Page Visite...</td>\n",
       "      <td>[37.0, 31.0, 24.0, 3.0, 2.0, 2.0, 1.0, 1.0, 0....</td>\n",
       "    </tr>\n",
       "    <tr>\n",
       "      <th>6</th>\n",
       "      <td>What is your current occupation</td>\n",
       "      <td>6</td>\n",
       "      <td>[Unemployed, Working Professional, Student, Ot...</td>\n",
       "      <td>[85.0, 11.0, 3.0, 0.0, 0.0, 0.0]</td>\n",
       "    </tr>\n",
       "    <tr>\n",
       "      <th>0</th>\n",
       "      <td>Lead Origin</td>\n",
       "      <td>5</td>\n",
       "      <td>[Landing Page Submission, API, Lead Add Form, ...</td>\n",
       "      <td>[53.0, 39.0, 8.0, 1.0, 0.0]</td>\n",
       "    </tr>\n",
       "    <tr>\n",
       "      <th>7</th>\n",
       "      <td>What matters most to you in choosing a course</td>\n",
       "      <td>3</td>\n",
       "      <td>[Better Career Prospects, Flexibility &amp; Conven...</td>\n",
       "      <td>[100.0, 0.0, 0.0]</td>\n",
       "    </tr>\n",
       "    <tr>\n",
       "      <th>3</th>\n",
       "      <td>Do Not Call</td>\n",
       "      <td>2</td>\n",
       "      <td>[No, Yes]</td>\n",
       "      <td>[100.0, 0.0]</td>\n",
       "    </tr>\n",
       "    <tr>\n",
       "      <th>8</th>\n",
       "      <td>Search</td>\n",
       "      <td>2</td>\n",
       "      <td>[No, Yes]</td>\n",
       "      <td>[100.0, 0.0]</td>\n",
       "    </tr>\n",
       "    <tr>\n",
       "      <th>2</th>\n",
       "      <td>Do Not Email</td>\n",
       "      <td>2</td>\n",
       "      <td>[No, Yes]</td>\n",
       "      <td>[92.0, 8.0]</td>\n",
       "    </tr>\n",
       "    <tr>\n",
       "      <th>11</th>\n",
       "      <td>X Education Forums</td>\n",
       "      <td>2</td>\n",
       "      <td>[No, Yes]</td>\n",
       "      <td>[100.0, 0.0]</td>\n",
       "    </tr>\n",
       "    <tr>\n",
       "      <th>12</th>\n",
       "      <td>Newspaper</td>\n",
       "      <td>2</td>\n",
       "      <td>[No, Yes]</td>\n",
       "      <td>[100.0, 0.0]</td>\n",
       "    </tr>\n",
       "    <tr>\n",
       "      <th>13</th>\n",
       "      <td>Digital Advertisement</td>\n",
       "      <td>2</td>\n",
       "      <td>[No, Yes]</td>\n",
       "      <td>[100.0, 0.0]</td>\n",
       "    </tr>\n",
       "    <tr>\n",
       "      <th>14</th>\n",
       "      <td>Through Recommendations</td>\n",
       "      <td>2</td>\n",
       "      <td>[No, Yes]</td>\n",
       "      <td>[100.0, 0.0]</td>\n",
       "    </tr>\n",
       "    <tr>\n",
       "      <th>19</th>\n",
       "      <td>A free copy of Mastering The Interview</td>\n",
       "      <td>2</td>\n",
       "      <td>[No, Yes]</td>\n",
       "      <td>[69.0, 31.0]</td>\n",
       "    </tr>\n",
       "    <tr>\n",
       "      <th>10</th>\n",
       "      <td>Newspaper Article</td>\n",
       "      <td>2</td>\n",
       "      <td>[No, Yes]</td>\n",
       "      <td>[100.0, 0.0]</td>\n",
       "    </tr>\n",
       "    <tr>\n",
       "      <th>9</th>\n",
       "      <td>Magazine</td>\n",
       "      <td>1</td>\n",
       "      <td>[No]</td>\n",
       "      <td>[100.0]</td>\n",
       "    </tr>\n",
       "    <tr>\n",
       "      <th>15</th>\n",
       "      <td>Receive More Updates About Our Courses</td>\n",
       "      <td>1</td>\n",
       "      <td>[No]</td>\n",
       "      <td>[100.0]</td>\n",
       "    </tr>\n",
       "    <tr>\n",
       "      <th>16</th>\n",
       "      <td>Update me on Supply Chain Content</td>\n",
       "      <td>1</td>\n",
       "      <td>[No]</td>\n",
       "      <td>[100.0]</td>\n",
       "    </tr>\n",
       "    <tr>\n",
       "      <th>17</th>\n",
       "      <td>Get updates on DM Content</td>\n",
       "      <td>1</td>\n",
       "      <td>[No]</td>\n",
       "      <td>[100.0]</td>\n",
       "    </tr>\n",
       "    <tr>\n",
       "      <th>18</th>\n",
       "      <td>I agree to pay the amount through cheque</td>\n",
       "      <td>1</td>\n",
       "      <td>[No]</td>\n",
       "      <td>[100.0]</td>\n",
       "    </tr>\n",
       "  </tbody>\n",
       "</table>\n",
       "</div>"
      ],
      "text/plain": [
       "                                             cols  unique_value_count  \\\n",
       "1                                     Lead Source                  21   \n",
       "5                                  Specialization                  19   \n",
       "4                                   Last Activity                  17   \n",
       "20                          Last Notable Activity                  16   \n",
       "6                 What is your current occupation                   6   \n",
       "0                                     Lead Origin                   5   \n",
       "7   What matters most to you in choosing a course                   3   \n",
       "3                                     Do Not Call                   2   \n",
       "8                                          Search                   2   \n",
       "2                                    Do Not Email                   2   \n",
       "11                             X Education Forums                   2   \n",
       "12                                      Newspaper                   2   \n",
       "13                          Digital Advertisement                   2   \n",
       "14                        Through Recommendations                   2   \n",
       "19         A free copy of Mastering The Interview                   2   \n",
       "10                              Newspaper Article                   2   \n",
       "9                                        Magazine                   1   \n",
       "15         Receive More Updates About Our Courses                   1   \n",
       "16              Update me on Supply Chain Content                   1   \n",
       "17                      Get updates on DM Content                   1   \n",
       "18       I agree to pay the amount through cheque                   1   \n",
       "\n",
       "                                list of unique values  \\\n",
       "1   [Google, Direct Traffic, Olark Chat, Organic S...   \n",
       "5   [Select, Finance Management, Human Resource Ma...   \n",
       "4   [Email Opened, SMS Sent, Olark Chat Conversati...   \n",
       "20  [Modified, Email Opened, SMS Sent, Page Visite...   \n",
       "6   [Unemployed, Working Professional, Student, Ot...   \n",
       "0   [Landing Page Submission, API, Lead Add Form, ...   \n",
       "7   [Better Career Prospects, Flexibility & Conven...   \n",
       "3                                           [No, Yes]   \n",
       "8                                           [No, Yes]   \n",
       "2                                           [No, Yes]   \n",
       "11                                          [No, Yes]   \n",
       "12                                          [No, Yes]   \n",
       "13                                          [No, Yes]   \n",
       "14                                          [No, Yes]   \n",
       "19                                          [No, Yes]   \n",
       "10                                          [No, Yes]   \n",
       "9                                                [No]   \n",
       "15                                               [No]   \n",
       "16                                               [No]   \n",
       "17                                               [No]   \n",
       "18                                               [No]   \n",
       "\n",
       "                     % distribution of uniqiue_values  \n",
       "1   [31.0, 28.0, 19.0, 13.0, 6.0, 2.0, 1.0, 1.0, 0...  \n",
       "5   [25.0, 13.0, 11.0, 11.0, 6.0, 5.0, 5.0, 4.0, 4...  \n",
       "4   [38.0, 30.0, 11.0, 7.0, 5.0, 4.0, 3.0, 1.0, 1....  \n",
       "20  [37.0, 31.0, 24.0, 3.0, 2.0, 2.0, 1.0, 1.0, 0....  \n",
       "6                    [85.0, 11.0, 3.0, 0.0, 0.0, 0.0]  \n",
       "0                         [53.0, 39.0, 8.0, 1.0, 0.0]  \n",
       "7                                   [100.0, 0.0, 0.0]  \n",
       "3                                        [100.0, 0.0]  \n",
       "8                                        [100.0, 0.0]  \n",
       "2                                         [92.0, 8.0]  \n",
       "11                                       [100.0, 0.0]  \n",
       "12                                       [100.0, 0.0]  \n",
       "13                                       [100.0, 0.0]  \n",
       "14                                       [100.0, 0.0]  \n",
       "19                                       [69.0, 31.0]  \n",
       "10                                       [100.0, 0.0]  \n",
       "9                                             [100.0]  \n",
       "15                                            [100.0]  \n",
       "16                                            [100.0]  \n",
       "17                                            [100.0]  \n",
       "18                                            [100.0]  "
      ]
     },
     "execution_count": 234,
     "metadata": {},
     "output_type": "execute_result"
    }
   ],
   "source": [
    "see_unique_values(leads)"
   ]
  },
  {
   "cell_type": "markdown",
   "metadata": {},
   "source": [
    "### Inference :\n",
    "\n",
    "*  There were a few columns in which only one value was majorly present for all the data points. These includes \n",
    "\n",
    "* Do Not Call, Search, Magazine,Newspaper Article, X Education Forum, Newspaper, Digital Advertisement,Through Recommendations,Receive More Updates About Our Courses,9.Update me on Supply Chain Content,Get updates on DM Content, I agree to pay the amount through cheque\n",
    "\n",
    "* Since practically providing a single-value variables to model has no effect, it's best that we drop these columns as they won't help with our analysis."
   ]
  },
  {
   "cell_type": "code",
   "execution_count": 235,
   "metadata": {
    "execution": {
     "iopub.execute_input": "2022-07-31T09:26:39.588474Z",
     "iopub.status.busy": "2022-07-31T09:26:39.587228Z",
     "iopub.status.idle": "2022-07-31T09:26:39.597122Z",
     "shell.execute_reply": "2022-07-31T09:26:39.596028Z",
     "shell.execute_reply.started": "2022-07-31T09:26:39.588420Z"
    }
   },
   "outputs": [],
   "source": [
    "drop_cols = ['Do Not Call', 'Search', 'Magazine', 'Newspaper Article', 'X Education Forums', 'Newspaper', \n",
    "            'Digital Advertisement', 'Through Recommendations', 'Receive More Updates About Our Courses', \n",
    "            'Update me on Supply Chain Content', 'Get updates on DM Content', \n",
    "            'I agree to pay the amount through cheque']\n",
    "\n",
    "leads.drop(columns = drop_cols, inplace = True)"
   ]
  },
  {
   "cell_type": "markdown",
   "metadata": {},
   "source": [
    "The variable 'What matters most to you in choosing a course' has the level 'Better Career Prospects' is near to 100% while the other two levels appear once twice and once respectively. So we may drop this column as well."
   ]
  },
  {
   "cell_type": "code",
   "execution_count": 236,
   "metadata": {
    "execution": {
     "iopub.execute_input": "2022-07-31T09:26:39.599766Z",
     "iopub.status.busy": "2022-07-31T09:26:39.598975Z",
     "iopub.status.idle": "2022-07-31T09:26:39.612815Z",
     "shell.execute_reply": "2022-07-31T09:26:39.611673Z",
     "shell.execute_reply.started": "2022-07-31T09:26:39.599723Z"
    }
   },
   "outputs": [],
   "source": [
    "leads.drop(columns = 'What matters most to you in choosing a course', inplace = True)"
   ]
  },
  {
   "cell_type": "code",
   "execution_count": 237,
   "metadata": {
    "execution": {
     "iopub.execute_input": "2022-07-31T09:26:39.640745Z",
     "iopub.status.busy": "2022-07-31T09:26:39.639388Z",
     "iopub.status.idle": "2022-07-31T09:26:39.664344Z",
     "shell.execute_reply": "2022-07-31T09:26:39.663168Z",
     "shell.execute_reply.started": "2022-07-31T09:26:39.640689Z"
    }
   },
   "outputs": [
    {
     "name": "stdout",
     "output_type": "stream",
     "text": [
      "<class 'pandas.core.frame.DataFrame'>\n",
      "Int64Index: 9240 entries, 0 to 9239\n",
      "Data columns (total 12 columns):\n",
      " #   Column                                  Non-Null Count  Dtype  \n",
      "---  ------                                  --------------  -----  \n",
      " 0   Lead Origin                             9240 non-null   object \n",
      " 1   Lead Source                             9204 non-null   object \n",
      " 2   Do Not Email                            9240 non-null   object \n",
      " 3   Converted                               9240 non-null   int64  \n",
      " 4   TotalVisits                             9103 non-null   float64\n",
      " 5   Total Time Spent on Website             9240 non-null   int64  \n",
      " 6   Page Views Per Visit                    9103 non-null   float64\n",
      " 7   Last Activity                           9137 non-null   object \n",
      " 8   Specialization                          7802 non-null   object \n",
      " 9   What is your current occupation         6550 non-null   object \n",
      " 10  A free copy of Mastering The Interview  9240 non-null   object \n",
      " 11  Last Notable Activity                   9240 non-null   object \n",
      "dtypes: float64(2), int64(2), object(8)\n",
      "memory usage: 938.4+ KB\n"
     ]
    }
   ],
   "source": [
    "leads.info()"
   ]
  },
  {
   "cell_type": "code",
   "execution_count": 238,
   "metadata": {
    "execution": {
     "iopub.execute_input": "2022-07-31T09:26:39.703762Z",
     "iopub.status.busy": "2022-07-31T09:26:39.703041Z",
     "iopub.status.idle": "2022-07-31T09:26:39.737072Z",
     "shell.execute_reply": "2022-07-31T09:26:39.736149Z",
     "shell.execute_reply.started": "2022-07-31T09:26:39.703719Z"
    }
   },
   "outputs": [
    {
     "data": {
      "text/html": [
       "<div>\n",
       "<style scoped>\n",
       "    .dataframe tbody tr th:only-of-type {\n",
       "        vertical-align: middle;\n",
       "    }\n",
       "\n",
       "    .dataframe tbody tr th {\n",
       "        vertical-align: top;\n",
       "    }\n",
       "\n",
       "    .dataframe thead th {\n",
       "        text-align: right;\n",
       "    }\n",
       "</style>\n",
       "<table border=\"1\" class=\"dataframe\">\n",
       "  <thead>\n",
       "    <tr style=\"text-align: right;\">\n",
       "      <th></th>\n",
       "      <th>count_nulls</th>\n",
       "      <th>%nulls</th>\n",
       "    </tr>\n",
       "  </thead>\n",
       "  <tbody>\n",
       "    <tr>\n",
       "      <th>What is your current occupation</th>\n",
       "      <td>2690</td>\n",
       "      <td>29.0</td>\n",
       "    </tr>\n",
       "    <tr>\n",
       "      <th>Specialization</th>\n",
       "      <td>1438</td>\n",
       "      <td>16.0</td>\n",
       "    </tr>\n",
       "    <tr>\n",
       "      <th>TotalVisits</th>\n",
       "      <td>137</td>\n",
       "      <td>1.0</td>\n",
       "    </tr>\n",
       "    <tr>\n",
       "      <th>Page Views Per Visit</th>\n",
       "      <td>137</td>\n",
       "      <td>1.0</td>\n",
       "    </tr>\n",
       "    <tr>\n",
       "      <th>Last Activity</th>\n",
       "      <td>103</td>\n",
       "      <td>1.0</td>\n",
       "    </tr>\n",
       "    <tr>\n",
       "      <th>Lead Source</th>\n",
       "      <td>36</td>\n",
       "      <td>0.0</td>\n",
       "    </tr>\n",
       "    <tr>\n",
       "      <th>Lead Origin</th>\n",
       "      <td>0</td>\n",
       "      <td>0.0</td>\n",
       "    </tr>\n",
       "    <tr>\n",
       "      <th>Do Not Email</th>\n",
       "      <td>0</td>\n",
       "      <td>0.0</td>\n",
       "    </tr>\n",
       "    <tr>\n",
       "      <th>Converted</th>\n",
       "      <td>0</td>\n",
       "      <td>0.0</td>\n",
       "    </tr>\n",
       "    <tr>\n",
       "      <th>Total Time Spent on Website</th>\n",
       "      <td>0</td>\n",
       "      <td>0.0</td>\n",
       "    </tr>\n",
       "    <tr>\n",
       "      <th>A free copy of Mastering The Interview</th>\n",
       "      <td>0</td>\n",
       "      <td>0.0</td>\n",
       "    </tr>\n",
       "    <tr>\n",
       "      <th>Last Notable Activity</th>\n",
       "      <td>0</td>\n",
       "      <td>0.0</td>\n",
       "    </tr>\n",
       "  </tbody>\n",
       "</table>\n",
       "</div>"
      ],
      "text/plain": [
       "                                        count_nulls  %nulls\n",
       "What is your current occupation                2690    29.0\n",
       "Specialization                                 1438    16.0\n",
       "TotalVisits                                     137     1.0\n",
       "Page Views Per Visit                            137     1.0\n",
       "Last Activity                                   103     1.0\n",
       "Lead Source                                      36     0.0\n",
       "Lead Origin                                       0     0.0\n",
       "Do Not Email                                      0     0.0\n",
       "Converted                                         0     0.0\n",
       "Total Time Spent on Website                       0     0.0\n",
       "A free copy of Mastering The Interview            0     0.0\n",
       "Last Notable Activity                             0     0.0"
      ]
     },
     "execution_count": 238,
     "metadata": {},
     "output_type": "execute_result"
    }
   ],
   "source": [
    "# Check for null values agian\n",
    "see_nulls(leads)"
   ]
  },
  {
   "cell_type": "markdown",
   "metadata": {},
   "source": [
    "### Missing Value - Treatment at this point\n",
    "* Still there are null values in certatin features\n",
    "* But Any of the varibale are not suitabale to fill with mean, meadian, mode methods\n",
    "* Now you can drop the null rows but since we have already lost so many feature variables, \n",
    "* we choose not to drop it as it might turn out to be significant in the analysis. \n",
    "* So let's just drop the null rows for the column What is you current occupation."
   ]
  },
  {
   "cell_type": "code",
   "execution_count": 239,
   "metadata": {
    "execution": {
     "iopub.execute_input": "2022-07-31T09:26:39.771911Z",
     "iopub.status.busy": "2022-07-31T09:26:39.771084Z",
     "iopub.status.idle": "2022-07-31T09:26:39.787606Z",
     "shell.execute_reply": "2022-07-31T09:26:39.786421Z",
     "shell.execute_reply.started": "2022-07-31T09:26:39.771869Z"
    }
   },
   "outputs": [],
   "source": [
    "leads = leads[~leads['What is your current occupation'].isnull()]\n",
    "leads = leads[~leads['Specialization'].isnull()]\n",
    "leads = leads[~leads['TotalVisits'].isnull()]\n",
    "leads = leads[~leads['Lead Source'].isnull()]"
   ]
  },
  {
   "cell_type": "code",
   "execution_count": 240,
   "metadata": {
    "execution": {
     "iopub.execute_input": "2022-07-31T09:26:39.852202Z",
     "iopub.status.busy": "2022-07-31T09:26:39.851794Z",
     "iopub.status.idle": "2022-07-31T09:26:39.879627Z",
     "shell.execute_reply": "2022-07-31T09:26:39.878546Z",
     "shell.execute_reply.started": "2022-07-31T09:26:39.852168Z"
    }
   },
   "outputs": [
    {
     "data": {
      "text/html": [
       "<div>\n",
       "<style scoped>\n",
       "    .dataframe tbody tr th:only-of-type {\n",
       "        vertical-align: middle;\n",
       "    }\n",
       "\n",
       "    .dataframe tbody tr th {\n",
       "        vertical-align: top;\n",
       "    }\n",
       "\n",
       "    .dataframe thead th {\n",
       "        text-align: right;\n",
       "    }\n",
       "</style>\n",
       "<table border=\"1\" class=\"dataframe\">\n",
       "  <thead>\n",
       "    <tr style=\"text-align: right;\">\n",
       "      <th></th>\n",
       "      <th>count_nulls</th>\n",
       "      <th>%nulls</th>\n",
       "    </tr>\n",
       "  </thead>\n",
       "  <tbody>\n",
       "    <tr>\n",
       "      <th>Lead Origin</th>\n",
       "      <td>0</td>\n",
       "      <td>0.0</td>\n",
       "    </tr>\n",
       "    <tr>\n",
       "      <th>Lead Source</th>\n",
       "      <td>0</td>\n",
       "      <td>0.0</td>\n",
       "    </tr>\n",
       "    <tr>\n",
       "      <th>Do Not Email</th>\n",
       "      <td>0</td>\n",
       "      <td>0.0</td>\n",
       "    </tr>\n",
       "    <tr>\n",
       "      <th>Converted</th>\n",
       "      <td>0</td>\n",
       "      <td>0.0</td>\n",
       "    </tr>\n",
       "    <tr>\n",
       "      <th>TotalVisits</th>\n",
       "      <td>0</td>\n",
       "      <td>0.0</td>\n",
       "    </tr>\n",
       "    <tr>\n",
       "      <th>Total Time Spent on Website</th>\n",
       "      <td>0</td>\n",
       "      <td>0.0</td>\n",
       "    </tr>\n",
       "    <tr>\n",
       "      <th>Page Views Per Visit</th>\n",
       "      <td>0</td>\n",
       "      <td>0.0</td>\n",
       "    </tr>\n",
       "    <tr>\n",
       "      <th>Last Activity</th>\n",
       "      <td>0</td>\n",
       "      <td>0.0</td>\n",
       "    </tr>\n",
       "    <tr>\n",
       "      <th>Specialization</th>\n",
       "      <td>0</td>\n",
       "      <td>0.0</td>\n",
       "    </tr>\n",
       "    <tr>\n",
       "      <th>What is your current occupation</th>\n",
       "      <td>0</td>\n",
       "      <td>0.0</td>\n",
       "    </tr>\n",
       "    <tr>\n",
       "      <th>A free copy of Mastering The Interview</th>\n",
       "      <td>0</td>\n",
       "      <td>0.0</td>\n",
       "    </tr>\n",
       "    <tr>\n",
       "      <th>Last Notable Activity</th>\n",
       "      <td>0</td>\n",
       "      <td>0.0</td>\n",
       "    </tr>\n",
       "  </tbody>\n",
       "</table>\n",
       "</div>"
      ],
      "text/plain": [
       "                                        count_nulls  %nulls\n",
       "Lead Origin                                       0     0.0\n",
       "Lead Source                                       0     0.0\n",
       "Do Not Email                                      0     0.0\n",
       "Converted                                         0     0.0\n",
       "TotalVisits                                       0     0.0\n",
       "Total Time Spent on Website                       0     0.0\n",
       "Page Views Per Visit                              0     0.0\n",
       "Last Activity                                     0     0.0\n",
       "Specialization                                    0     0.0\n",
       "What is your current occupation                   0     0.0\n",
       "A free copy of Mastering The Interview            0     0.0\n",
       "Last Notable Activity                             0     0.0"
      ]
     },
     "execution_count": 240,
     "metadata": {},
     "output_type": "execute_result"
    }
   ],
   "source": [
    "# Check for null values again\n",
    "see_nulls(leads)"
   ]
  },
  {
   "cell_type": "markdown",
   "metadata": {},
   "source": [
    "### Now we have dataframe with zero null values in it."
   ]
  },
  {
   "cell_type": "code",
   "execution_count": 241,
   "metadata": {
    "execution": {
     "iopub.execute_input": "2022-07-31T09:26:39.930899Z",
     "iopub.status.busy": "2022-07-31T09:26:39.930479Z",
     "iopub.status.idle": "2022-07-31T09:26:39.937475Z",
     "shell.execute_reply": "2022-07-31T09:26:39.936239Z",
     "shell.execute_reply.started": "2022-07-31T09:26:39.930852Z"
    }
   },
   "outputs": [
    {
     "name": "stdout",
     "output_type": "stream",
     "text": [
      "\n",
      "Comparing the shape of the initial and cleaning dataframes\n",
      "\n",
      "(9240, 37) --> (6373, 12) \n",
      "\n",
      "0.69\n"
     ]
    }
   ],
   "source": [
    "# Lets Compare the the shape of dataframe (initial vs after missing values handling)\n",
    "\n",
    "print('\\nComparing the shape of the initial and cleaning dataframes\\n')\n",
    "print(initial_shape,'-->',leads.shape,'\\n')\n",
    "print(round(leads.shape[0]/initial_shape[0],2))"
   ]
  },
  {
   "cell_type": "markdown",
   "metadata": {},
   "source": [
    "### Inferece :\n",
    "\n",
    "### 69% of the data is still avialable to be feeded to the model - which is still a good represntation of the initial sample"
   ]
  },
  {
   "cell_type": "code",
   "execution_count": 242,
   "metadata": {
    "execution": {
     "iopub.execute_input": "2022-07-31T09:26:39.997011Z",
     "iopub.status.busy": "2022-07-31T09:26:39.995888Z",
     "iopub.status.idle": "2022-07-31T09:26:40.019081Z",
     "shell.execute_reply": "2022-07-31T09:26:40.017980Z",
     "shell.execute_reply.started": "2022-07-31T09:26:39.996969Z"
    }
   },
   "outputs": [
    {
     "name": "stdout",
     "output_type": "stream",
     "text": [
      "<class 'pandas.core.frame.DataFrame'>\n",
      "Int64Index: 6373 entries, 0 to 9239\n",
      "Data columns (total 12 columns):\n",
      " #   Column                                  Non-Null Count  Dtype  \n",
      "---  ------                                  --------------  -----  \n",
      " 0   Lead Origin                             6373 non-null   object \n",
      " 1   Lead Source                             6373 non-null   object \n",
      " 2   Do Not Email                            6373 non-null   object \n",
      " 3   Converted                               6373 non-null   int64  \n",
      " 4   TotalVisits                             6373 non-null   float64\n",
      " 5   Total Time Spent on Website             6373 non-null   int64  \n",
      " 6   Page Views Per Visit                    6373 non-null   float64\n",
      " 7   Last Activity                           6373 non-null   object \n",
      " 8   Specialization                          6373 non-null   object \n",
      " 9   What is your current occupation         6373 non-null   object \n",
      " 10  A free copy of Mastering The Interview  6373 non-null   object \n",
      " 11  Last Notable Activity                   6373 non-null   object \n",
      "dtypes: float64(2), int64(2), object(8)\n",
      "memory usage: 647.3+ KB\n"
     ]
    }
   ],
   "source": [
    "leads.info()"
   ]
  },
  {
   "cell_type": "markdown",
   "metadata": {},
   "source": [
    "### Note : The Data Types of the variables in the arraived DataFrame look Good, So, DataType conversion is not required in any of the columns"
   ]
  },
  {
   "cell_type": "code",
   "execution_count": 243,
   "metadata": {
    "execution": {
     "iopub.execute_input": "2022-07-31T09:26:40.072653Z",
     "iopub.status.busy": "2022-07-31T09:26:40.072214Z",
     "iopub.status.idle": "2022-07-31T09:26:40.092235Z",
     "shell.execute_reply": "2022-07-31T09:26:40.091050Z",
     "shell.execute_reply.started": "2022-07-31T09:26:40.072608Z"
    }
   },
   "outputs": [
    {
     "data": {
      "text/html": [
       "<div>\n",
       "<style scoped>\n",
       "    .dataframe tbody tr th:only-of-type {\n",
       "        vertical-align: middle;\n",
       "    }\n",
       "\n",
       "    .dataframe tbody tr th {\n",
       "        vertical-align: top;\n",
       "    }\n",
       "\n",
       "    .dataframe thead th {\n",
       "        text-align: right;\n",
       "    }\n",
       "</style>\n",
       "<table border=\"1\" class=\"dataframe\">\n",
       "  <thead>\n",
       "    <tr style=\"text-align: right;\">\n",
       "      <th></th>\n",
       "      <th>Lead Origin</th>\n",
       "      <th>Lead Source</th>\n",
       "      <th>Do Not Email</th>\n",
       "      <th>Converted</th>\n",
       "      <th>TotalVisits</th>\n",
       "      <th>Total Time Spent on Website</th>\n",
       "      <th>Page Views Per Visit</th>\n",
       "      <th>Last Activity</th>\n",
       "      <th>Specialization</th>\n",
       "      <th>What is your current occupation</th>\n",
       "      <th>A free copy of Mastering The Interview</th>\n",
       "      <th>Last Notable Activity</th>\n",
       "    </tr>\n",
       "  </thead>\n",
       "  <tbody>\n",
       "    <tr>\n",
       "      <th>0</th>\n",
       "      <td>API</td>\n",
       "      <td>Olark Chat</td>\n",
       "      <td>No</td>\n",
       "      <td>0</td>\n",
       "      <td>0.0</td>\n",
       "      <td>0</td>\n",
       "      <td>0.0</td>\n",
       "      <td>Page Visited on Website</td>\n",
       "      <td>Select</td>\n",
       "      <td>Unemployed</td>\n",
       "      <td>No</td>\n",
       "      <td>Modified</td>\n",
       "    </tr>\n",
       "    <tr>\n",
       "      <th>1</th>\n",
       "      <td>API</td>\n",
       "      <td>Organic Search</td>\n",
       "      <td>No</td>\n",
       "      <td>0</td>\n",
       "      <td>5.0</td>\n",
       "      <td>674</td>\n",
       "      <td>2.5</td>\n",
       "      <td>Email Opened</td>\n",
       "      <td>Select</td>\n",
       "      <td>Unemployed</td>\n",
       "      <td>No</td>\n",
       "      <td>Email Opened</td>\n",
       "    </tr>\n",
       "    <tr>\n",
       "      <th>2</th>\n",
       "      <td>Landing Page Submission</td>\n",
       "      <td>Direct Traffic</td>\n",
       "      <td>No</td>\n",
       "      <td>1</td>\n",
       "      <td>2.0</td>\n",
       "      <td>1532</td>\n",
       "      <td>2.0</td>\n",
       "      <td>Email Opened</td>\n",
       "      <td>Business Administration</td>\n",
       "      <td>Student</td>\n",
       "      <td>Yes</td>\n",
       "      <td>Email Opened</td>\n",
       "    </tr>\n",
       "  </tbody>\n",
       "</table>\n",
       "</div>"
      ],
      "text/plain": [
       "               Lead Origin     Lead Source Do Not Email  Converted  \\\n",
       "0                      API      Olark Chat           No          0   \n",
       "1                      API  Organic Search           No          0   \n",
       "2  Landing Page Submission  Direct Traffic           No          1   \n",
       "\n",
       "   TotalVisits  Total Time Spent on Website  Page Views Per Visit  \\\n",
       "0          0.0                            0                   0.0   \n",
       "1          5.0                          674                   2.5   \n",
       "2          2.0                         1532                   2.0   \n",
       "\n",
       "             Last Activity           Specialization  \\\n",
       "0  Page Visited on Website                   Select   \n",
       "1             Email Opened                   Select   \n",
       "2             Email Opened  Business Administration   \n",
       "\n",
       "  What is your current occupation A free copy of Mastering The Interview  \\\n",
       "0                      Unemployed                                     No   \n",
       "1                      Unemployed                                     No   \n",
       "2                         Student                                    Yes   \n",
       "\n",
       "  Last Notable Activity  \n",
       "0              Modified  \n",
       "1          Email Opened  \n",
       "2          Email Opened  "
      ]
     },
     "execution_count": 243,
     "metadata": {},
     "output_type": "execute_result"
    }
   ],
   "source": [
    "leads.head(3)"
   ]
  },
  {
   "cell_type": "markdown",
   "metadata": {},
   "source": [
    "# 2.Preparing the Dataframe for Modelinng"
   ]
  },
  {
   "cell_type": "markdown",
   "metadata": {},
   "source": [
    "1. Check the Balance of the Dependant Varaible\n",
    "2. Handling Categorical Data\n",
    "3. Train_test Split\n",
    "4. Normalisation of continues varibales\n",
    "5. Arrive the feed- Dataframe for the model"
   ]
  },
  {
   "cell_type": "code",
   "execution_count": 244,
   "metadata": {
    "execution": {
     "iopub.execute_input": "2022-07-31T09:26:40.146777Z",
     "iopub.status.busy": "2022-07-31T09:26:40.143920Z",
     "iopub.status.idle": "2022-07-31T09:26:40.161503Z",
     "shell.execute_reply": "2022-07-31T09:26:40.160547Z",
     "shell.execute_reply.started": "2022-07-31T09:26:40.146726Z"
    }
   },
   "outputs": [
    {
     "name": "stdout",
     "output_type": "stream",
     "text": [
      "\n",
      "Dustribution Table\n",
      "\n"
     ]
    },
    {
     "data": {
      "text/html": [
       "<div>\n",
       "<style scoped>\n",
       "    .dataframe tbody tr th:only-of-type {\n",
       "        vertical-align: middle;\n",
       "    }\n",
       "\n",
       "    .dataframe tbody tr th {\n",
       "        vertical-align: top;\n",
       "    }\n",
       "\n",
       "    .dataframe thead th {\n",
       "        text-align: right;\n",
       "    }\n",
       "</style>\n",
       "<table border=\"1\" class=\"dataframe\">\n",
       "  <thead>\n",
       "    <tr style=\"text-align: right;\">\n",
       "      <th></th>\n",
       "      <th>count</th>\n",
       "      <th>%distribution</th>\n",
       "    </tr>\n",
       "  </thead>\n",
       "  <tbody>\n",
       "    <tr>\n",
       "      <th>0</th>\n",
       "      <td>3308</td>\n",
       "      <td>52.0</td>\n",
       "    </tr>\n",
       "    <tr>\n",
       "      <th>1</th>\n",
       "      <td>3065</td>\n",
       "      <td>48.0</td>\n",
       "    </tr>\n",
       "  </tbody>\n",
       "</table>\n",
       "</div>"
      ],
      "text/plain": [
       "   count  %distribution\n",
       "0   3308           52.0\n",
       "1   3065           48.0"
      ]
     },
     "execution_count": 244,
     "metadata": {},
     "output_type": "execute_result"
    }
   ],
   "source": [
    "# Checking the balance of the Dependant Variable \n",
    "\n",
    "print('\\nDustribution Table\\n')\n",
    "\n",
    "y = leads['Converted']\n",
    "\n",
    "a = y.value_counts()\n",
    "b = round(y.value_counts(normalize = True)*100)\n",
    "pd.DataFrame({'count':a,'%distribution':b})"
   ]
  },
  {
   "cell_type": "code",
   "execution_count": 245,
   "metadata": {},
   "outputs": [
    {
     "data": {
      "image/png": "[encoded data removed]",
      "text/plain": [
       "<Figure size 432x288 with 1 Axes>"
      ]
     },
     "metadata": {
      "needs_background": "light"
     },
     "output_type": "display_data"
    }
   ],
   "source": [
    "sns.countplot(leads[\"Converted\"])\n",
    "plt.show()"
   ]
  },
  {
   "cell_type": "code",
   "execution_count": null,
   "metadata": {},
   "outputs": [],
   "source": [
    "sns.countplot(leads[\"Converted\"], hue=)"
   ]
  },
  {
   "cell_type": "markdown",
   "metadata": {},
   "source": [
    "### Inference :\n",
    "\n",
    "### This is a fairly balanced dataframe to go about - since the traget varibale is balanced at 52 - 48 ratio"
   ]
  },
  {
   "cell_type": "markdown",
   "metadata": {},
   "source": [
    "# Splitting the DataFrme into - Numerical & Non Numerical Sub Set of Easy Data Preparation"
   ]
  },
  {
   "cell_type": "code",
   "execution_count": 138,
   "metadata": {
    "execution": {
     "iopub.execute_input": "2022-07-31T09:26:40.211650Z",
     "iopub.status.busy": "2022-07-31T09:26:40.211080Z",
     "iopub.status.idle": "2022-07-31T09:26:40.223198Z",
     "shell.execute_reply": "2022-07-31T09:26:40.222260Z",
     "shell.execute_reply.started": "2022-07-31T09:26:40.211618Z"
    }
   },
   "outputs": [
    {
     "data": {
      "text/plain": [
       "((6373, 4), (6373, 8))"
      ]
     },
     "execution_count": 138,
     "metadata": {},
     "output_type": "execute_result"
    }
   ],
   "source": [
    "leads_numeric = leads.select_dtypes(include = np.number)\n",
    "leads_categorical = leads.select_dtypes(exclude = np.number)\n",
    "\n",
    "leads_numeric.shape, leads_categorical.shape"
   ]
  },
  {
   "cell_type": "markdown",
   "metadata": {},
   "source": [
    "#### Checking for the outliers in the numerical columns"
   ]
  },
  {
   "cell_type": "code",
   "execution_count": 139,
   "metadata": {
    "execution": {
     "iopub.execute_input": "2022-07-31T09:26:40.283706Z",
     "iopub.status.busy": "2022-07-31T09:26:40.282979Z",
     "iopub.status.idle": "2022-07-31T09:26:40.717933Z",
     "shell.execute_reply": "2022-07-31T09:26:40.717141Z",
     "shell.execute_reply.started": "2022-07-31T09:26:40.283665Z"
    }
   },
   "outputs": [
    {
     "data": {
      "image/png": "[encoded data removed]",
      "text/plain": [
       "<Figure size 1440x504 with 4 Axes>"
      ]
     },
     "metadata": {
      "needs_background": "light"
     },
     "output_type": "display_data"
    },
    {
     "data": {
      "text/html": [
       "<div>\n",
       "<style scoped>\n",
       "    .dataframe tbody tr th:only-of-type {\n",
       "        vertical-align: middle;\n",
       "    }\n",
       "\n",
       "    .dataframe tbody tr th {\n",
       "        vertical-align: top;\n",
       "    }\n",
       "\n",
       "    .dataframe thead th {\n",
       "        text-align: right;\n",
       "    }\n",
       "</style>\n",
       "<table border=\"1\" class=\"dataframe\">\n",
       "  <thead>\n",
       "    <tr style=\"text-align: right;\">\n",
       "      <th></th>\n",
       "      <th>Converted</th>\n",
       "      <th>TotalVisits</th>\n",
       "      <th>Total Time Spent on Website</th>\n",
       "      <th>Page Views Per Visit</th>\n",
       "    </tr>\n",
       "  </thead>\n",
       "  <tbody>\n",
       "    <tr>\n",
       "      <th>count</th>\n",
       "      <td>6373.000000</td>\n",
       "      <td>6373.000000</td>\n",
       "      <td>6373.000000</td>\n",
       "      <td>6373.000000</td>\n",
       "    </tr>\n",
       "    <tr>\n",
       "      <th>mean</th>\n",
       "      <td>0.480935</td>\n",
       "      <td>3.624196</td>\n",
       "      <td>535.224541</td>\n",
       "      <td>2.480464</td>\n",
       "    </tr>\n",
       "    <tr>\n",
       "      <th>std</th>\n",
       "      <td>0.499676</td>\n",
       "      <td>5.048555</td>\n",
       "      <td>565.374753</td>\n",
       "      <td>2.167364</td>\n",
       "    </tr>\n",
       "    <tr>\n",
       "      <th>min</th>\n",
       "      <td>0.000000</td>\n",
       "      <td>0.000000</td>\n",
       "      <td>0.000000</td>\n",
       "      <td>0.000000</td>\n",
       "    </tr>\n",
       "    <tr>\n",
       "      <th>25%</th>\n",
       "      <td>0.000000</td>\n",
       "      <td>1.000000</td>\n",
       "      <td>34.000000</td>\n",
       "      <td>1.000000</td>\n",
       "    </tr>\n",
       "    <tr>\n",
       "      <th>50%</th>\n",
       "      <td>0.000000</td>\n",
       "      <td>3.000000</td>\n",
       "      <td>287.000000</td>\n",
       "      <td>2.000000</td>\n",
       "    </tr>\n",
       "    <tr>\n",
       "      <th>75%</th>\n",
       "      <td>1.000000</td>\n",
       "      <td>5.000000</td>\n",
       "      <td>1022.000000</td>\n",
       "      <td>3.500000</td>\n",
       "    </tr>\n",
       "    <tr>\n",
       "      <th>max</th>\n",
       "      <td>1.000000</td>\n",
       "      <td>251.000000</td>\n",
       "      <td>2272.000000</td>\n",
       "      <td>55.000000</td>\n",
       "    </tr>\n",
       "  </tbody>\n",
       "</table>\n",
       "</div>"
      ],
      "text/plain": [
       "         Converted  TotalVisits  Total Time Spent on Website  \\\n",
       "count  6373.000000  6373.000000                  6373.000000   \n",
       "mean      0.480935     3.624196                   535.224541   \n",
       "std       0.499676     5.048555                   565.374753   \n",
       "min       0.000000     0.000000                     0.000000   \n",
       "25%       0.000000     1.000000                    34.000000   \n",
       "50%       0.000000     3.000000                   287.000000   \n",
       "75%       1.000000     5.000000                  1022.000000   \n",
       "max       1.000000   251.000000                  2272.000000   \n",
       "\n",
       "       Page Views Per Visit  \n",
       "count           6373.000000  \n",
       "mean               2.480464  \n",
       "std                2.167364  \n",
       "min                0.000000  \n",
       "25%                1.000000  \n",
       "50%                2.000000  \n",
       "75%                3.500000  \n",
       "max               55.000000  "
      ]
     },
     "execution_count": 139,
     "metadata": {},
     "output_type": "execute_result"
    }
   ],
   "source": [
    "# Plotting the numerical variables for outliers\n",
    "\n",
    "plt.figure(figsize =[20,7])\n",
    "for ind,var in enumerate(leads_numeric.columns):\n",
    "    plt.subplot(2,2,ind+1)\n",
    "    sns.boxplot(leads_numeric[var])\n",
    "plt.show()\n",
    "\n",
    "leads_numeric.describe()"
   ]
  },
  {
   "cell_type": "markdown",
   "metadata": {},
   "source": [
    "* ### TotalVisits & Page Views per Visits are will be influenced by the Outliers, \n",
    "* Lets cap these two variables to its 99th Percentile \n",
    "* So that we can pretty much generalise these varaibles and it does not have a skew-effect the model"
   ]
  },
  {
   "cell_type": "code",
   "execution_count": 140,
   "metadata": {
    "execution": {
     "iopub.execute_input": "2022-07-31T09:26:40.719997Z",
     "iopub.status.busy": "2022-07-31T09:26:40.719511Z",
     "iopub.status.idle": "2022-07-31T09:26:40.729831Z",
     "shell.execute_reply": "2022-07-31T09:26:40.728480Z",
     "shell.execute_reply.started": "2022-07-31T09:26:40.719967Z"
    }
   },
   "outputs": [],
   "source": [
    "cap = np.percentile(leads_numeric['Page Views Per Visit'], q = 99)\n",
    "leads_numeric['Page Views Per Visit'] = leads_numeric['Page Views Per Visit'].apply(lambda x: cap if x > cap else x)"
   ]
  },
  {
   "cell_type": "code",
   "execution_count": 141,
   "metadata": {
    "execution": {
     "iopub.execute_input": "2022-07-31T09:26:40.731919Z",
     "iopub.status.busy": "2022-07-31T09:26:40.731356Z",
     "iopub.status.idle": "2022-07-31T09:26:40.749459Z",
     "shell.execute_reply": "2022-07-31T09:26:40.748269Z",
     "shell.execute_reply.started": "2022-07-31T09:26:40.731887Z"
    }
   },
   "outputs": [],
   "source": [
    "cap = np.percentile(leads_numeric['TotalVisits'], q = 99)\n",
    "leads_numeric['TotalVisits'] = leads_numeric['TotalVisits'].apply(lambda x: cap if x > cap else x)"
   ]
  },
  {
   "cell_type": "code",
   "execution_count": 142,
   "metadata": {
    "execution": {
     "iopub.execute_input": "2022-07-31T09:26:40.753868Z",
     "iopub.status.busy": "2022-07-31T09:26:40.753129Z",
     "iopub.status.idle": "2022-07-31T09:26:41.193938Z",
     "shell.execute_reply": "2022-07-31T09:26:41.192783Z",
     "shell.execute_reply.started": "2022-07-31T09:26:40.753828Z"
    }
   },
   "outputs": [
    {
     "data": {
      "image/png": "[encoded data removed]",
      "text/plain": [
       "<Figure size 1440x504 with 4 Axes>"
      ]
     },
     "metadata": {
      "needs_background": "light"
     },
     "output_type": "display_data"
    },
    {
     "data": {
      "text/html": [
       "<div>\n",
       "<style scoped>\n",
       "    .dataframe tbody tr th:only-of-type {\n",
       "        vertical-align: middle;\n",
       "    }\n",
       "\n",
       "    .dataframe tbody tr th {\n",
       "        vertical-align: top;\n",
       "    }\n",
       "\n",
       "    .dataframe thead th {\n",
       "        text-align: right;\n",
       "    }\n",
       "</style>\n",
       "<table border=\"1\" class=\"dataframe\">\n",
       "  <thead>\n",
       "    <tr style=\"text-align: right;\">\n",
       "      <th></th>\n",
       "      <th>Converted</th>\n",
       "      <th>TotalVisits</th>\n",
       "      <th>Total Time Spent on Website</th>\n",
       "      <th>Page Views Per Visit</th>\n",
       "    </tr>\n",
       "  </thead>\n",
       "  <tbody>\n",
       "    <tr>\n",
       "      <th>count</th>\n",
       "      <td>6373.000000</td>\n",
       "      <td>6373.000000</td>\n",
       "      <td>6373.000000</td>\n",
       "      <td>6373.000000</td>\n",
       "    </tr>\n",
       "    <tr>\n",
       "      <th>mean</th>\n",
       "      <td>0.480935</td>\n",
       "      <td>3.513102</td>\n",
       "      <td>535.224541</td>\n",
       "      <td>2.452169</td>\n",
       "    </tr>\n",
       "    <tr>\n",
       "      <th>std</th>\n",
       "      <td>0.499676</td>\n",
       "      <td>3.334184</td>\n",
       "      <td>565.374753</td>\n",
       "      <td>1.978670</td>\n",
       "    </tr>\n",
       "    <tr>\n",
       "      <th>min</th>\n",
       "      <td>0.000000</td>\n",
       "      <td>0.000000</td>\n",
       "      <td>0.000000</td>\n",
       "      <td>0.000000</td>\n",
       "    </tr>\n",
       "    <tr>\n",
       "      <th>25%</th>\n",
       "      <td>0.000000</td>\n",
       "      <td>1.000000</td>\n",
       "      <td>34.000000</td>\n",
       "      <td>1.000000</td>\n",
       "    </tr>\n",
       "    <tr>\n",
       "      <th>50%</th>\n",
       "      <td>0.000000</td>\n",
       "      <td>3.000000</td>\n",
       "      <td>287.000000</td>\n",
       "      <td>2.000000</td>\n",
       "    </tr>\n",
       "    <tr>\n",
       "      <th>75%</th>\n",
       "      <td>1.000000</td>\n",
       "      <td>5.000000</td>\n",
       "      <td>1022.000000</td>\n",
       "      <td>3.500000</td>\n",
       "    </tr>\n",
       "    <tr>\n",
       "      <th>max</th>\n",
       "      <td>1.000000</td>\n",
       "      <td>18.000000</td>\n",
       "      <td>2272.000000</td>\n",
       "      <td>9.000000</td>\n",
       "    </tr>\n",
       "  </tbody>\n",
       "</table>\n",
       "</div>"
      ],
      "text/plain": [
       "         Converted  TotalVisits  Total Time Spent on Website  \\\n",
       "count  6373.000000  6373.000000                  6373.000000   \n",
       "mean      0.480935     3.513102                   535.224541   \n",
       "std       0.499676     3.334184                   565.374753   \n",
       "min       0.000000     0.000000                     0.000000   \n",
       "25%       0.000000     1.000000                    34.000000   \n",
       "50%       0.000000     3.000000                   287.000000   \n",
       "75%       1.000000     5.000000                  1022.000000   \n",
       "max       1.000000    18.000000                  2272.000000   \n",
       "\n",
       "       Page Views Per Visit  \n",
       "count           6373.000000  \n",
       "mean               2.452169  \n",
       "std                1.978670  \n",
       "min                0.000000  \n",
       "25%                1.000000  \n",
       "50%                2.000000  \n",
       "75%                3.500000  \n",
       "max                9.000000  "
      ]
     },
     "execution_count": 142,
     "metadata": {},
     "output_type": "execute_result"
    }
   ],
   "source": [
    "# Plotting the numerical variables after outliers-treatment\n",
    "\n",
    "plt.figure(figsize =[20,7])\n",
    "for ind,var in enumerate(leads_numeric.columns):\n",
    "    plt.subplot(2,2,ind+1)\n",
    "    sns.boxplot(leads_numeric[var])\n",
    "plt.show()\n",
    "\n",
    "leads_numeric.describe()"
   ]
  },
  {
   "cell_type": "code",
   "execution_count": 143,
   "metadata": {
    "execution": {
     "iopub.execute_input": "2022-07-31T09:26:41.196088Z",
     "iopub.status.busy": "2022-07-31T09:26:41.195620Z",
     "iopub.status.idle": "2022-07-31T09:26:45.698588Z",
     "shell.execute_reply": "2022-07-31T09:26:45.697566Z",
     "shell.execute_reply.started": "2022-07-31T09:26:41.196029Z"
    }
   },
   "outputs": [
    {
     "data": {
      "image/png": "[encoded data removed]",
      "text/plain": [
       "<Figure size 599.75x540 with 12 Axes>"
      ]
     },
     "metadata": {
      "needs_background": "light"
     },
     "output_type": "display_data"
    }
   ],
   "source": [
    "sns.pairplot(data = leads_numeric, hue = 'Converted')\n",
    "plt.show()"
   ]
  },
  {
   "cell_type": "markdown",
   "metadata": {},
   "source": [
    "### Now the Numeric variables are pretty-much Aligned"
   ]
  },
  {
   "cell_type": "markdown",
   "metadata": {},
   "source": [
    "### Handling the Categorical Varibales"
   ]
  },
  {
   "cell_type": "code",
   "execution_count": 144,
   "metadata": {
    "execution": {
     "iopub.execute_input": "2022-07-31T09:26:45.700487Z",
     "iopub.status.busy": "2022-07-31T09:26:45.700177Z",
     "iopub.status.idle": "2022-07-31T09:26:45.718854Z",
     "shell.execute_reply": "2022-07-31T09:26:45.717355Z",
     "shell.execute_reply.started": "2022-07-31T09:26:45.700459Z"
    }
   },
   "outputs": [
    {
     "name": "stdout",
     "output_type": "stream",
     "text": [
      "<class 'pandas.core.frame.DataFrame'>\n",
      "Int64Index: 6373 entries, 0 to 9239\n",
      "Data columns (total 8 columns):\n",
      " #   Column                                  Non-Null Count  Dtype \n",
      "---  ------                                  --------------  ----- \n",
      " 0   Lead Origin                             6373 non-null   object\n",
      " 1   Lead Source                             6373 non-null   object\n",
      " 2   Do Not Email                            6373 non-null   object\n",
      " 3   Last Activity                           6373 non-null   object\n",
      " 4   Specialization                          6373 non-null   object\n",
      " 5   What is your current occupation         6373 non-null   object\n",
      " 6   A free copy of Mastering The Interview  6373 non-null   object\n",
      " 7   Last Notable Activity                   6373 non-null   object\n",
      "dtypes: object(8)\n",
      "memory usage: 706.1+ KB\n"
     ]
    }
   ],
   "source": [
    "leads_categorical.info()"
   ]
  },
  {
   "cell_type": "code",
   "execution_count": 145,
   "metadata": {
    "execution": {
     "iopub.execute_input": "2022-07-31T09:26:45.721393Z",
     "iopub.status.busy": "2022-07-31T09:26:45.720937Z",
     "iopub.status.idle": "2022-07-31T09:26:45.775547Z",
     "shell.execute_reply": "2022-07-31T09:26:45.774583Z",
     "shell.execute_reply.started": "2022-07-31T09:26:45.721346Z"
    }
   },
   "outputs": [
    {
     "data": {
      "text/html": [
       "<div>\n",
       "<style scoped>\n",
       "    .dataframe tbody tr th:only-of-type {\n",
       "        vertical-align: middle;\n",
       "    }\n",
       "\n",
       "    .dataframe tbody tr th {\n",
       "        vertical-align: top;\n",
       "    }\n",
       "\n",
       "    .dataframe thead th {\n",
       "        text-align: right;\n",
       "    }\n",
       "</style>\n",
       "<table border=\"1\" class=\"dataframe\">\n",
       "  <thead>\n",
       "    <tr style=\"text-align: right;\">\n",
       "      <th></th>\n",
       "      <th>cols</th>\n",
       "      <th>unique_value_count</th>\n",
       "      <th>list of unique values</th>\n",
       "      <th>% distribution of uniqiue_values</th>\n",
       "    </tr>\n",
       "  </thead>\n",
       "  <tbody>\n",
       "    <tr>\n",
       "      <th>4</th>\n",
       "      <td>Specialization</td>\n",
       "      <td>19</td>\n",
       "      <td>[Select, Finance Management, Human Resource Ma...</td>\n",
       "      <td>[29.0, 12.0, 10.0, 10.0, 6.0, 5.0, 4.0, 4.0, 4...</td>\n",
       "    </tr>\n",
       "    <tr>\n",
       "      <th>1</th>\n",
       "      <td>Lead Source</td>\n",
       "      <td>16</td>\n",
       "      <td>[Google, Direct Traffic, Olark Chat, Organic S...</td>\n",
       "      <td>[32.0, 29.0, 14.0, 14.0, 7.0, 2.0, 1.0, 0.0, 0...</td>\n",
       "    </tr>\n",
       "    <tr>\n",
       "      <th>3</th>\n",
       "      <td>Last Activity</td>\n",
       "      <td>16</td>\n",
       "      <td>[Email Opened, SMS Sent, Olark Chat Conversati...</td>\n",
       "      <td>[39.0, 34.0, 7.0, 7.0, 5.0, 3.0, 3.0, 1.0, 1.0...</td>\n",
       "    </tr>\n",
       "    <tr>\n",
       "      <th>7</th>\n",
       "      <td>Last Notable Activity</td>\n",
       "      <td>14</td>\n",
       "      <td>[Email Opened, Modified, SMS Sent, Page Visite...</td>\n",
       "      <td>[32.0, 31.0, 29.0, 3.0, 2.0, 1.0, 1.0, 0.0, 0....</td>\n",
       "    </tr>\n",
       "    <tr>\n",
       "      <th>5</th>\n",
       "      <td>What is your current occupation</td>\n",
       "      <td>6</td>\n",
       "      <td>[Unemployed, Working Professional, Student, Ot...</td>\n",
       "      <td>[86.0, 11.0, 3.0, 0.0, 0.0, 0.0]</td>\n",
       "    </tr>\n",
       "    <tr>\n",
       "      <th>0</th>\n",
       "      <td>Lead Origin</td>\n",
       "      <td>4</td>\n",
       "      <td>[Landing Page Submission, API, Lead Add Form, ...</td>\n",
       "      <td>[57.0, 34.0, 9.0, 0.0]</td>\n",
       "    </tr>\n",
       "    <tr>\n",
       "      <th>2</th>\n",
       "      <td>Do Not Email</td>\n",
       "      <td>2</td>\n",
       "      <td>[No, Yes]</td>\n",
       "      <td>[93.0, 7.0]</td>\n",
       "    </tr>\n",
       "    <tr>\n",
       "      <th>6</th>\n",
       "      <td>A free copy of Mastering The Interview</td>\n",
       "      <td>2</td>\n",
       "      <td>[No, Yes]</td>\n",
       "      <td>[66.0, 34.0]</td>\n",
       "    </tr>\n",
       "  </tbody>\n",
       "</table>\n",
       "</div>"
      ],
      "text/plain": [
       "                                     cols  unique_value_count  \\\n",
       "4                          Specialization                  19   \n",
       "1                             Lead Source                  16   \n",
       "3                           Last Activity                  16   \n",
       "7                   Last Notable Activity                  14   \n",
       "5         What is your current occupation                   6   \n",
       "0                             Lead Origin                   4   \n",
       "2                            Do Not Email                   2   \n",
       "6  A free copy of Mastering The Interview                   2   \n",
       "\n",
       "                               list of unique values  \\\n",
       "4  [Select, Finance Management, Human Resource Ma...   \n",
       "1  [Google, Direct Traffic, Olark Chat, Organic S...   \n",
       "3  [Email Opened, SMS Sent, Olark Chat Conversati...   \n",
       "7  [Email Opened, Modified, SMS Sent, Page Visite...   \n",
       "5  [Unemployed, Working Professional, Student, Ot...   \n",
       "0  [Landing Page Submission, API, Lead Add Form, ...   \n",
       "2                                          [No, Yes]   \n",
       "6                                          [No, Yes]   \n",
       "\n",
       "                    % distribution of uniqiue_values  \n",
       "4  [29.0, 12.0, 10.0, 10.0, 6.0, 5.0, 4.0, 4.0, 4...  \n",
       "1  [32.0, 29.0, 14.0, 14.0, 7.0, 2.0, 1.0, 0.0, 0...  \n",
       "3  [39.0, 34.0, 7.0, 7.0, 5.0, 3.0, 3.0, 1.0, 1.0...  \n",
       "7  [32.0, 31.0, 29.0, 3.0, 2.0, 1.0, 1.0, 0.0, 0....  \n",
       "5                   [86.0, 11.0, 3.0, 0.0, 0.0, 0.0]  \n",
       "0                             [57.0, 34.0, 9.0, 0.0]  \n",
       "2                                        [93.0, 7.0]  \n",
       "6                                       [66.0, 34.0]  "
      ]
     },
     "execution_count": 145,
     "metadata": {},
     "output_type": "execute_result"
    }
   ],
   "source": [
    "# lets look at the unique - values status\n",
    "see_unique_values(leads_categorical)"
   ]
  },
  {
   "cell_type": "markdown",
   "metadata": {},
   "source": [
    "#### Note : We can still See the level 'Select' in the specialization column, since it carries a meaning in that column in the context, lets contiue with that"
   ]
  },
  {
   "cell_type": "markdown",
   "metadata": {},
   "source": [
    "### Creating Dummies for Categorical Variables"
   ]
  },
  {
   "cell_type": "code",
   "execution_count": 146,
   "metadata": {
    "execution": {
     "iopub.execute_input": "2022-07-31T09:26:45.777632Z",
     "iopub.status.busy": "2022-07-31T09:26:45.777066Z",
     "iopub.status.idle": "2022-07-31T09:26:45.798808Z",
     "shell.execute_reply": "2022-07-31T09:26:45.797820Z",
     "shell.execute_reply.started": "2022-07-31T09:26:45.777577Z"
    }
   },
   "outputs": [],
   "source": [
    "leads_categorical_dummies = pd.get_dummies(leads_categorical,drop_first = True)"
   ]
  },
  {
   "cell_type": "code",
   "execution_count": 147,
   "metadata": {
    "execution": {
     "iopub.execute_input": "2022-07-31T09:26:45.802701Z",
     "iopub.status.busy": "2022-07-31T09:26:45.801862Z",
     "iopub.status.idle": "2022-07-31T09:26:45.823920Z",
     "shell.execute_reply": "2022-07-31T09:26:45.822747Z",
     "shell.execute_reply.started": "2022-07-31T09:26:45.802665Z"
    }
   },
   "outputs": [
    {
     "name": "stdout",
     "output_type": "stream",
     "text": [
      "<class 'pandas.core.frame.DataFrame'>\n",
      "Int64Index: 6373 entries, 0 to 9239\n",
      "Data columns (total 71 columns):\n",
      " #   Column                                                Non-Null Count  Dtype\n",
      "---  ------                                                --------------  -----\n",
      " 0   Lead Origin_Landing Page Submission                   6373 non-null   uint8\n",
      " 1   Lead Origin_Lead Add Form                             6373 non-null   uint8\n",
      " 2   Lead Origin_Lead Import                               6373 non-null   uint8\n",
      " 3   Lead Source_Direct Traffic                            6373 non-null   uint8\n",
      " 4   Lead Source_Facebook                                  6373 non-null   uint8\n",
      " 5   Lead Source_Google                                    6373 non-null   uint8\n",
      " 6   Lead Source_Live Chat                                 6373 non-null   uint8\n",
      " 7   Lead Source_Olark Chat                                6373 non-null   uint8\n",
      " 8   Lead Source_Organic Search                            6373 non-null   uint8\n",
      " 9   Lead Source_Pay per Click Ads                         6373 non-null   uint8\n",
      " 10  Lead Source_Press_Release                             6373 non-null   uint8\n",
      " 11  Lead Source_Reference                                 6373 non-null   uint8\n",
      " 12  Lead Source_Referral Sites                            6373 non-null   uint8\n",
      " 13  Lead Source_Social Media                              6373 non-null   uint8\n",
      " 14  Lead Source_WeLearn                                   6373 non-null   uint8\n",
      " 15  Lead Source_Welingak Website                          6373 non-null   uint8\n",
      " 16  Lead Source_bing                                      6373 non-null   uint8\n",
      " 17  Lead Source_testone                                   6373 non-null   uint8\n",
      " 18  Do Not Email_Yes                                      6373 non-null   uint8\n",
      " 19  Last Activity_Converted to Lead                       6373 non-null   uint8\n",
      " 20  Last Activity_Email Bounced                           6373 non-null   uint8\n",
      " 21  Last Activity_Email Link Clicked                      6373 non-null   uint8\n",
      " 22  Last Activity_Email Marked Spam                       6373 non-null   uint8\n",
      " 23  Last Activity_Email Opened                            6373 non-null   uint8\n",
      " 24  Last Activity_Email Received                          6373 non-null   uint8\n",
      " 25  Last Activity_Form Submitted on Website               6373 non-null   uint8\n",
      " 26  Last Activity_Had a Phone Conversation                6373 non-null   uint8\n",
      " 27  Last Activity_Olark Chat Conversation                 6373 non-null   uint8\n",
      " 28  Last Activity_Page Visited on Website                 6373 non-null   uint8\n",
      " 29  Last Activity_SMS Sent                                6373 non-null   uint8\n",
      " 30  Last Activity_Unreachable                             6373 non-null   uint8\n",
      " 31  Last Activity_Unsubscribed                            6373 non-null   uint8\n",
      " 32  Last Activity_View in browser link Clicked            6373 non-null   uint8\n",
      " 33  Last Activity_Visited Booth in Tradeshow              6373 non-null   uint8\n",
      " 34  Specialization_Business Administration                6373 non-null   uint8\n",
      " 35  Specialization_E-Business                             6373 non-null   uint8\n",
      " 36  Specialization_E-COMMERCE                             6373 non-null   uint8\n",
      " 37  Specialization_Finance Management                     6373 non-null   uint8\n",
      " 38  Specialization_Healthcare Management                  6373 non-null   uint8\n",
      " 39  Specialization_Hospitality Management                 6373 non-null   uint8\n",
      " 40  Specialization_Human Resource Management              6373 non-null   uint8\n",
      " 41  Specialization_IT Projects Management                 6373 non-null   uint8\n",
      " 42  Specialization_International Business                 6373 non-null   uint8\n",
      " 43  Specialization_Marketing Management                   6373 non-null   uint8\n",
      " 44  Specialization_Media and Advertising                  6373 non-null   uint8\n",
      " 45  Specialization_Operations Management                  6373 non-null   uint8\n",
      " 46  Specialization_Retail Management                      6373 non-null   uint8\n",
      " 47  Specialization_Rural and Agribusiness                 6373 non-null   uint8\n",
      " 48  Specialization_Select                                 6373 non-null   uint8\n",
      " 49  Specialization_Services Excellence                    6373 non-null   uint8\n",
      " 50  Specialization_Supply Chain Management                6373 non-null   uint8\n",
      " 51  Specialization_Travel and Tourism                     6373 non-null   uint8\n",
      " 52  What is your current occupation_Housewife             6373 non-null   uint8\n",
      " 53  What is your current occupation_Other                 6373 non-null   uint8\n",
      " 54  What is your current occupation_Student               6373 non-null   uint8\n",
      " 55  What is your current occupation_Unemployed            6373 non-null   uint8\n",
      " 56  What is your current occupation_Working Professional  6373 non-null   uint8\n",
      " 57  A free copy of Mastering The Interview_Yes            6373 non-null   uint8\n",
      " 58  Last Notable Activity_Email Bounced                   6373 non-null   uint8\n",
      " 59  Last Notable Activity_Email Link Clicked              6373 non-null   uint8\n",
      " 60  Last Notable Activity_Email Marked Spam               6373 non-null   uint8\n",
      " 61  Last Notable Activity_Email Opened                    6373 non-null   uint8\n",
      " 62  Last Notable Activity_Email Received                  6373 non-null   uint8\n",
      " 63  Last Notable Activity_Had a Phone Conversation        6373 non-null   uint8\n",
      " 64  Last Notable Activity_Modified                        6373 non-null   uint8\n",
      " 65  Last Notable Activity_Olark Chat Conversation         6373 non-null   uint8\n",
      " 66  Last Notable Activity_Page Visited on Website         6373 non-null   uint8\n",
      " 67  Last Notable Activity_SMS Sent                        6373 non-null   uint8\n",
      " 68  Last Notable Activity_Unreachable                     6373 non-null   uint8\n",
      " 69  Last Notable Activity_Unsubscribed                    6373 non-null   uint8\n",
      " 70  Last Notable Activity_View in browser link Clicked    6373 non-null   uint8\n",
      "dtypes: uint8(71)\n",
      "memory usage: 749.7 KB\n"
     ]
    }
   ],
   "source": [
    "leads_categorical_dummies.info()"
   ]
  },
  {
   "cell_type": "markdown",
   "metadata": {},
   "source": [
    "#### Now the Categorical variables are conversted to its dummies -- > binary form - This looks good"
   ]
  },
  {
   "cell_type": "markdown",
   "metadata": {},
   "source": [
    "### Lets Merge the categorical and Numerical sub set into one DataFrame for further Processing"
   ]
  },
  {
   "cell_type": "code",
   "execution_count": 148,
   "metadata": {
    "execution": {
     "iopub.execute_input": "2022-07-31T09:26:45.828206Z",
     "iopub.status.busy": "2022-07-31T09:26:45.827442Z",
     "iopub.status.idle": "2022-07-31T09:26:45.834297Z",
     "shell.execute_reply": "2022-07-31T09:26:45.833456Z",
     "shell.execute_reply.started": "2022-07-31T09:26:45.828165Z"
    }
   },
   "outputs": [],
   "source": [
    "leads_prepared = pd.concat([leads_numeric,leads_categorical_dummies], axis = 1)"
   ]
  },
  {
   "cell_type": "code",
   "execution_count": 149,
   "metadata": {
    "execution": {
     "iopub.execute_input": "2022-07-31T09:26:45.836531Z",
     "iopub.status.busy": "2022-07-31T09:26:45.835439Z",
     "iopub.status.idle": "2022-07-31T09:26:46.025766Z",
     "shell.execute_reply": "2022-07-31T09:26:46.024513Z",
     "shell.execute_reply.started": "2022-07-31T09:26:45.836473Z"
    }
   },
   "outputs": [
    {
     "data": {
      "text/html": [
       "<div>\n",
       "<style scoped>\n",
       "    .dataframe tbody tr th:only-of-type {\n",
       "        vertical-align: middle;\n",
       "    }\n",
       "\n",
       "    .dataframe tbody tr th {\n",
       "        vertical-align: top;\n",
       "    }\n",
       "\n",
       "    .dataframe thead th {\n",
       "        text-align: right;\n",
       "    }\n",
       "</style>\n",
       "<table border=\"1\" class=\"dataframe\">\n",
       "  <thead>\n",
       "    <tr style=\"text-align: right;\">\n",
       "      <th></th>\n",
       "      <th>Converted</th>\n",
       "      <th>TotalVisits</th>\n",
       "      <th>Total Time Spent on Website</th>\n",
       "      <th>Page Views Per Visit</th>\n",
       "      <th>Lead Origin_Landing Page Submission</th>\n",
       "      <th>Lead Origin_Lead Add Form</th>\n",
       "      <th>Lead Origin_Lead Import</th>\n",
       "      <th>Lead Source_Direct Traffic</th>\n",
       "      <th>Lead Source_Facebook</th>\n",
       "      <th>Lead Source_Google</th>\n",
       "      <th>...</th>\n",
       "      <th>Last Notable Activity_Email Opened</th>\n",
       "      <th>Last Notable Activity_Email Received</th>\n",
       "      <th>Last Notable Activity_Had a Phone Conversation</th>\n",
       "      <th>Last Notable Activity_Modified</th>\n",
       "      <th>Last Notable Activity_Olark Chat Conversation</th>\n",
       "      <th>Last Notable Activity_Page Visited on Website</th>\n",
       "      <th>Last Notable Activity_SMS Sent</th>\n",
       "      <th>Last Notable Activity_Unreachable</th>\n",
       "      <th>Last Notable Activity_Unsubscribed</th>\n",
       "      <th>Last Notable Activity_View in browser link Clicked</th>\n",
       "    </tr>\n",
       "  </thead>\n",
       "  <tbody>\n",
       "    <tr>\n",
       "      <th>count</th>\n",
       "      <td>6373.000000</td>\n",
       "      <td>6373.000000</td>\n",
       "      <td>6373.000000</td>\n",
       "      <td>6373.000000</td>\n",
       "      <td>6373.000000</td>\n",
       "      <td>6373.000000</td>\n",
       "      <td>6373.000000</td>\n",
       "      <td>6373.000000</td>\n",
       "      <td>6373.000000</td>\n",
       "      <td>6373.000000</td>\n",
       "      <td>...</td>\n",
       "      <td>6373.000000</td>\n",
       "      <td>6373.000000</td>\n",
       "      <td>6373.000000</td>\n",
       "      <td>6373.000000</td>\n",
       "      <td>6373.000000</td>\n",
       "      <td>6373.000000</td>\n",
       "      <td>6373.000000</td>\n",
       "      <td>6373.000000</td>\n",
       "      <td>6373.000000</td>\n",
       "      <td>6373.000000</td>\n",
       "    </tr>\n",
       "    <tr>\n",
       "      <th>mean</th>\n",
       "      <td>0.480935</td>\n",
       "      <td>3.513102</td>\n",
       "      <td>535.224541</td>\n",
       "      <td>2.452169</td>\n",
       "      <td>0.568806</td>\n",
       "      <td>0.091166</td>\n",
       "      <td>0.004237</td>\n",
       "      <td>0.293896</td>\n",
       "      <td>0.004394</td>\n",
       "      <td>0.321356</td>\n",
       "      <td>...</td>\n",
       "      <td>0.319787</td>\n",
       "      <td>0.000157</td>\n",
       "      <td>0.002040</td>\n",
       "      <td>0.305508</td>\n",
       "      <td>0.011925</td>\n",
       "      <td>0.033422</td>\n",
       "      <td>0.293268</td>\n",
       "      <td>0.003452</td>\n",
       "      <td>0.004864</td>\n",
       "      <td>0.000157</td>\n",
       "    </tr>\n",
       "    <tr>\n",
       "      <th>std</th>\n",
       "      <td>0.499676</td>\n",
       "      <td>3.334184</td>\n",
       "      <td>565.374753</td>\n",
       "      <td>1.978670</td>\n",
       "      <td>0.495282</td>\n",
       "      <td>0.287867</td>\n",
       "      <td>0.064956</td>\n",
       "      <td>0.455581</td>\n",
       "      <td>0.066143</td>\n",
       "      <td>0.467034</td>\n",
       "      <td>...</td>\n",
       "      <td>0.466430</td>\n",
       "      <td>0.012526</td>\n",
       "      <td>0.045122</td>\n",
       "      <td>0.460658</td>\n",
       "      <td>0.108558</td>\n",
       "      <td>0.179751</td>\n",
       "      <td>0.455296</td>\n",
       "      <td>0.058657</td>\n",
       "      <td>0.069580</td>\n",
       "      <td>0.012526</td>\n",
       "    </tr>\n",
       "    <tr>\n",
       "      <th>min</th>\n",
       "      <td>0.000000</td>\n",
       "      <td>0.000000</td>\n",
       "      <td>0.000000</td>\n",
       "      <td>0.000000</td>\n",
       "      <td>0.000000</td>\n",
       "      <td>0.000000</td>\n",
       "      <td>0.000000</td>\n",
       "      <td>0.000000</td>\n",
       "      <td>0.000000</td>\n",
       "      <td>0.000000</td>\n",
       "      <td>...</td>\n",
       "      <td>0.000000</td>\n",
       "      <td>0.000000</td>\n",
       "      <td>0.000000</td>\n",
       "      <td>0.000000</td>\n",
       "      <td>0.000000</td>\n",
       "      <td>0.000000</td>\n",
       "      <td>0.000000</td>\n",
       "      <td>0.000000</td>\n",
       "      <td>0.000000</td>\n",
       "      <td>0.000000</td>\n",
       "    </tr>\n",
       "    <tr>\n",
       "      <th>25%</th>\n",
       "      <td>0.000000</td>\n",
       "      <td>1.000000</td>\n",
       "      <td>34.000000</td>\n",
       "      <td>1.000000</td>\n",
       "      <td>0.000000</td>\n",
       "      <td>0.000000</td>\n",
       "      <td>0.000000</td>\n",
       "      <td>0.000000</td>\n",
       "      <td>0.000000</td>\n",
       "      <td>0.000000</td>\n",
       "      <td>...</td>\n",
       "      <td>0.000000</td>\n",
       "      <td>0.000000</td>\n",
       "      <td>0.000000</td>\n",
       "      <td>0.000000</td>\n",
       "      <td>0.000000</td>\n",
       "      <td>0.000000</td>\n",
       "      <td>0.000000</td>\n",
       "      <td>0.000000</td>\n",
       "      <td>0.000000</td>\n",
       "      <td>0.000000</td>\n",
       "    </tr>\n",
       "    <tr>\n",
       "      <th>50%</th>\n",
       "      <td>0.000000</td>\n",
       "      <td>3.000000</td>\n",
       "      <td>287.000000</td>\n",
       "      <td>2.000000</td>\n",
       "      <td>1.000000</td>\n",
       "      <td>0.000000</td>\n",
       "      <td>0.000000</td>\n",
       "      <td>0.000000</td>\n",
       "      <td>0.000000</td>\n",
       "      <td>0.000000</td>\n",
       "      <td>...</td>\n",
       "      <td>0.000000</td>\n",
       "      <td>0.000000</td>\n",
       "      <td>0.000000</td>\n",
       "      <td>0.000000</td>\n",
       "      <td>0.000000</td>\n",
       "      <td>0.000000</td>\n",
       "      <td>0.000000</td>\n",
       "      <td>0.000000</td>\n",
       "      <td>0.000000</td>\n",
       "      <td>0.000000</td>\n",
       "    </tr>\n",
       "    <tr>\n",
       "      <th>75%</th>\n",
       "      <td>1.000000</td>\n",
       "      <td>5.000000</td>\n",
       "      <td>1022.000000</td>\n",
       "      <td>3.500000</td>\n",
       "      <td>1.000000</td>\n",
       "      <td>0.000000</td>\n",
       "      <td>0.000000</td>\n",
       "      <td>1.000000</td>\n",
       "      <td>0.000000</td>\n",
       "      <td>1.000000</td>\n",
       "      <td>...</td>\n",
       "      <td>1.000000</td>\n",
       "      <td>0.000000</td>\n",
       "      <td>0.000000</td>\n",
       "      <td>1.000000</td>\n",
       "      <td>0.000000</td>\n",
       "      <td>0.000000</td>\n",
       "      <td>1.000000</td>\n",
       "      <td>0.000000</td>\n",
       "      <td>0.000000</td>\n",
       "      <td>0.000000</td>\n",
       "    </tr>\n",
       "    <tr>\n",
       "      <th>max</th>\n",
       "      <td>1.000000</td>\n",
       "      <td>18.000000</td>\n",
       "      <td>2272.000000</td>\n",
       "      <td>9.000000</td>\n",
       "      <td>1.000000</td>\n",
       "      <td>1.000000</td>\n",
       "      <td>1.000000</td>\n",
       "      <td>1.000000</td>\n",
       "      <td>1.000000</td>\n",
       "      <td>1.000000</td>\n",
       "      <td>...</td>\n",
       "      <td>1.000000</td>\n",
       "      <td>1.000000</td>\n",
       "      <td>1.000000</td>\n",
       "      <td>1.000000</td>\n",
       "      <td>1.000000</td>\n",
       "      <td>1.000000</td>\n",
       "      <td>1.000000</td>\n",
       "      <td>1.000000</td>\n",
       "      <td>1.000000</td>\n",
       "      <td>1.000000</td>\n",
       "    </tr>\n",
       "  </tbody>\n",
       "</table>\n",
       "<p>8 rows × 75 columns</p>\n",
       "</div>"
      ],
      "text/plain": [
       "         Converted  TotalVisits  Total Time Spent on Website  \\\n",
       "count  6373.000000  6373.000000                  6373.000000   \n",
       "mean      0.480935     3.513102                   535.224541   \n",
       "std       0.499676     3.334184                   565.374753   \n",
       "min       0.000000     0.000000                     0.000000   \n",
       "25%       0.000000     1.000000                    34.000000   \n",
       "50%       0.000000     3.000000                   287.000000   \n",
       "75%       1.000000     5.000000                  1022.000000   \n",
       "max       1.000000    18.000000                  2272.000000   \n",
       "\n",
       "       Page Views Per Visit  Lead Origin_Landing Page Submission  \\\n",
       "count           6373.000000                          6373.000000   \n",
       "mean               2.452169                             0.568806   \n",
       "std                1.978670                             0.495282   \n",
       "min                0.000000                             0.000000   \n",
       "25%                1.000000                             0.000000   \n",
       "50%                2.000000                             1.000000   \n",
       "75%                3.500000                             1.000000   \n",
       "max                9.000000                             1.000000   \n",
       "\n",
       "       Lead Origin_Lead Add Form  Lead Origin_Lead Import  \\\n",
       "count                6373.000000              6373.000000   \n",
       "mean                    0.091166                 0.004237   \n",
       "std                     0.287867                 0.064956   \n",
       "min                     0.000000                 0.000000   \n",
       "25%                     0.000000                 0.000000   \n",
       "50%                     0.000000                 0.000000   \n",
       "75%                     0.000000                 0.000000   \n",
       "max                     1.000000                 1.000000   \n",
       "\n",
       "       Lead Source_Direct Traffic  Lead Source_Facebook  Lead Source_Google  \\\n",
       "count                 6373.000000           6373.000000         6373.000000   \n",
       "mean                     0.293896              0.004394            0.321356   \n",
       "std                      0.455581              0.066143            0.467034   \n",
       "min                      0.000000              0.000000            0.000000   \n",
       "25%                      0.000000              0.000000            0.000000   \n",
       "50%                      0.000000              0.000000            0.000000   \n",
       "75%                      1.000000              0.000000            1.000000   \n",
       "max                      1.000000              1.000000            1.000000   \n",
       "\n",
       "       ...  Last Notable Activity_Email Opened  \\\n",
       "count  ...                         6373.000000   \n",
       "mean   ...                            0.319787   \n",
       "std    ...                            0.466430   \n",
       "min    ...                            0.000000   \n",
       "25%    ...                            0.000000   \n",
       "50%    ...                            0.000000   \n",
       "75%    ...                            1.000000   \n",
       "max    ...                            1.000000   \n",
       "\n",
       "       Last Notable Activity_Email Received  \\\n",
       "count                           6373.000000   \n",
       "mean                               0.000157   \n",
       "std                                0.012526   \n",
       "min                                0.000000   \n",
       "25%                                0.000000   \n",
       "50%                                0.000000   \n",
       "75%                                0.000000   \n",
       "max                                1.000000   \n",
       "\n",
       "       Last Notable Activity_Had a Phone Conversation  \\\n",
       "count                                     6373.000000   \n",
       "mean                                         0.002040   \n",
       "std                                          0.045122   \n",
       "min                                          0.000000   \n",
       "25%                                          0.000000   \n",
       "50%                                          0.000000   \n",
       "75%                                          0.000000   \n",
       "max                                          1.000000   \n",
       "\n",
       "       Last Notable Activity_Modified  \\\n",
       "count                     6373.000000   \n",
       "mean                         0.305508   \n",
       "std                          0.460658   \n",
       "min                          0.000000   \n",
       "25%                          0.000000   \n",
       "50%                          0.000000   \n",
       "75%                          1.000000   \n",
       "max                          1.000000   \n",
       "\n",
       "       Last Notable Activity_Olark Chat Conversation  \\\n",
       "count                                    6373.000000   \n",
       "mean                                        0.011925   \n",
       "std                                         0.108558   \n",
       "min                                         0.000000   \n",
       "25%                                         0.000000   \n",
       "50%                                         0.000000   \n",
       "75%                                         0.000000   \n",
       "max                                         1.000000   \n",
       "\n",
       "       Last Notable Activity_Page Visited on Website  \\\n",
       "count                                    6373.000000   \n",
       "mean                                        0.033422   \n",
       "std                                         0.179751   \n",
       "min                                         0.000000   \n",
       "25%                                         0.000000   \n",
       "50%                                         0.000000   \n",
       "75%                                         0.000000   \n",
       "max                                         1.000000   \n",
       "\n",
       "       Last Notable Activity_SMS Sent  Last Notable Activity_Unreachable  \\\n",
       "count                     6373.000000                        6373.000000   \n",
       "mean                         0.293268                           0.003452   \n",
       "std                          0.455296                           0.058657   \n",
       "min                          0.000000                           0.000000   \n",
       "25%                          0.000000                           0.000000   \n",
       "50%                          0.000000                           0.000000   \n",
       "75%                          1.000000                           0.000000   \n",
       "max                          1.000000                           1.000000   \n",
       "\n",
       "       Last Notable Activity_Unsubscribed  \\\n",
       "count                         6373.000000   \n",
       "mean                             0.004864   \n",
       "std                              0.069580   \n",
       "min                              0.000000   \n",
       "25%                              0.000000   \n",
       "50%                              0.000000   \n",
       "75%                              0.000000   \n",
       "max                              1.000000   \n",
       "\n",
       "       Last Notable Activity_View in browser link Clicked  \n",
       "count                                        6373.000000   \n",
       "mean                                            0.000157   \n",
       "std                                             0.012526   \n",
       "min                                             0.000000   \n",
       "25%                                             0.000000   \n",
       "50%                                             0.000000   \n",
       "75%                                             0.000000   \n",
       "max                                             1.000000   \n",
       "\n",
       "[8 rows x 75 columns]"
      ]
     },
     "execution_count": 149,
     "metadata": {},
     "output_type": "execute_result"
    }
   ],
   "source": [
    "leads_prepared.describe()"
   ]
  },
  {
   "cell_type": "markdown",
   "metadata": {},
   "source": [
    "### Lets look at the correlations in independant variables"
   ]
  },
  {
   "cell_type": "code",
   "execution_count": 150,
   "metadata": {
    "execution": {
     "iopub.execute_input": "2022-07-31T09:26:46.027528Z",
     "iopub.status.busy": "2022-07-31T09:26:46.027200Z",
     "iopub.status.idle": "2022-07-31T09:26:46.132143Z",
     "shell.execute_reply": "2022-07-31T09:26:46.130761Z",
     "shell.execute_reply.started": "2022-07-31T09:26:46.027500Z"
    }
   },
   "outputs": [],
   "source": [
    "X = leads_prepared.drop(['Converted'], axis = 1)\n",
    "corr = X.corr()"
   ]
  },
  {
   "cell_type": "code",
   "execution_count": 151,
   "metadata": {
    "execution": {
     "iopub.execute_input": "2022-07-31T09:26:46.135696Z",
     "iopub.status.busy": "2022-07-31T09:26:46.134901Z",
     "iopub.status.idle": "2022-07-31T09:26:48.749855Z",
     "shell.execute_reply": "2022-07-31T09:26:48.748633Z",
     "shell.execute_reply.started": "2022-07-31T09:26:46.135642Z"
    }
   },
   "outputs": [
    {
     "data": {
      "image/png": "[encoded data removed]",
      "text/plain": [
       "<Figure size 1080x1080 with 2 Axes>"
      ]
     },
     "metadata": {
      "needs_background": "light"
     },
     "output_type": "display_data"
    }
   ],
   "source": [
    "plt.figure(figsize = (15,15))\n",
    "sns.heatmap(X.corr())\n",
    "plt.show()"
   ]
  },
  {
   "cell_type": "markdown",
   "metadata": {},
   "source": [
    "### Note : Since the number of varibales are very high the heatman is not easily readable - So, lets look at something else"
   ]
  },
  {
   "cell_type": "markdown",
   "metadata": {},
   "source": [
    "### Lets Look at the Top 10 Correlations between the Independant Variables"
   ]
  },
  {
   "cell_type": "code",
   "execution_count": 152,
   "metadata": {
    "execution": {
     "iopub.execute_input": "2022-07-31T09:26:48.752142Z",
     "iopub.status.busy": "2022-07-31T09:26:48.751674Z",
     "iopub.status.idle": "2022-07-31T09:26:49.085128Z",
     "shell.execute_reply": "2022-07-31T09:26:49.083916Z",
     "shell.execute_reply.started": "2022-07-31T09:26:48.752096Z"
    }
   },
   "outputs": [
    {
     "data": {
      "text/html": [
       "<div>\n",
       "<style scoped>\n",
       "    .dataframe tbody tr th:only-of-type {\n",
       "        vertical-align: middle;\n",
       "    }\n",
       "\n",
       "    .dataframe tbody tr th {\n",
       "        vertical-align: top;\n",
       "    }\n",
       "\n",
       "    .dataframe thead th {\n",
       "        text-align: right;\n",
       "    }\n",
       "</style>\n",
       "<table border=\"1\" class=\"dataframe\">\n",
       "  <thead>\n",
       "    <tr style=\"text-align: right;\">\n",
       "      <th></th>\n",
       "      <th>level_0</th>\n",
       "      <th>level_1</th>\n",
       "      <th>correlation_value</th>\n",
       "      <th>direction</th>\n",
       "      <th>abs_value</th>\n",
       "    </tr>\n",
       "  </thead>\n",
       "  <tbody>\n",
       "    <tr>\n",
       "      <th>1913</th>\n",
       "      <td>Last Activity_Email Marked Spam</td>\n",
       "      <td>Last Notable Activity_Email Marked Spam</td>\n",
       "      <td>1.000000</td>\n",
       "      <td>Positive</td>\n",
       "      <td>1.000000</td>\n",
       "    </tr>\n",
       "    <tr>\n",
       "      <th>377</th>\n",
       "      <td>Lead Origin_Lead Import</td>\n",
       "      <td>Lead Source_Facebook</td>\n",
       "      <td>0.981903</td>\n",
       "      <td>Positive</td>\n",
       "      <td>0.981903</td>\n",
       "    </tr>\n",
       "    <tr>\n",
       "      <th>2438</th>\n",
       "      <td>Last Activity_SMS Sent</td>\n",
       "      <td>Last Notable Activity_SMS Sent</td>\n",
       "      <td>0.890591</td>\n",
       "      <td>Positive</td>\n",
       "      <td>0.890591</td>\n",
       "    </tr>\n",
       "    <tr>\n",
       "      <th>2588</th>\n",
       "      <td>Last Activity_Unsubscribed</td>\n",
       "      <td>Last Notable Activity_Unsubscribed</td>\n",
       "      <td>0.879716</td>\n",
       "      <td>Positive</td>\n",
       "      <td>0.879716</td>\n",
       "    </tr>\n",
       "    <tr>\n",
       "      <th>1988</th>\n",
       "      <td>Last Activity_Email Opened</td>\n",
       "      <td>Last Notable Activity_Email Opened</td>\n",
       "      <td>0.866192</td>\n",
       "      <td>Positive</td>\n",
       "      <td>0.866192</td>\n",
       "    </tr>\n",
       "    <tr>\n",
       "      <th>310</th>\n",
       "      <td>Lead Origin_Lead Add Form</td>\n",
       "      <td>Lead Source_Reference</td>\n",
       "      <td>0.862980</td>\n",
       "      <td>Positive</td>\n",
       "      <td>0.862980</td>\n",
       "    </tr>\n",
       "    <tr>\n",
       "      <th>4351</th>\n",
       "      <td>What is your current occupation_Unemployed</td>\n",
       "      <td>What is your current occupation_Working Profes...</td>\n",
       "      <td>-0.848996</td>\n",
       "      <td>Negative</td>\n",
       "      <td>0.848996</td>\n",
       "    </tr>\n",
       "    <tr>\n",
       "      <th>1838</th>\n",
       "      <td>Last Activity_Email Link Clicked</td>\n",
       "      <td>Last Notable Activity_Email Link Clicked</td>\n",
       "      <td>0.781836</td>\n",
       "      <td>Positive</td>\n",
       "      <td>0.781836</td>\n",
       "    </tr>\n",
       "    <tr>\n",
       "      <th>2212</th>\n",
       "      <td>Last Activity_Had a Phone Conversation</td>\n",
       "      <td>Last Notable Activity_Had a Phone Conversation</td>\n",
       "      <td>0.751218</td>\n",
       "      <td>Positive</td>\n",
       "      <td>0.751218</td>\n",
       "    </tr>\n",
       "    <tr>\n",
       "      <th>2063</th>\n",
       "      <td>Last Activity_Email Received</td>\n",
       "      <td>Last Notable Activity_Email Received</td>\n",
       "      <td>0.707051</td>\n",
       "      <td>Positive</td>\n",
       "      <td>0.707051</td>\n",
       "    </tr>\n",
       "  </tbody>\n",
       "</table>\n",
       "</div>"
      ],
      "text/plain": [
       "                                         level_0  \\\n",
       "1913             Last Activity_Email Marked Spam   \n",
       "377                      Lead Origin_Lead Import   \n",
       "2438                      Last Activity_SMS Sent   \n",
       "2588                  Last Activity_Unsubscribed   \n",
       "1988                  Last Activity_Email Opened   \n",
       "310                    Lead Origin_Lead Add Form   \n",
       "4351  What is your current occupation_Unemployed   \n",
       "1838            Last Activity_Email Link Clicked   \n",
       "2212      Last Activity_Had a Phone Conversation   \n",
       "2063                Last Activity_Email Received   \n",
       "\n",
       "                                                level_1  correlation_value  \\\n",
       "1913            Last Notable Activity_Email Marked Spam           1.000000   \n",
       "377                                Lead Source_Facebook           0.981903   \n",
       "2438                     Last Notable Activity_SMS Sent           0.890591   \n",
       "2588                 Last Notable Activity_Unsubscribed           0.879716   \n",
       "1988                 Last Notable Activity_Email Opened           0.866192   \n",
       "310                               Lead Source_Reference           0.862980   \n",
       "4351  What is your current occupation_Working Profes...          -0.848996   \n",
       "1838           Last Notable Activity_Email Link Clicked           0.781836   \n",
       "2212     Last Notable Activity_Had a Phone Conversation           0.751218   \n",
       "2063               Last Notable Activity_Email Received           0.707051   \n",
       "\n",
       "     direction  abs_value  \n",
       "1913  Positive   1.000000  \n",
       "377   Positive   0.981903  \n",
       "2438  Positive   0.890591  \n",
       "2588  Positive   0.879716  \n",
       "1988  Positive   0.866192  \n",
       "310   Positive   0.862980  \n",
       "4351  Negative   0.848996  \n",
       "1838  Positive   0.781836  \n",
       "2212  Positive   0.751218  \n",
       "2063  Positive   0.707051  "
      ]
     },
     "execution_count": 152,
     "metadata": {},
     "output_type": "execute_result"
    }
   ],
   "source": [
    "# Top 10 Correlations\n",
    "\n",
    "corr_df = corr.unstack().rename('correlation_value').reset_index()\n",
    "\n",
    "corr_df = corr_df[~(corr_df['level_0'] == corr_df['level_1'])]\n",
    "\n",
    "corr_df['duplicatedVar'] = (corr_df[['level_0','level_1']].values.tolist())\n",
    "corr_df['duplicatedVar'] = corr_df['duplicatedVar'].apply(lambda x : sorted(x))\n",
    "\n",
    "corr_df = corr_df[~corr_df['duplicatedVar'].duplicated( keep = 'first')]\n",
    "corr_df = corr_df.drop('duplicatedVar', axis = 1)\n",
    "\n",
    "corr_df['direction'] = corr_df['correlation_value'].apply(lambda x : 'Positive' if x > 0 else 'Negative' if x < 0 else 'No Correlation' )\n",
    "corr_df['abs_value'] = corr_df['correlation_value'].abs()\n",
    "\n",
    "corr_df.sort_values(by = 'abs_value', ascending = False, inplace = True)\n",
    "corr_df.head(10)"
   ]
  },
  {
   "cell_type": "markdown",
   "metadata": {},
   "source": [
    "### Note : We can see there are many variales are muti-collinear , Any how we hope VIF would help us get over the these realationships"
   ]
  },
  {
   "cell_type": "markdown",
   "metadata": {},
   "source": [
    "# Train Test Split"
   ]
  },
  {
   "cell_type": "code",
   "execution_count": 153,
   "metadata": {
    "execution": {
     "iopub.execute_input": "2022-07-31T09:26:49.086916Z",
     "iopub.status.busy": "2022-07-31T09:26:49.086389Z",
     "iopub.status.idle": "2022-07-31T09:26:49.091992Z",
     "shell.execute_reply": "2022-07-31T09:26:49.090582Z",
     "shell.execute_reply.started": "2022-07-31T09:26:49.086882Z"
    }
   },
   "outputs": [],
   "source": [
    "from sklearn.model_selection import train_test_split"
   ]
  },
  {
   "cell_type": "code",
   "execution_count": 154,
   "metadata": {
    "execution": {
     "iopub.execute_input": "2022-07-31T09:26:49.093931Z",
     "iopub.status.busy": "2022-07-31T09:26:49.093577Z",
     "iopub.status.idle": "2022-07-31T09:26:49.105786Z",
     "shell.execute_reply": "2022-07-31T09:26:49.104787Z",
     "shell.execute_reply.started": "2022-07-31T09:26:49.093897Z"
    }
   },
   "outputs": [],
   "source": [
    "# Defining the Predictors and label of the dataset for train & test Splitting\n",
    "\n",
    "X = leads_prepared.drop(['Converted'], axis = 1)\n",
    "y = leads_prepared['Converted']"
   ]
  },
  {
   "cell_type": "code",
   "execution_count": 155,
   "metadata": {
    "execution": {
     "iopub.execute_input": "2022-07-31T09:26:49.107739Z",
     "iopub.status.busy": "2022-07-31T09:26:49.106972Z",
     "iopub.status.idle": "2022-07-31T09:26:49.123463Z",
     "shell.execute_reply": "2022-07-31T09:26:49.122542Z",
     "shell.execute_reply.started": "2022-07-31T09:26:49.107700Z"
    }
   },
   "outputs": [
    {
     "name": "stdout",
     "output_type": "stream",
     "text": [
      "\n",
      "Train Set Shape :  (4461, 74) (4461,)\n",
      "\n",
      "Test Set Shape :  (1912, 74) (1912,)\n"
     ]
    }
   ],
   "source": [
    "# Splitting the dataframe into training and test with training size = 70 % \n",
    "\n",
    "X_train, X_test, y_train, y_test = train_test_split(X,y,train_size = 0.7, random_state = 100)\n",
    "print('\\nTrain Set Shape : ',X_train.shape, y_train.shape)\n",
    "print('\\nTest Set Shape : ',X_test.shape,y_test.shape)"
   ]
  },
  {
   "cell_type": "markdown",
   "metadata": {},
   "source": [
    "# Lets Normalise the Training DataSet\n",
    "\n",
    "### We choose MinMax Scalar for the prepocessing - Normalisation"
   ]
  },
  {
   "cell_type": "code",
   "execution_count": 156,
   "metadata": {
    "execution": {
     "iopub.execute_input": "2022-07-31T09:26:49.126176Z",
     "iopub.status.busy": "2022-07-31T09:26:49.125425Z",
     "iopub.status.idle": "2022-07-31T09:26:49.134296Z",
     "shell.execute_reply": "2022-07-31T09:26:49.133233Z",
     "shell.execute_reply.started": "2022-07-31T09:26:49.126128Z"
    }
   },
   "outputs": [],
   "source": [
    "# Importing the MixMax Scaler class and creating a scaler object\n",
    "\n",
    "from sklearn.preprocessing import MinMaxScaler\n",
    "scaler = MinMaxScaler()"
   ]
  },
  {
   "cell_type": "code",
   "execution_count": 157,
   "metadata": {
    "execution": {
     "iopub.execute_input": "2022-07-31T09:26:49.136816Z",
     "iopub.status.busy": "2022-07-31T09:26:49.136057Z",
     "iopub.status.idle": "2022-07-31T09:26:49.251733Z",
     "shell.execute_reply": "2022-07-31T09:26:49.250611Z",
     "shell.execute_reply.started": "2022-07-31T09:26:49.136769Z"
    }
   },
   "outputs": [],
   "source": [
    "# Fit_transform the X_variables writing that back to the data frame\n",
    "\n",
    "X_train[:] = scaler.fit_transform(X_train) \n",
    "\n",
    "# Using the slier operation for assigning scalled values to the dataframe to preserve the dataframe structure otherwise it will overwritten as a numpy array"
   ]
  },
  {
   "cell_type": "markdown",
   "metadata": {},
   "source": [
    "### Note : y variable is aleardy scaled as the values are districtly 0's and 1s."
   ]
  },
  {
   "cell_type": "markdown",
   "metadata": {},
   "source": [
    "# Lets Build the Logistic Regression Model"
   ]
  },
  {
   "cell_type": "markdown",
   "metadata": {},
   "source": [
    "### Feature Selection Using RFE"
   ]
  },
  {
   "cell_type": "code",
   "execution_count": 158,
   "metadata": {
    "execution": {
     "iopub.execute_input": "2022-07-31T09:26:49.253296Z",
     "iopub.status.busy": "2022-07-31T09:26:49.252986Z",
     "iopub.status.idle": "2022-07-31T09:26:49.259318Z",
     "shell.execute_reply": "2022-07-31T09:26:49.258015Z",
     "shell.execute_reply.started": "2022-07-31T09:26:49.253267Z"
    }
   },
   "outputs": [],
   "source": [
    "# importing the logistic regression Class from skleran and creating an object for fitting the RFE class that will be used next\n",
    "\n",
    "from sklearn.linear_model import LogisticRegression\n",
    "logreg = LogisticRegression()"
   ]
  },
  {
   "cell_type": "code",
   "execution_count": 159,
   "metadata": {
    "execution": {
     "iopub.execute_input": "2022-07-31T09:26:49.261562Z",
     "iopub.status.busy": "2022-07-31T09:26:49.260933Z",
     "iopub.status.idle": "2022-07-31T09:26:49.271306Z",
     "shell.execute_reply": "2022-07-31T09:26:49.270100Z",
     "shell.execute_reply.started": "2022-07-31T09:26:49.261528Z"
    }
   },
   "outputs": [],
   "source": [
    "# Importing RFE Class from sklearn aand creating an RFE object, with feature selection = 15, estimator = Logitsic Regress Object\n",
    "\n",
    "from sklearn.feature_selection import RFE\n",
    "rfe = RFE(estimator = logreg,n_features_to_select = 15)"
   ]
  },
  {
   "cell_type": "code",
   "execution_count": 160,
   "metadata": {
    "execution": {
     "iopub.execute_input": "2022-07-31T09:26:49.273258Z",
     "iopub.status.busy": "2022-07-31T09:26:49.272928Z",
     "iopub.status.idle": "2022-07-31T09:26:55.194320Z",
     "shell.execute_reply": "2022-07-31T09:26:55.192954Z",
     "shell.execute_reply.started": "2022-07-31T09:26:49.273227Z"
    }
   },
   "outputs": [],
   "source": [
    "# Fitting the rfe object training set\n",
    "\n",
    "rfe = rfe.fit(X_train,y_train)"
   ]
  },
  {
   "cell_type": "code",
   "execution_count": 161,
   "metadata": {
    "execution": {
     "iopub.execute_input": "2022-07-31T09:26:55.209397Z",
     "iopub.status.busy": "2022-07-31T09:26:55.208399Z",
     "iopub.status.idle": "2022-07-31T09:26:55.231991Z",
     "shell.execute_reply": "2022-07-31T09:26:55.230781Z",
     "shell.execute_reply.started": "2022-07-31T09:26:55.209323Z"
    }
   },
   "outputs": [
    {
     "data": {
      "text/html": [
       "<div>\n",
       "<style scoped>\n",
       "    .dataframe tbody tr th:only-of-type {\n",
       "        vertical-align: middle;\n",
       "    }\n",
       "\n",
       "    .dataframe tbody tr th {\n",
       "        vertical-align: top;\n",
       "    }\n",
       "\n",
       "    .dataframe thead th {\n",
       "        text-align: right;\n",
       "    }\n",
       "</style>\n",
       "<table border=\"1\" class=\"dataframe\">\n",
       "  <thead>\n",
       "    <tr style=\"text-align: right;\">\n",
       "      <th></th>\n",
       "      <th>variable</th>\n",
       "      <th>rfe_support_</th>\n",
       "      <th>rfe_ranking_</th>\n",
       "    </tr>\n",
       "  </thead>\n",
       "  <tbody>\n",
       "    <tr>\n",
       "      <th>0</th>\n",
       "      <td>TotalVisits</td>\n",
       "      <td>True</td>\n",
       "      <td>1</td>\n",
       "    </tr>\n",
       "    <tr>\n",
       "      <th>1</th>\n",
       "      <td>Total Time Spent on Website</td>\n",
       "      <td>True</td>\n",
       "      <td>1</td>\n",
       "    </tr>\n",
       "    <tr>\n",
       "      <th>2</th>\n",
       "      <td>Page Views Per Visit</td>\n",
       "      <td>False</td>\n",
       "      <td>7</td>\n",
       "    </tr>\n",
       "    <tr>\n",
       "      <th>3</th>\n",
       "      <td>Lead Origin_Landing Page Submission</td>\n",
       "      <td>False</td>\n",
       "      <td>2</td>\n",
       "    </tr>\n",
       "    <tr>\n",
       "      <th>4</th>\n",
       "      <td>Lead Origin_Lead Add Form</td>\n",
       "      <td>True</td>\n",
       "      <td>1</td>\n",
       "    </tr>\n",
       "    <tr>\n",
       "      <th>...</th>\n",
       "      <td>...</td>\n",
       "      <td>...</td>\n",
       "      <td>...</td>\n",
       "    </tr>\n",
       "    <tr>\n",
       "      <th>69</th>\n",
       "      <td>Last Notable Activity_Page Visited on Website</td>\n",
       "      <td>False</td>\n",
       "      <td>22</td>\n",
       "    </tr>\n",
       "    <tr>\n",
       "      <th>70</th>\n",
       "      <td>Last Notable Activity_SMS Sent</td>\n",
       "      <td>True</td>\n",
       "      <td>1</td>\n",
       "    </tr>\n",
       "    <tr>\n",
       "      <th>71</th>\n",
       "      <td>Last Notable Activity_Unreachable</td>\n",
       "      <td>True</td>\n",
       "      <td>1</td>\n",
       "    </tr>\n",
       "    <tr>\n",
       "      <th>72</th>\n",
       "      <td>Last Notable Activity_Unsubscribed</td>\n",
       "      <td>False</td>\n",
       "      <td>36</td>\n",
       "    </tr>\n",
       "    <tr>\n",
       "      <th>73</th>\n",
       "      <td>Last Notable Activity_View in browser link Cli...</td>\n",
       "      <td>False</td>\n",
       "      <td>20</td>\n",
       "    </tr>\n",
       "  </tbody>\n",
       "</table>\n",
       "<p>74 rows × 3 columns</p>\n",
       "</div>"
      ],
      "text/plain": [
       "                                             variable  rfe_support_  \\\n",
       "0                                         TotalVisits          True   \n",
       "1                         Total Time Spent on Website          True   \n",
       "2                                Page Views Per Visit         False   \n",
       "3                 Lead Origin_Landing Page Submission         False   \n",
       "4                           Lead Origin_Lead Add Form          True   \n",
       "..                                                ...           ...   \n",
       "69      Last Notable Activity_Page Visited on Website         False   \n",
       "70                     Last Notable Activity_SMS Sent          True   \n",
       "71                  Last Notable Activity_Unreachable          True   \n",
       "72                 Last Notable Activity_Unsubscribed         False   \n",
       "73  Last Notable Activity_View in browser link Cli...         False   \n",
       "\n",
       "    rfe_ranking_  \n",
       "0              1  \n",
       "1              1  \n",
       "2              7  \n",
       "3              2  \n",
       "4              1  \n",
       "..           ...  \n",
       "69            22  \n",
       "70             1  \n",
       "71             1  \n",
       "72            36  \n",
       "73            20  \n",
       "\n",
       "[74 rows x 3 columns]"
      ]
     },
     "execution_count": 161,
     "metadata": {},
     "output_type": "execute_result"
    }
   ],
   "source": [
    "# Displaying the RFE output & Rankings in a Dataframe\n",
    "\n",
    "pd.DataFrame({'variable':X_train.columns,'rfe_support_':rfe.support_,'rfe_ranking_':rfe.ranking_})"
   ]
  },
  {
   "cell_type": "code",
   "execution_count": 162,
   "metadata": {
    "execution": {
     "iopub.execute_input": "2022-07-31T09:26:55.234756Z",
     "iopub.status.busy": "2022-07-31T09:26:55.233938Z",
     "iopub.status.idle": "2022-07-31T09:26:55.240470Z",
     "shell.execute_reply": "2022-07-31T09:26:55.239326Z",
     "shell.execute_reply.started": "2022-07-31T09:26:55.234702Z"
    }
   },
   "outputs": [],
   "source": [
    "# Selecting the RFE identified columns with rfe.support_ attribute of the Class\n",
    "\n",
    "selected_cols = X_train.columns[rfe.support_]"
   ]
  },
  {
   "cell_type": "code",
   "execution_count": 163,
   "metadata": {
    "execution": {
     "iopub.execute_input": "2022-07-31T09:26:55.243183Z",
     "iopub.status.busy": "2022-07-31T09:26:55.242405Z",
     "iopub.status.idle": "2022-07-31T09:26:55.254780Z",
     "shell.execute_reply": "2022-07-31T09:26:55.253627Z",
     "shell.execute_reply.started": "2022-07-31T09:26:55.243129Z"
    }
   },
   "outputs": [
    {
     "data": {
      "text/plain": [
       "Index(['TotalVisits', 'Total Time Spent on Website',\n",
       "       'Lead Origin_Lead Add Form', 'Lead Source_Olark Chat',\n",
       "       'Lead Source_Welingak Website', 'Do Not Email_Yes',\n",
       "       'Last Activity_Email Bounced', 'Last Activity_Had a Phone Conversation',\n",
       "       'Last Activity_Olark Chat Conversation',\n",
       "       'What is your current occupation_Housewife',\n",
       "       'What is your current occupation_Working Professional',\n",
       "       'Last Notable Activity_Email Bounced',\n",
       "       'Last Notable Activity_Had a Phone Conversation',\n",
       "       'Last Notable Activity_SMS Sent', 'Last Notable Activity_Unreachable'],\n",
       "      dtype='object')"
      ]
     },
     "execution_count": 163,
     "metadata": {},
     "output_type": "execute_result"
    }
   ],
   "source": [
    "selected_cols"
   ]
  },
  {
   "cell_type": "code",
   "execution_count": 164,
   "metadata": {
    "execution": {
     "iopub.execute_input": "2022-07-31T09:26:55.257568Z",
     "iopub.status.busy": "2022-07-31T09:26:55.256671Z",
     "iopub.status.idle": "2022-07-31T09:26:55.266195Z",
     "shell.execute_reply": "2022-07-31T09:26:55.264982Z",
     "shell.execute_reply.started": "2022-07-31T09:26:55.257518Z"
    }
   },
   "outputs": [],
   "source": [
    "# Reducing the X_train to the realevant columns suggesed by the RFE\n",
    "\n",
    "X_train = X_train[selected_cols]"
   ]
  },
  {
   "cell_type": "markdown",
   "metadata": {},
   "source": [
    "# Buiding the Models using StatsModel - GLM "
   ]
  },
  {
   "cell_type": "code",
   "execution_count": 165,
   "metadata": {
    "execution": {
     "iopub.execute_input": "2022-07-31T09:26:55.269021Z",
     "iopub.status.busy": "2022-07-31T09:26:55.268073Z",
     "iopub.status.idle": "2022-07-31T09:26:55.276326Z",
     "shell.execute_reply": "2022-07-31T09:26:55.275190Z",
     "shell.execute_reply.started": "2022-07-31T09:26:55.268969Z"
    }
   },
   "outputs": [],
   "source": [
    "# Importing the StatsModel Api\n",
    "\n",
    "import statsmodels.api as sm"
   ]
  },
  {
   "cell_type": "markdown",
   "metadata": {},
   "source": [
    "### User Defined Function for Model Creation"
   ]
  },
  {
   "cell_type": "code",
   "execution_count": 166,
   "metadata": {
    "execution": {
     "iopub.execute_input": "2022-07-31T09:26:55.279007Z",
     "iopub.status.busy": "2022-07-31T09:26:55.278223Z",
     "iopub.status.idle": "2022-07-31T09:26:55.288068Z",
     "shell.execute_reply": "2022-07-31T09:26:55.286798Z",
     "shell.execute_reply.started": "2022-07-31T09:26:55.278956Z"
    }
   },
   "outputs": [],
   "source": [
    "# User defined function to create models using statsModels are we are going to reapet the process till we gat a good model\n",
    "\n",
    "def sm_log_model():\n",
    "    X_train_sm = sm.add_constant(X_train)\n",
    "    log_model = sm.GLM(y_train,X_train_sm,family = sm.families.Binomial())\n",
    "    log_model = log_model.fit()\n",
    "    return log_model"
   ]
  },
  {
   "cell_type": "markdown",
   "metadata": {},
   "source": [
    "### User Defined Function to Calcukate the IVF"
   ]
  },
  {
   "cell_type": "code",
   "execution_count": 167,
   "metadata": {
    "execution": {
     "iopub.execute_input": "2022-07-31T09:26:55.290951Z",
     "iopub.status.busy": "2022-07-31T09:26:55.290009Z",
     "iopub.status.idle": "2022-07-31T09:26:55.304258Z",
     "shell.execute_reply": "2022-07-31T09:26:55.303005Z",
     "shell.execute_reply.started": "2022-07-31T09:26:55.290894Z"
    }
   },
   "outputs": [],
   "source": [
    "# User Defined function to see the VIF of the variables - as are going to repeat this procees till we get a good model\n",
    "\n",
    "from statsmodels.stats.outliers_influence import variance_inflation_factor\n",
    "\n",
    "def vif(train_df):\n",
    "    vif_df = pd.DataFrame()\n",
    "    vif_df['var'] = train_df.columns\n",
    "    vif_df['value'] = [variance_inflation_factor(train_df.values, i) for i in range(train_df.shape[1])]\n",
    "    vif_df['value'] = vif_df['value'].round(2)\n",
    "    vif_df.sort_values(by = 'value', ascending = False, inplace = True)\n",
    "    return vif_df"
   ]
  },
  {
   "cell_type": "markdown",
   "metadata": {},
   "source": [
    "### Model 1"
   ]
  },
  {
   "cell_type": "code",
   "execution_count": 168,
   "metadata": {
    "execution": {
     "iopub.execute_input": "2022-07-31T09:26:55.306923Z",
     "iopub.status.busy": "2022-07-31T09:26:55.306060Z",
     "iopub.status.idle": "2022-07-31T09:26:55.442539Z",
     "shell.execute_reply": "2022-07-31T09:26:55.441391Z",
     "shell.execute_reply.started": "2022-07-31T09:26:55.306875Z"
    }
   },
   "outputs": [
    {
     "data": {
      "text/html": [
       "<table class=\"simpletable\">\n",
       "<caption>Generalized Linear Model Regression Results</caption>\n",
       "<tr>\n",
       "  <th>Dep. Variable:</th>       <td>Converted</td>    <th>  No. Observations:  </th>  <td>  4461</td> \n",
       "</tr>\n",
       "<tr>\n",
       "  <th>Model:</th>                  <td>GLM</td>       <th>  Df Residuals:      </th>  <td>  4445</td> \n",
       "</tr>\n",
       "<tr>\n",
       "  <th>Model Family:</th>        <td>Binomial</td>     <th>  Df Model:          </th>  <td>    15</td> \n",
       "</tr>\n",
       "<tr>\n",
       "  <th>Link Function:</th>         <td>logit</td>      <th>  Scale:             </th> <td>  1.0000</td>\n",
       "</tr>\n",
       "<tr>\n",
       "  <th>Method:</th>                <td>IRLS</td>       <th>  Log-Likelihood:    </th> <td> -2036.5</td>\n",
       "</tr>\n",
       "<tr>\n",
       "  <th>Date:</th>            <td>Tue, 02 Aug 2022</td> <th>  Deviance:          </th> <td>  4072.9</td>\n",
       "</tr>\n",
       "<tr>\n",
       "  <th>Time:</th>                <td>20:54:14</td>     <th>  Pearson chi2:      </th> <td>4.68e+03</td>\n",
       "</tr>\n",
       "<tr>\n",
       "  <th>No. Iterations:</th>         <td>22</td>        <th>                     </th>     <td> </td>   \n",
       "</tr>\n",
       "<tr>\n",
       "  <th>Covariance Type:</th>     <td>nonrobust</td>    <th>                     </th>     <td> </td>   \n",
       "</tr>\n",
       "</table>\n",
       "<table class=\"simpletable\">\n",
       "<tr>\n",
       "                            <td></td>                              <th>coef</th>     <th>std err</th>      <th>z</th>      <th>P>|z|</th>  <th>[0.025</th>    <th>0.975]</th>  \n",
       "</tr>\n",
       "<tr>\n",
       "  <th>const</th>                                                <td>   -2.3493</td> <td>    0.101</td> <td>  -23.361</td> <td> 0.000</td> <td>   -2.546</td> <td>   -2.152</td>\n",
       "</tr>\n",
       "<tr>\n",
       "  <th>TotalVisits</th>                                          <td>    1.2727</td> <td>    0.239</td> <td>    5.326</td> <td> 0.000</td> <td>    0.804</td> <td>    1.741</td>\n",
       "</tr>\n",
       "<tr>\n",
       "  <th>Total Time Spent on Website</th>                          <td>    4.4219</td> <td>    0.186</td> <td>   23.751</td> <td> 0.000</td> <td>    4.057</td> <td>    4.787</td>\n",
       "</tr>\n",
       "<tr>\n",
       "  <th>Lead Origin_Lead Add Form</th>                            <td>    4.3438</td> <td>    0.262</td> <td>   16.585</td> <td> 0.000</td> <td>    3.830</td> <td>    4.857</td>\n",
       "</tr>\n",
       "<tr>\n",
       "  <th>Lead Source_Olark Chat</th>                               <td>    1.7178</td> <td>    0.132</td> <td>   13.049</td> <td> 0.000</td> <td>    1.460</td> <td>    1.976</td>\n",
       "</tr>\n",
       "<tr>\n",
       "  <th>Lead Source_Welingak Website</th>                         <td>    2.1755</td> <td>    1.037</td> <td>    2.097</td> <td> 0.036</td> <td>    0.143</td> <td>    4.209</td>\n",
       "</tr>\n",
       "<tr>\n",
       "  <th>Do Not Email_Yes</th>                                     <td>   -1.3898</td> <td>    0.220</td> <td>   -6.304</td> <td> 0.000</td> <td>   -1.822</td> <td>   -0.958</td>\n",
       "</tr>\n",
       "<tr>\n",
       "  <th>Last Activity_Email Bounced</th>                          <td>   -1.5592</td> <td>    0.659</td> <td>   -2.365</td> <td> 0.018</td> <td>   -2.852</td> <td>   -0.267</td>\n",
       "</tr>\n",
       "<tr>\n",
       "  <th>Last Activity_Had a Phone Conversation</th>               <td>    0.9123</td> <td>    0.985</td> <td>    0.927</td> <td> 0.354</td> <td>   -1.017</td> <td>    2.842</td>\n",
       "</tr>\n",
       "<tr>\n",
       "  <th>Last Activity_Olark Chat Conversation</th>                <td>   -1.0394</td> <td>    0.183</td> <td>   -5.669</td> <td> 0.000</td> <td>   -1.399</td> <td>   -0.680</td>\n",
       "</tr>\n",
       "<tr>\n",
       "  <th>What is your current occupation_Housewife</th>            <td>   23.9102</td> <td> 2.44e+04</td> <td>    0.001</td> <td> 0.999</td> <td>-4.78e+04</td> <td> 4.78e+04</td>\n",
       "</tr>\n",
       "<tr>\n",
       "  <th>What is your current occupation_Working Professional</th> <td>    2.5756</td> <td>    0.199</td> <td>   12.953</td> <td> 0.000</td> <td>    2.186</td> <td>    2.965</td>\n",
       "</tr>\n",
       "<tr>\n",
       "  <th>Last Notable Activity_Email Bounced</th>                  <td>    2.0314</td> <td>    0.795</td> <td>    2.557</td> <td> 0.011</td> <td>    0.474</td> <td>    3.589</td>\n",
       "</tr>\n",
       "<tr>\n",
       "  <th>Last Notable Activity_Had a Phone Conversation</th>       <td>   23.1373</td> <td> 2.08e+04</td> <td>    0.001</td> <td> 0.999</td> <td>-4.07e+04</td> <td> 4.08e+04</td>\n",
       "</tr>\n",
       "<tr>\n",
       "  <th>Last Notable Activity_SMS Sent</th>                       <td>    1.2036</td> <td>    0.088</td> <td>   13.644</td> <td> 0.000</td> <td>    1.031</td> <td>    1.376</td>\n",
       "</tr>\n",
       "<tr>\n",
       "  <th>Last Notable Activity_Unreachable</th>                    <td>    2.6867</td> <td>    0.806</td> <td>    3.332</td> <td> 0.001</td> <td>    1.106</td> <td>    4.267</td>\n",
       "</tr>\n",
       "</table>"
      ],
      "text/plain": [
       "<class 'statsmodels.iolib.summary.Summary'>\n",
       "\"\"\"\n",
       "                 Generalized Linear Model Regression Results                  \n",
       "==============================================================================\n",
       "Dep. Variable:              Converted   No. Observations:                 4461\n",
       "Model:                            GLM   Df Residuals:                     4445\n",
       "Model Family:                Binomial   Df Model:                           15\n",
       "Link Function:                  logit   Scale:                          1.0000\n",
       "Method:                          IRLS   Log-Likelihood:                -2036.5\n",
       "Date:                Tue, 02 Aug 2022   Deviance:                       4072.9\n",
       "Time:                        20:54:14   Pearson chi2:                 4.68e+03\n",
       "No. Iterations:                    22                                         \n",
       "Covariance Type:            nonrobust                                         \n",
       "========================================================================================================================\n",
       "                                                           coef    std err          z      P>|z|      [0.025      0.975]\n",
       "------------------------------------------------------------------------------------------------------------------------\n",
       "const                                                   -2.3493      0.101    -23.361      0.000      -2.546      -2.152\n",
       "TotalVisits                                              1.2727      0.239      5.326      0.000       0.804       1.741\n",
       "Total Time Spent on Website                              4.4219      0.186     23.751      0.000       4.057       4.787\n",
       "Lead Origin_Lead Add Form                                4.3438      0.262     16.585      0.000       3.830       4.857\n",
       "Lead Source_Olark Chat                                   1.7178      0.132     13.049      0.000       1.460       1.976\n",
       "Lead Source_Welingak Website                             2.1755      1.037      2.097      0.036       0.143       4.209\n",
       "Do Not Email_Yes                                        -1.3898      0.220     -6.304      0.000      -1.822      -0.958\n",
       "Last Activity_Email Bounced                             -1.5592      0.659     -2.365      0.018      -2.852      -0.267\n",
       "Last Activity_Had a Phone Conversation                   0.9123      0.985      0.927      0.354      -1.017       2.842\n",
       "Last Activity_Olark Chat Conversation                   -1.0394      0.183     -5.669      0.000      -1.399      -0.680\n",
       "What is your current occupation_Housewife               23.9102   2.44e+04      0.001      0.999   -4.78e+04    4.78e+04\n",
       "What is your current occupation_Working Professional     2.5756      0.199     12.953      0.000       2.186       2.965\n",
       "Last Notable Activity_Email Bounced                      2.0314      0.795      2.557      0.011       0.474       3.589\n",
       "Last Notable Activity_Had a Phone Conversation          23.1373   2.08e+04      0.001      0.999   -4.07e+04    4.08e+04\n",
       "Last Notable Activity_SMS Sent                           1.2036      0.088     13.644      0.000       1.031       1.376\n",
       "Last Notable Activity_Unreachable                        2.6867      0.806      3.332      0.001       1.106       4.267\n",
       "========================================================================================================================\n",
       "\"\"\""
      ]
     },
     "execution_count": 168,
     "metadata": {},
     "output_type": "execute_result"
    }
   ],
   "source": [
    "model1 = sm_log_model()\n",
    "model1.summary()"
   ]
  },
  {
   "cell_type": "markdown",
   "metadata": {},
   "source": [
    "#### There are quite a few variable which have a p-value greater than 0.05. We will need to take care of them. But first, let's also look at the VIFs."
   ]
  },
  {
   "cell_type": "code",
   "execution_count": 169,
   "metadata": {
    "execution": {
     "iopub.execute_input": "2022-07-31T09:26:55.445209Z",
     "iopub.status.busy": "2022-07-31T09:26:55.444322Z",
     "iopub.status.idle": "2022-07-31T09:26:55.560881Z",
     "shell.execute_reply": "2022-07-31T09:26:55.559726Z",
     "shell.execute_reply.started": "2022-07-31T09:26:55.445155Z"
    }
   },
   "outputs": [
    {
     "data": {
      "text/html": [
       "<div>\n",
       "<style scoped>\n",
       "    .dataframe tbody tr th:only-of-type {\n",
       "        vertical-align: middle;\n",
       "    }\n",
       "\n",
       "    .dataframe tbody tr th {\n",
       "        vertical-align: top;\n",
       "    }\n",
       "\n",
       "    .dataframe thead th {\n",
       "        text-align: right;\n",
       "    }\n",
       "</style>\n",
       "<table border=\"1\" class=\"dataframe\">\n",
       "  <thead>\n",
       "    <tr style=\"text-align: right;\">\n",
       "      <th></th>\n",
       "      <th>var</th>\n",
       "      <th>value</th>\n",
       "    </tr>\n",
       "  </thead>\n",
       "  <tbody>\n",
       "    <tr>\n",
       "      <th>7</th>\n",
       "      <td>Last Activity_Had a Phone Conversation</td>\n",
       "      <td>2.44</td>\n",
       "    </tr>\n",
       "    <tr>\n",
       "      <th>12</th>\n",
       "      <td>Last Notable Activity_Had a Phone Conversation</td>\n",
       "      <td>2.43</td>\n",
       "    </tr>\n",
       "    <tr>\n",
       "      <th>6</th>\n",
       "      <td>Last Activity_Email Bounced</td>\n",
       "      <td>1.93</td>\n",
       "    </tr>\n",
       "    <tr>\n",
       "      <th>1</th>\n",
       "      <td>Total Time Spent on Website</td>\n",
       "      <td>1.91</td>\n",
       "    </tr>\n",
       "    <tr>\n",
       "      <th>0</th>\n",
       "      <td>TotalVisits</td>\n",
       "      <td>1.84</td>\n",
       "    </tr>\n",
       "    <tr>\n",
       "      <th>5</th>\n",
       "      <td>Do Not Email_Yes</td>\n",
       "      <td>1.64</td>\n",
       "    </tr>\n",
       "    <tr>\n",
       "      <th>2</th>\n",
       "      <td>Lead Origin_Lead Add Form</td>\n",
       "      <td>1.48</td>\n",
       "    </tr>\n",
       "    <tr>\n",
       "      <th>13</th>\n",
       "      <td>Last Notable Activity_SMS Sent</td>\n",
       "      <td>1.44</td>\n",
       "    </tr>\n",
       "    <tr>\n",
       "      <th>11</th>\n",
       "      <td>Last Notable Activity_Email Bounced</td>\n",
       "      <td>1.37</td>\n",
       "    </tr>\n",
       "    <tr>\n",
       "      <th>4</th>\n",
       "      <td>Lead Source_Welingak Website</td>\n",
       "      <td>1.32</td>\n",
       "    </tr>\n",
       "    <tr>\n",
       "      <th>10</th>\n",
       "      <td>What is your current occupation_Working Profes...</td>\n",
       "      <td>1.21</td>\n",
       "    </tr>\n",
       "    <tr>\n",
       "      <th>3</th>\n",
       "      <td>Lead Source_Olark Chat</td>\n",
       "      <td>1.20</td>\n",
       "    </tr>\n",
       "    <tr>\n",
       "      <th>8</th>\n",
       "      <td>Last Activity_Olark Chat Conversation</td>\n",
       "      <td>1.17</td>\n",
       "    </tr>\n",
       "    <tr>\n",
       "      <th>14</th>\n",
       "      <td>Last Notable Activity_Unreachable</td>\n",
       "      <td>1.01</td>\n",
       "    </tr>\n",
       "    <tr>\n",
       "      <th>9</th>\n",
       "      <td>What is your current occupation_Housewife</td>\n",
       "      <td>1.00</td>\n",
       "    </tr>\n",
       "  </tbody>\n",
       "</table>\n",
       "</div>"
      ],
      "text/plain": [
       "                                                  var  value\n",
       "7              Last Activity_Had a Phone Conversation   2.44\n",
       "12     Last Notable Activity_Had a Phone Conversation   2.43\n",
       "6                         Last Activity_Email Bounced   1.93\n",
       "1                         Total Time Spent on Website   1.91\n",
       "0                                         TotalVisits   1.84\n",
       "5                                    Do Not Email_Yes   1.64\n",
       "2                           Lead Origin_Lead Add Form   1.48\n",
       "13                     Last Notable Activity_SMS Sent   1.44\n",
       "11                Last Notable Activity_Email Bounced   1.37\n",
       "4                        Lead Source_Welingak Website   1.32\n",
       "10  What is your current occupation_Working Profes...   1.21\n",
       "3                              Lead Source_Olark Chat   1.20\n",
       "8               Last Activity_Olark Chat Conversation   1.17\n",
       "14                  Last Notable Activity_Unreachable   1.01\n",
       "9           What is your current occupation_Housewife   1.00"
      ]
     },
     "execution_count": 169,
     "metadata": {},
     "output_type": "execute_result"
    }
   ],
   "source": [
    "vif(X_train)"
   ]
  },
  {
   "cell_type": "markdown",
   "metadata": {},
   "source": [
    "#### VIF seems ok , Lets Drop 'Last Activity_Had a Phone Conversation' having high p-value"
   ]
  },
  {
   "cell_type": "code",
   "execution_count": 170,
   "metadata": {
    "execution": {
     "iopub.execute_input": "2022-07-31T09:26:55.563398Z",
     "iopub.status.busy": "2022-07-31T09:26:55.562692Z",
     "iopub.status.idle": "2022-07-31T09:26:55.572858Z",
     "shell.execute_reply": "2022-07-31T09:26:55.571633Z",
     "shell.execute_reply.started": "2022-07-31T09:26:55.563354Z"
    }
   },
   "outputs": [],
   "source": [
    "drop_col = 'Last Activity_Had a Phone Conversation'\n",
    "\n",
    "X_train.drop(drop_col, axis = 1, inplace = True)"
   ]
  },
  {
   "cell_type": "markdown",
   "metadata": {},
   "source": [
    "### Model 2"
   ]
  },
  {
   "cell_type": "code",
   "execution_count": 171,
   "metadata": {
    "execution": {
     "iopub.execute_input": "2022-07-31T09:26:55.575377Z",
     "iopub.status.busy": "2022-07-31T09:26:55.574672Z",
     "iopub.status.idle": "2022-07-31T09:26:55.706341Z",
     "shell.execute_reply": "2022-07-31T09:26:55.705195Z",
     "shell.execute_reply.started": "2022-07-31T09:26:55.575332Z"
    }
   },
   "outputs": [
    {
     "data": {
      "text/html": [
       "<table class=\"simpletable\">\n",
       "<caption>Generalized Linear Model Regression Results</caption>\n",
       "<tr>\n",
       "  <th>Dep. Variable:</th>       <td>Converted</td>    <th>  No. Observations:  </th>  <td>  4461</td> \n",
       "</tr>\n",
       "<tr>\n",
       "  <th>Model:</th>                  <td>GLM</td>       <th>  Df Residuals:      </th>  <td>  4446</td> \n",
       "</tr>\n",
       "<tr>\n",
       "  <th>Model Family:</th>        <td>Binomial</td>     <th>  Df Model:          </th>  <td>    14</td> \n",
       "</tr>\n",
       "<tr>\n",
       "  <th>Link Function:</th>         <td>logit</td>      <th>  Scale:             </th> <td>  1.0000</td>\n",
       "</tr>\n",
       "<tr>\n",
       "  <th>Method:</th>                <td>IRLS</td>       <th>  Log-Likelihood:    </th> <td> -2036.9</td>\n",
       "</tr>\n",
       "<tr>\n",
       "  <th>Date:</th>            <td>Tue, 02 Aug 2022</td> <th>  Deviance:          </th> <td>  4073.8</td>\n",
       "</tr>\n",
       "<tr>\n",
       "  <th>Time:</th>                <td>20:54:15</td>     <th>  Pearson chi2:      </th> <td>4.68e+03</td>\n",
       "</tr>\n",
       "<tr>\n",
       "  <th>No. Iterations:</th>         <td>22</td>        <th>                     </th>     <td> </td>   \n",
       "</tr>\n",
       "<tr>\n",
       "  <th>Covariance Type:</th>     <td>nonrobust</td>    <th>                     </th>     <td> </td>   \n",
       "</tr>\n",
       "</table>\n",
       "<table class=\"simpletable\">\n",
       "<tr>\n",
       "                            <td></td>                              <th>coef</th>     <th>std err</th>      <th>z</th>      <th>P>|z|</th>  <th>[0.025</th>    <th>0.975]</th>  \n",
       "</tr>\n",
       "<tr>\n",
       "  <th>const</th>                                                <td>   -2.3479</td> <td>    0.101</td> <td>  -23.351</td> <td> 0.000</td> <td>   -2.545</td> <td>   -2.151</td>\n",
       "</tr>\n",
       "<tr>\n",
       "  <th>TotalVisits</th>                                          <td>    1.2750</td> <td>    0.239</td> <td>    5.336</td> <td> 0.000</td> <td>    0.807</td> <td>    1.743</td>\n",
       "</tr>\n",
       "<tr>\n",
       "  <th>Total Time Spent on Website</th>                          <td>    4.4237</td> <td>    0.186</td> <td>   23.764</td> <td> 0.000</td> <td>    4.059</td> <td>    4.789</td>\n",
       "</tr>\n",
       "<tr>\n",
       "  <th>Lead Origin_Lead Add Form</th>                            <td>    4.3428</td> <td>    0.262</td> <td>   16.582</td> <td> 0.000</td> <td>    3.829</td> <td>    4.856</td>\n",
       "</tr>\n",
       "<tr>\n",
       "  <th>Lead Source_Olark Chat</th>                               <td>    1.7172</td> <td>    0.132</td> <td>   13.044</td> <td> 0.000</td> <td>    1.459</td> <td>    1.975</td>\n",
       "</tr>\n",
       "<tr>\n",
       "  <th>Lead Source_Welingak Website</th>                         <td>    2.1759</td> <td>    1.037</td> <td>    2.098</td> <td> 0.036</td> <td>    0.143</td> <td>    4.209</td>\n",
       "</tr>\n",
       "<tr>\n",
       "  <th>Do Not Email_Yes</th>                                     <td>   -1.3910</td> <td>    0.220</td> <td>   -6.310</td> <td> 0.000</td> <td>   -1.823</td> <td>   -0.959</td>\n",
       "</tr>\n",
       "<tr>\n",
       "  <th>Last Activity_Email Bounced</th>                          <td>   -1.5607</td> <td>    0.659</td> <td>   -2.367</td> <td> 0.018</td> <td>   -2.853</td> <td>   -0.268</td>\n",
       "</tr>\n",
       "<tr>\n",
       "  <th>Last Activity_Olark Chat Conversation</th>                <td>   -1.0411</td> <td>    0.183</td> <td>   -5.679</td> <td> 0.000</td> <td>   -1.400</td> <td>   -0.682</td>\n",
       "</tr>\n",
       "<tr>\n",
       "  <th>What is your current occupation_Housewife</th>            <td>   23.9082</td> <td> 2.44e+04</td> <td>    0.001</td> <td> 0.999</td> <td>-4.78e+04</td> <td> 4.78e+04</td>\n",
       "</tr>\n",
       "<tr>\n",
       "  <th>What is your current occupation_Working Professional</th> <td>    2.5781</td> <td>    0.199</td> <td>   12.970</td> <td> 0.000</td> <td>    2.189</td> <td>    2.968</td>\n",
       "</tr>\n",
       "<tr>\n",
       "  <th>Last Notable Activity_Email Bounced</th>                  <td>    2.0316</td> <td>    0.795</td> <td>    2.556</td> <td> 0.011</td> <td>    0.474</td> <td>    3.589</td>\n",
       "</tr>\n",
       "<tr>\n",
       "  <th>Last Notable Activity_Had a Phone Conversation</th>       <td>   24.0467</td> <td> 2.08e+04</td> <td>    0.001</td> <td> 0.999</td> <td>-4.07e+04</td> <td> 4.08e+04</td>\n",
       "</tr>\n",
       "<tr>\n",
       "  <th>Last Notable Activity_SMS Sent</th>                       <td>    1.2014</td> <td>    0.088</td> <td>   13.625</td> <td> 0.000</td> <td>    1.029</td> <td>    1.374</td>\n",
       "</tr>\n",
       "<tr>\n",
       "  <th>Last Notable Activity_Unreachable</th>                    <td>    2.6846</td> <td>    0.806</td> <td>    3.329</td> <td> 0.001</td> <td>    1.104</td> <td>    4.265</td>\n",
       "</tr>\n",
       "</table>"
      ],
      "text/plain": [
       "<class 'statsmodels.iolib.summary.Summary'>\n",
       "\"\"\"\n",
       "                 Generalized Linear Model Regression Results                  \n",
       "==============================================================================\n",
       "Dep. Variable:              Converted   No. Observations:                 4461\n",
       "Model:                            GLM   Df Residuals:                     4446\n",
       "Model Family:                Binomial   Df Model:                           14\n",
       "Link Function:                  logit   Scale:                          1.0000\n",
       "Method:                          IRLS   Log-Likelihood:                -2036.9\n",
       "Date:                Tue, 02 Aug 2022   Deviance:                       4073.8\n",
       "Time:                        20:54:15   Pearson chi2:                 4.68e+03\n",
       "No. Iterations:                    22                                         \n",
       "Covariance Type:            nonrobust                                         \n",
       "========================================================================================================================\n",
       "                                                           coef    std err          z      P>|z|      [0.025      0.975]\n",
       "------------------------------------------------------------------------------------------------------------------------\n",
       "const                                                   -2.3479      0.101    -23.351      0.000      -2.545      -2.151\n",
       "TotalVisits                                              1.2750      0.239      5.336      0.000       0.807       1.743\n",
       "Total Time Spent on Website                              4.4237      0.186     23.764      0.000       4.059       4.789\n",
       "Lead Origin_Lead Add Form                                4.3428      0.262     16.582      0.000       3.829       4.856\n",
       "Lead Source_Olark Chat                                   1.7172      0.132     13.044      0.000       1.459       1.975\n",
       "Lead Source_Welingak Website                             2.1759      1.037      2.098      0.036       0.143       4.209\n",
       "Do Not Email_Yes                                        -1.3910      0.220     -6.310      0.000      -1.823      -0.959\n",
       "Last Activity_Email Bounced                             -1.5607      0.659     -2.367      0.018      -2.853      -0.268\n",
       "Last Activity_Olark Chat Conversation                   -1.0411      0.183     -5.679      0.000      -1.400      -0.682\n",
       "What is your current occupation_Housewife               23.9082   2.44e+04      0.001      0.999   -4.78e+04    4.78e+04\n",
       "What is your current occupation_Working Professional     2.5781      0.199     12.970      0.000       2.189       2.968\n",
       "Last Notable Activity_Email Bounced                      2.0316      0.795      2.556      0.011       0.474       3.589\n",
       "Last Notable Activity_Had a Phone Conversation          24.0467   2.08e+04      0.001      0.999   -4.07e+04    4.08e+04\n",
       "Last Notable Activity_SMS Sent                           1.2014      0.088     13.625      0.000       1.029       1.374\n",
       "Last Notable Activity_Unreachable                        2.6846      0.806      3.329      0.001       1.104       4.265\n",
       "========================================================================================================================\n",
       "\"\"\""
      ]
     },
     "execution_count": 171,
     "metadata": {},
     "output_type": "execute_result"
    }
   ],
   "source": [
    "model2 = sm_log_model()\n",
    "model2.summary()"
   ]
  },
  {
   "cell_type": "code",
   "execution_count": 172,
   "metadata": {
    "execution": {
     "iopub.execute_input": "2022-07-31T09:26:55.708833Z",
     "iopub.status.busy": "2022-07-31T09:26:55.708098Z",
     "iopub.status.idle": "2022-07-31T09:26:55.816323Z",
     "shell.execute_reply": "2022-07-31T09:26:55.815152Z",
     "shell.execute_reply.started": "2022-07-31T09:26:55.708785Z"
    }
   },
   "outputs": [
    {
     "data": {
      "text/html": [
       "<div>\n",
       "<style scoped>\n",
       "    .dataframe tbody tr th:only-of-type {\n",
       "        vertical-align: middle;\n",
       "    }\n",
       "\n",
       "    .dataframe tbody tr th {\n",
       "        vertical-align: top;\n",
       "    }\n",
       "\n",
       "    .dataframe thead th {\n",
       "        text-align: right;\n",
       "    }\n",
       "</style>\n",
       "<table border=\"1\" class=\"dataframe\">\n",
       "  <thead>\n",
       "    <tr style=\"text-align: right;\">\n",
       "      <th></th>\n",
       "      <th>var</th>\n",
       "      <th>value</th>\n",
       "    </tr>\n",
       "  </thead>\n",
       "  <tbody>\n",
       "    <tr>\n",
       "      <th>6</th>\n",
       "      <td>Last Activity_Email Bounced</td>\n",
       "      <td>1.93</td>\n",
       "    </tr>\n",
       "    <tr>\n",
       "      <th>1</th>\n",
       "      <td>Total Time Spent on Website</td>\n",
       "      <td>1.90</td>\n",
       "    </tr>\n",
       "    <tr>\n",
       "      <th>0</th>\n",
       "      <td>TotalVisits</td>\n",
       "      <td>1.84</td>\n",
       "    </tr>\n",
       "    <tr>\n",
       "      <th>5</th>\n",
       "      <td>Do Not Email_Yes</td>\n",
       "      <td>1.64</td>\n",
       "    </tr>\n",
       "    <tr>\n",
       "      <th>2</th>\n",
       "      <td>Lead Origin_Lead Add Form</td>\n",
       "      <td>1.48</td>\n",
       "    </tr>\n",
       "    <tr>\n",
       "      <th>12</th>\n",
       "      <td>Last Notable Activity_SMS Sent</td>\n",
       "      <td>1.44</td>\n",
       "    </tr>\n",
       "    <tr>\n",
       "      <th>10</th>\n",
       "      <td>Last Notable Activity_Email Bounced</td>\n",
       "      <td>1.37</td>\n",
       "    </tr>\n",
       "    <tr>\n",
       "      <th>4</th>\n",
       "      <td>Lead Source_Welingak Website</td>\n",
       "      <td>1.32</td>\n",
       "    </tr>\n",
       "    <tr>\n",
       "      <th>9</th>\n",
       "      <td>What is your current occupation_Working Profes...</td>\n",
       "      <td>1.21</td>\n",
       "    </tr>\n",
       "    <tr>\n",
       "      <th>3</th>\n",
       "      <td>Lead Source_Olark Chat</td>\n",
       "      <td>1.20</td>\n",
       "    </tr>\n",
       "    <tr>\n",
       "      <th>7</th>\n",
       "      <td>Last Activity_Olark Chat Conversation</td>\n",
       "      <td>1.17</td>\n",
       "    </tr>\n",
       "    <tr>\n",
       "      <th>11</th>\n",
       "      <td>Last Notable Activity_Had a Phone Conversation</td>\n",
       "      <td>1.01</td>\n",
       "    </tr>\n",
       "    <tr>\n",
       "      <th>13</th>\n",
       "      <td>Last Notable Activity_Unreachable</td>\n",
       "      <td>1.01</td>\n",
       "    </tr>\n",
       "    <tr>\n",
       "      <th>8</th>\n",
       "      <td>What is your current occupation_Housewife</td>\n",
       "      <td>1.00</td>\n",
       "    </tr>\n",
       "  </tbody>\n",
       "</table>\n",
       "</div>"
      ],
      "text/plain": [
       "                                                  var  value\n",
       "6                         Last Activity_Email Bounced   1.93\n",
       "1                         Total Time Spent on Website   1.90\n",
       "0                                         TotalVisits   1.84\n",
       "5                                    Do Not Email_Yes   1.64\n",
       "2                           Lead Origin_Lead Add Form   1.48\n",
       "12                     Last Notable Activity_SMS Sent   1.44\n",
       "10                Last Notable Activity_Email Bounced   1.37\n",
       "4                        Lead Source_Welingak Website   1.32\n",
       "9   What is your current occupation_Working Profes...   1.21\n",
       "3                              Lead Source_Olark Chat   1.20\n",
       "7               Last Activity_Olark Chat Conversation   1.17\n",
       "11     Last Notable Activity_Had a Phone Conversation   1.01\n",
       "13                  Last Notable Activity_Unreachable   1.01\n",
       "8           What is your current occupation_Housewife   1.00"
      ]
     },
     "execution_count": 172,
     "metadata": {},
     "output_type": "execute_result"
    }
   ],
   "source": [
    "vif(X_train)"
   ]
  },
  {
   "cell_type": "markdown",
   "metadata": {},
   "source": [
    "### p-value looks good again, lets drop - 'What is your current occupation_Housewife'"
   ]
  },
  {
   "cell_type": "code",
   "execution_count": 173,
   "metadata": {
    "execution": {
     "iopub.execute_input": "2022-07-31T09:26:55.818913Z",
     "iopub.status.busy": "2022-07-31T09:26:55.818173Z",
     "iopub.status.idle": "2022-07-31T09:26:55.826456Z",
     "shell.execute_reply": "2022-07-31T09:26:55.825185Z",
     "shell.execute_reply.started": "2022-07-31T09:26:55.818866Z"
    }
   },
   "outputs": [],
   "source": [
    "drop_col = 'What is your current occupation_Housewife'\n",
    "\n",
    "X_train.drop(drop_col, axis = 1, inplace = True)"
   ]
  },
  {
   "cell_type": "markdown",
   "metadata": {},
   "source": [
    "### Model 3"
   ]
  },
  {
   "cell_type": "code",
   "execution_count": 174,
   "metadata": {
    "execution": {
     "iopub.execute_input": "2022-07-31T09:26:55.829190Z",
     "iopub.status.busy": "2022-07-31T09:26:55.828265Z",
     "iopub.status.idle": "2022-07-31T09:26:55.955192Z",
     "shell.execute_reply": "2022-07-31T09:26:55.954044Z",
     "shell.execute_reply.started": "2022-07-31T09:26:55.829143Z"
    }
   },
   "outputs": [
    {
     "data": {
      "text/html": [
       "<table class=\"simpletable\">\n",
       "<caption>Generalized Linear Model Regression Results</caption>\n",
       "<tr>\n",
       "  <th>Dep. Variable:</th>       <td>Converted</td>    <th>  No. Observations:  </th>  <td>  4461</td> \n",
       "</tr>\n",
       "<tr>\n",
       "  <th>Model:</th>                  <td>GLM</td>       <th>  Df Residuals:      </th>  <td>  4447</td> \n",
       "</tr>\n",
       "<tr>\n",
       "  <th>Model Family:</th>        <td>Binomial</td>     <th>  Df Model:          </th>  <td>    13</td> \n",
       "</tr>\n",
       "<tr>\n",
       "  <th>Link Function:</th>         <td>logit</td>      <th>  Scale:             </th> <td>  1.0000</td>\n",
       "</tr>\n",
       "<tr>\n",
       "  <th>Method:</th>                <td>IRLS</td>       <th>  Log-Likelihood:    </th> <td> -2043.2</td>\n",
       "</tr>\n",
       "<tr>\n",
       "  <th>Date:</th>            <td>Tue, 02 Aug 2022</td> <th>  Deviance:          </th> <td>  4086.4</td>\n",
       "</tr>\n",
       "<tr>\n",
       "  <th>Time:</th>                <td>20:54:15</td>     <th>  Pearson chi2:      </th> <td>4.69e+03</td>\n",
       "</tr>\n",
       "<tr>\n",
       "  <th>No. Iterations:</th>         <td>21</td>        <th>                     </th>     <td> </td>   \n",
       "</tr>\n",
       "<tr>\n",
       "  <th>Covariance Type:</th>     <td>nonrobust</td>    <th>                     </th>     <td> </td>   \n",
       "</tr>\n",
       "</table>\n",
       "<table class=\"simpletable\">\n",
       "<tr>\n",
       "                            <td></td>                              <th>coef</th>     <th>std err</th>      <th>z</th>      <th>P>|z|</th>  <th>[0.025</th>    <th>0.975]</th>  \n",
       "</tr>\n",
       "<tr>\n",
       "  <th>const</th>                                                <td>   -2.3339</td> <td>    0.100</td> <td>  -23.289</td> <td> 0.000</td> <td>   -2.530</td> <td>   -2.137</td>\n",
       "</tr>\n",
       "<tr>\n",
       "  <th>TotalVisits</th>                                          <td>    1.2586</td> <td>    0.239</td> <td>    5.273</td> <td> 0.000</td> <td>    0.791</td> <td>    1.726</td>\n",
       "</tr>\n",
       "<tr>\n",
       "  <th>Total Time Spent on Website</th>                          <td>    4.4226</td> <td>    0.186</td> <td>   23.792</td> <td> 0.000</td> <td>    4.058</td> <td>    4.787</td>\n",
       "</tr>\n",
       "<tr>\n",
       "  <th>Lead Origin_Lead Add Form</th>                            <td>    4.3453</td> <td>    0.262</td> <td>   16.609</td> <td> 0.000</td> <td>    3.833</td> <td>    4.858</td>\n",
       "</tr>\n",
       "<tr>\n",
       "  <th>Lead Source_Olark Chat</th>                               <td>    1.7070</td> <td>    0.131</td> <td>   12.988</td> <td> 0.000</td> <td>    1.449</td> <td>    1.965</td>\n",
       "</tr>\n",
       "<tr>\n",
       "  <th>Lead Source_Welingak Website</th>                         <td>    2.1622</td> <td>    1.037</td> <td>    2.085</td> <td> 0.037</td> <td>    0.129</td> <td>    4.195</td>\n",
       "</tr>\n",
       "<tr>\n",
       "  <th>Do Not Email_Yes</th>                                     <td>   -1.3941</td> <td>    0.220</td> <td>   -6.326</td> <td> 0.000</td> <td>   -1.826</td> <td>   -0.962</td>\n",
       "</tr>\n",
       "<tr>\n",
       "  <th>Last Activity_Email Bounced</th>                          <td>   -1.5665</td> <td>    0.659</td> <td>   -2.376</td> <td> 0.017</td> <td>   -2.858</td> <td>   -0.275</td>\n",
       "</tr>\n",
       "<tr>\n",
       "  <th>Last Activity_Olark Chat Conversation</th>                <td>   -1.0468</td> <td>    0.183</td> <td>   -5.711</td> <td> 0.000</td> <td>   -1.406</td> <td>   -0.688</td>\n",
       "</tr>\n",
       "<tr>\n",
       "  <th>What is your current occupation_Working Professional</th> <td>    2.5714</td> <td>    0.199</td> <td>   12.939</td> <td> 0.000</td> <td>    2.182</td> <td>    2.961</td>\n",
       "</tr>\n",
       "<tr>\n",
       "  <th>Last Notable Activity_Email Bounced</th>                  <td>    2.0333</td> <td>    0.794</td> <td>    2.559</td> <td> 0.010</td> <td>    0.476</td> <td>    3.590</td>\n",
       "</tr>\n",
       "<tr>\n",
       "  <th>Last Notable Activity_Had a Phone Conversation</th>       <td>   23.0393</td> <td> 1.26e+04</td> <td>    0.002</td> <td> 0.999</td> <td>-2.47e+04</td> <td> 2.47e+04</td>\n",
       "</tr>\n",
       "<tr>\n",
       "  <th>Last Notable Activity_SMS Sent</th>                       <td>    1.1930</td> <td>    0.088</td> <td>   13.542</td> <td> 0.000</td> <td>    1.020</td> <td>    1.366</td>\n",
       "</tr>\n",
       "<tr>\n",
       "  <th>Last Notable Activity_Unreachable</th>                    <td>    2.6750</td> <td>    0.806</td> <td>    3.318</td> <td> 0.001</td> <td>    1.095</td> <td>    4.255</td>\n",
       "</tr>\n",
       "</table>"
      ],
      "text/plain": [
       "<class 'statsmodels.iolib.summary.Summary'>\n",
       "\"\"\"\n",
       "                 Generalized Linear Model Regression Results                  \n",
       "==============================================================================\n",
       "Dep. Variable:              Converted   No. Observations:                 4461\n",
       "Model:                            GLM   Df Residuals:                     4447\n",
       "Model Family:                Binomial   Df Model:                           13\n",
       "Link Function:                  logit   Scale:                          1.0000\n",
       "Method:                          IRLS   Log-Likelihood:                -2043.2\n",
       "Date:                Tue, 02 Aug 2022   Deviance:                       4086.4\n",
       "Time:                        20:54:15   Pearson chi2:                 4.69e+03\n",
       "No. Iterations:                    21                                         \n",
       "Covariance Type:            nonrobust                                         \n",
       "========================================================================================================================\n",
       "                                                           coef    std err          z      P>|z|      [0.025      0.975]\n",
       "------------------------------------------------------------------------------------------------------------------------\n",
       "const                                                   -2.3339      0.100    -23.289      0.000      -2.530      -2.137\n",
       "TotalVisits                                              1.2586      0.239      5.273      0.000       0.791       1.726\n",
       "Total Time Spent on Website                              4.4226      0.186     23.792      0.000       4.058       4.787\n",
       "Lead Origin_Lead Add Form                                4.3453      0.262     16.609      0.000       3.833       4.858\n",
       "Lead Source_Olark Chat                                   1.7070      0.131     12.988      0.000       1.449       1.965\n",
       "Lead Source_Welingak Website                             2.1622      1.037      2.085      0.037       0.129       4.195\n",
       "Do Not Email_Yes                                        -1.3941      0.220     -6.326      0.000      -1.826      -0.962\n",
       "Last Activity_Email Bounced                             -1.5665      0.659     -2.376      0.017      -2.858      -0.275\n",
       "Last Activity_Olark Chat Conversation                   -1.0468      0.183     -5.711      0.000      -1.406      -0.688\n",
       "What is your current occupation_Working Professional     2.5714      0.199     12.939      0.000       2.182       2.961\n",
       "Last Notable Activity_Email Bounced                      2.0333      0.794      2.559      0.010       0.476       3.590\n",
       "Last Notable Activity_Had a Phone Conversation          23.0393   1.26e+04      0.002      0.999   -2.47e+04    2.47e+04\n",
       "Last Notable Activity_SMS Sent                           1.1930      0.088     13.542      0.000       1.020       1.366\n",
       "Last Notable Activity_Unreachable                        2.6750      0.806      3.318      0.001       1.095       4.255\n",
       "========================================================================================================================\n",
       "\"\"\""
      ]
     },
     "execution_count": 174,
     "metadata": {},
     "output_type": "execute_result"
    }
   ],
   "source": [
    "model3 = sm_log_model()\n",
    "model3.summary()"
   ]
  },
  {
   "cell_type": "code",
   "execution_count": 175,
   "metadata": {
    "execution": {
     "iopub.execute_input": "2022-07-31T09:26:55.957655Z",
     "iopub.status.busy": "2022-07-31T09:26:55.956966Z",
     "iopub.status.idle": "2022-07-31T09:26:56.052643Z",
     "shell.execute_reply": "2022-07-31T09:26:56.051486Z",
     "shell.execute_reply.started": "2022-07-31T09:26:55.957607Z"
    }
   },
   "outputs": [
    {
     "data": {
      "text/html": [
       "<div>\n",
       "<style scoped>\n",
       "    .dataframe tbody tr th:only-of-type {\n",
       "        vertical-align: middle;\n",
       "    }\n",
       "\n",
       "    .dataframe tbody tr th {\n",
       "        vertical-align: top;\n",
       "    }\n",
       "\n",
       "    .dataframe thead th {\n",
       "        text-align: right;\n",
       "    }\n",
       "</style>\n",
       "<table border=\"1\" class=\"dataframe\">\n",
       "  <thead>\n",
       "    <tr style=\"text-align: right;\">\n",
       "      <th></th>\n",
       "      <th>var</th>\n",
       "      <th>value</th>\n",
       "    </tr>\n",
       "  </thead>\n",
       "  <tbody>\n",
       "    <tr>\n",
       "      <th>6</th>\n",
       "      <td>Last Activity_Email Bounced</td>\n",
       "      <td>1.93</td>\n",
       "    </tr>\n",
       "    <tr>\n",
       "      <th>1</th>\n",
       "      <td>Total Time Spent on Website</td>\n",
       "      <td>1.90</td>\n",
       "    </tr>\n",
       "    <tr>\n",
       "      <th>0</th>\n",
       "      <td>TotalVisits</td>\n",
       "      <td>1.84</td>\n",
       "    </tr>\n",
       "    <tr>\n",
       "      <th>5</th>\n",
       "      <td>Do Not Email_Yes</td>\n",
       "      <td>1.64</td>\n",
       "    </tr>\n",
       "    <tr>\n",
       "      <th>2</th>\n",
       "      <td>Lead Origin_Lead Add Form</td>\n",
       "      <td>1.47</td>\n",
       "    </tr>\n",
       "    <tr>\n",
       "      <th>11</th>\n",
       "      <td>Last Notable Activity_SMS Sent</td>\n",
       "      <td>1.44</td>\n",
       "    </tr>\n",
       "    <tr>\n",
       "      <th>9</th>\n",
       "      <td>Last Notable Activity_Email Bounced</td>\n",
       "      <td>1.37</td>\n",
       "    </tr>\n",
       "    <tr>\n",
       "      <th>4</th>\n",
       "      <td>Lead Source_Welingak Website</td>\n",
       "      <td>1.32</td>\n",
       "    </tr>\n",
       "    <tr>\n",
       "      <th>8</th>\n",
       "      <td>What is your current occupation_Working Profes...</td>\n",
       "      <td>1.21</td>\n",
       "    </tr>\n",
       "    <tr>\n",
       "      <th>3</th>\n",
       "      <td>Lead Source_Olark Chat</td>\n",
       "      <td>1.20</td>\n",
       "    </tr>\n",
       "    <tr>\n",
       "      <th>7</th>\n",
       "      <td>Last Activity_Olark Chat Conversation</td>\n",
       "      <td>1.17</td>\n",
       "    </tr>\n",
       "    <tr>\n",
       "      <th>10</th>\n",
       "      <td>Last Notable Activity_Had a Phone Conversation</td>\n",
       "      <td>1.01</td>\n",
       "    </tr>\n",
       "    <tr>\n",
       "      <th>12</th>\n",
       "      <td>Last Notable Activity_Unreachable</td>\n",
       "      <td>1.01</td>\n",
       "    </tr>\n",
       "  </tbody>\n",
       "</table>\n",
       "</div>"
      ],
      "text/plain": [
       "                                                  var  value\n",
       "6                         Last Activity_Email Bounced   1.93\n",
       "1                         Total Time Spent on Website   1.90\n",
       "0                                         TotalVisits   1.84\n",
       "5                                    Do Not Email_Yes   1.64\n",
       "2                           Lead Origin_Lead Add Form   1.47\n",
       "11                     Last Notable Activity_SMS Sent   1.44\n",
       "9                 Last Notable Activity_Email Bounced   1.37\n",
       "4                        Lead Source_Welingak Website   1.32\n",
       "8   What is your current occupation_Working Profes...   1.21\n",
       "3                              Lead Source_Olark Chat   1.20\n",
       "7               Last Activity_Olark Chat Conversation   1.17\n",
       "10     Last Notable Activity_Had a Phone Conversation   1.01\n",
       "12                  Last Notable Activity_Unreachable   1.01"
      ]
     },
     "execution_count": 175,
     "metadata": {},
     "output_type": "execute_result"
    }
   ],
   "source": [
    "vif(X_train)"
   ]
  },
  {
   "cell_type": "markdown",
   "metadata": {},
   "source": [
    "#### p-value looks good again, lets drop - 'Last Notable Activity_Had a Phone Conversation'"
   ]
  },
  {
   "cell_type": "code",
   "execution_count": 176,
   "metadata": {
    "execution": {
     "iopub.execute_input": "2022-07-31T09:26:56.055083Z",
     "iopub.status.busy": "2022-07-31T09:26:56.054402Z",
     "iopub.status.idle": "2022-07-31T09:26:56.062296Z",
     "shell.execute_reply": "2022-07-31T09:26:56.061130Z",
     "shell.execute_reply.started": "2022-07-31T09:26:56.055037Z"
    }
   },
   "outputs": [],
   "source": [
    "drop_col = 'Last Notable Activity_Had a Phone Conversation'\n",
    "\n",
    "X_train.drop(drop_col, axis = 1, inplace = True)"
   ]
  },
  {
   "cell_type": "markdown",
   "metadata": {},
   "source": [
    "### Model 4"
   ]
  },
  {
   "cell_type": "code",
   "execution_count": 177,
   "metadata": {
    "execution": {
     "iopub.execute_input": "2022-07-31T09:26:56.064711Z",
     "iopub.status.busy": "2022-07-31T09:26:56.064006Z",
     "iopub.status.idle": "2022-07-31T09:26:56.140117Z",
     "shell.execute_reply": "2022-07-31T09:26:56.138973Z",
     "shell.execute_reply.started": "2022-07-31T09:26:56.064667Z"
    }
   },
   "outputs": [
    {
     "data": {
      "text/html": [
       "<table class=\"simpletable\">\n",
       "<caption>Generalized Linear Model Regression Results</caption>\n",
       "<tr>\n",
       "  <th>Dep. Variable:</th>       <td>Converted</td>    <th>  No. Observations:  </th>  <td>  4461</td> \n",
       "</tr>\n",
       "<tr>\n",
       "  <th>Model:</th>                  <td>GLM</td>       <th>  Df Residuals:      </th>  <td>  4448</td> \n",
       "</tr>\n",
       "<tr>\n",
       "  <th>Model Family:</th>        <td>Binomial</td>     <th>  Df Model:          </th>  <td>    12</td> \n",
       "</tr>\n",
       "<tr>\n",
       "  <th>Link Function:</th>         <td>logit</td>      <th>  Scale:             </th> <td>  1.0000</td>\n",
       "</tr>\n",
       "<tr>\n",
       "  <th>Method:</th>                <td>IRLS</td>       <th>  Log-Likelihood:    </th> <td> -2052.9</td>\n",
       "</tr>\n",
       "<tr>\n",
       "  <th>Date:</th>            <td>Tue, 02 Aug 2022</td> <th>  Deviance:          </th> <td>  4105.8</td>\n",
       "</tr>\n",
       "<tr>\n",
       "  <th>Time:</th>                <td>20:54:16</td>     <th>  Pearson chi2:      </th> <td>4.70e+03</td>\n",
       "</tr>\n",
       "<tr>\n",
       "  <th>No. Iterations:</th>          <td>7</td>        <th>                     </th>     <td> </td>   \n",
       "</tr>\n",
       "<tr>\n",
       "  <th>Covariance Type:</th>     <td>nonrobust</td>    <th>                     </th>     <td> </td>   \n",
       "</tr>\n",
       "</table>\n",
       "<table class=\"simpletable\">\n",
       "<tr>\n",
       "                            <td></td>                              <th>coef</th>     <th>std err</th>      <th>z</th>      <th>P>|z|</th>  <th>[0.025</th>    <th>0.975]</th>  \n",
       "</tr>\n",
       "<tr>\n",
       "  <th>const</th>                                                <td>   -2.3264</td> <td>    0.100</td> <td>  -23.294</td> <td> 0.000</td> <td>   -2.522</td> <td>   -2.131</td>\n",
       "</tr>\n",
       "<tr>\n",
       "  <th>TotalVisits</th>                                          <td>    1.3105</td> <td>    0.237</td> <td>    5.528</td> <td> 0.000</td> <td>    0.846</td> <td>    1.775</td>\n",
       "</tr>\n",
       "<tr>\n",
       "  <th>Total Time Spent on Website</th>                          <td>    4.4006</td> <td>    0.185</td> <td>   23.750</td> <td> 0.000</td> <td>    4.037</td> <td>    4.764</td>\n",
       "</tr>\n",
       "<tr>\n",
       "  <th>Lead Origin_Lead Add Form</th>                            <td>    4.3411</td> <td>    0.262</td> <td>   16.601</td> <td> 0.000</td> <td>    3.829</td> <td>    4.854</td>\n",
       "</tr>\n",
       "<tr>\n",
       "  <th>Lead Source_Olark Chat</th>                               <td>    1.7041</td> <td>    0.131</td> <td>   12.990</td> <td> 0.000</td> <td>    1.447</td> <td>    1.961</td>\n",
       "</tr>\n",
       "<tr>\n",
       "  <th>Lead Source_Welingak Website</th>                         <td>    2.1633</td> <td>    1.037</td> <td>    2.086</td> <td> 0.037</td> <td>    0.130</td> <td>    4.196</td>\n",
       "</tr>\n",
       "<tr>\n",
       "  <th>Do Not Email_Yes</th>                                     <td>   -1.4020</td> <td>    0.220</td> <td>   -6.369</td> <td> 0.000</td> <td>   -1.833</td> <td>   -0.971</td>\n",
       "</tr>\n",
       "<tr>\n",
       "  <th>Last Activity_Email Bounced</th>                          <td>   -1.5653</td> <td>    0.659</td> <td>   -2.376</td> <td> 0.018</td> <td>   -2.857</td> <td>   -0.274</td>\n",
       "</tr>\n",
       "<tr>\n",
       "  <th>Last Activity_Olark Chat Conversation</th>                <td>   -1.0555</td> <td>    0.183</td> <td>   -5.760</td> <td> 0.000</td> <td>   -1.415</td> <td>   -0.696</td>\n",
       "</tr>\n",
       "<tr>\n",
       "  <th>What is your current occupation_Working Professional</th> <td>    2.5678</td> <td>    0.199</td> <td>   12.933</td> <td> 0.000</td> <td>    2.179</td> <td>    2.957</td>\n",
       "</tr>\n",
       "<tr>\n",
       "  <th>Last Notable Activity_Email Bounced</th>                  <td>    2.0280</td> <td>    0.794</td> <td>    2.554</td> <td> 0.011</td> <td>    0.471</td> <td>    3.585</td>\n",
       "</tr>\n",
       "<tr>\n",
       "  <th>Last Notable Activity_SMS Sent</th>                       <td>    1.1813</td> <td>    0.088</td> <td>   13.432</td> <td> 0.000</td> <td>    1.009</td> <td>    1.354</td>\n",
       "</tr>\n",
       "<tr>\n",
       "  <th>Last Notable Activity_Unreachable</th>                    <td>    2.6599</td> <td>    0.806</td> <td>    3.300</td> <td> 0.001</td> <td>    1.080</td> <td>    4.240</td>\n",
       "</tr>\n",
       "</table>"
      ],
      "text/plain": [
       "<class 'statsmodels.iolib.summary.Summary'>\n",
       "\"\"\"\n",
       "                 Generalized Linear Model Regression Results                  \n",
       "==============================================================================\n",
       "Dep. Variable:              Converted   No. Observations:                 4461\n",
       "Model:                            GLM   Df Residuals:                     4448\n",
       "Model Family:                Binomial   Df Model:                           12\n",
       "Link Function:                  logit   Scale:                          1.0000\n",
       "Method:                          IRLS   Log-Likelihood:                -2052.9\n",
       "Date:                Tue, 02 Aug 2022   Deviance:                       4105.8\n",
       "Time:                        20:54:16   Pearson chi2:                 4.70e+03\n",
       "No. Iterations:                     7                                         \n",
       "Covariance Type:            nonrobust                                         \n",
       "========================================================================================================================\n",
       "                                                           coef    std err          z      P>|z|      [0.025      0.975]\n",
       "------------------------------------------------------------------------------------------------------------------------\n",
       "const                                                   -2.3264      0.100    -23.294      0.000      -2.522      -2.131\n",
       "TotalVisits                                              1.3105      0.237      5.528      0.000       0.846       1.775\n",
       "Total Time Spent on Website                              4.4006      0.185     23.750      0.000       4.037       4.764\n",
       "Lead Origin_Lead Add Form                                4.3411      0.262     16.601      0.000       3.829       4.854\n",
       "Lead Source_Olark Chat                                   1.7041      0.131     12.990      0.000       1.447       1.961\n",
       "Lead Source_Welingak Website                             2.1633      1.037      2.086      0.037       0.130       4.196\n",
       "Do Not Email_Yes                                        -1.4020      0.220     -6.369      0.000      -1.833      -0.971\n",
       "Last Activity_Email Bounced                             -1.5653      0.659     -2.376      0.018      -2.857      -0.274\n",
       "Last Activity_Olark Chat Conversation                   -1.0555      0.183     -5.760      0.000      -1.415      -0.696\n",
       "What is your current occupation_Working Professional     2.5678      0.199     12.933      0.000       2.179       2.957\n",
       "Last Notable Activity_Email Bounced                      2.0280      0.794      2.554      0.011       0.471       3.585\n",
       "Last Notable Activity_SMS Sent                           1.1813      0.088     13.432      0.000       1.009       1.354\n",
       "Last Notable Activity_Unreachable                        2.6599      0.806      3.300      0.001       1.080       4.240\n",
       "========================================================================================================================\n",
       "\"\"\""
      ]
     },
     "execution_count": 177,
     "metadata": {},
     "output_type": "execute_result"
    }
   ],
   "source": [
    "model4 = sm_log_model()\n",
    "model4.summary()"
   ]
  },
  {
   "cell_type": "code",
   "execution_count": 178,
   "metadata": {
    "execution": {
     "iopub.execute_input": "2022-07-31T09:26:56.142536Z",
     "iopub.status.busy": "2022-07-31T09:26:56.141828Z",
     "iopub.status.idle": "2022-07-31T09:26:56.224518Z",
     "shell.execute_reply": "2022-07-31T09:26:56.223397Z",
     "shell.execute_reply.started": "2022-07-31T09:26:56.142490Z"
    }
   },
   "outputs": [
    {
     "data": {
      "text/html": [
       "<div>\n",
       "<style scoped>\n",
       "    .dataframe tbody tr th:only-of-type {\n",
       "        vertical-align: middle;\n",
       "    }\n",
       "\n",
       "    .dataframe tbody tr th {\n",
       "        vertical-align: top;\n",
       "    }\n",
       "\n",
       "    .dataframe thead th {\n",
       "        text-align: right;\n",
       "    }\n",
       "</style>\n",
       "<table border=\"1\" class=\"dataframe\">\n",
       "  <thead>\n",
       "    <tr style=\"text-align: right;\">\n",
       "      <th></th>\n",
       "      <th>var</th>\n",
       "      <th>value</th>\n",
       "    </tr>\n",
       "  </thead>\n",
       "  <tbody>\n",
       "    <tr>\n",
       "      <th>6</th>\n",
       "      <td>Last Activity_Email Bounced</td>\n",
       "      <td>1.93</td>\n",
       "    </tr>\n",
       "    <tr>\n",
       "      <th>1</th>\n",
       "      <td>Total Time Spent on Website</td>\n",
       "      <td>1.90</td>\n",
       "    </tr>\n",
       "    <tr>\n",
       "      <th>0</th>\n",
       "      <td>TotalVisits</td>\n",
       "      <td>1.83</td>\n",
       "    </tr>\n",
       "    <tr>\n",
       "      <th>5</th>\n",
       "      <td>Do Not Email_Yes</td>\n",
       "      <td>1.64</td>\n",
       "    </tr>\n",
       "    <tr>\n",
       "      <th>2</th>\n",
       "      <td>Lead Origin_Lead Add Form</td>\n",
       "      <td>1.47</td>\n",
       "    </tr>\n",
       "    <tr>\n",
       "      <th>10</th>\n",
       "      <td>Last Notable Activity_SMS Sent</td>\n",
       "      <td>1.43</td>\n",
       "    </tr>\n",
       "    <tr>\n",
       "      <th>9</th>\n",
       "      <td>Last Notable Activity_Email Bounced</td>\n",
       "      <td>1.37</td>\n",
       "    </tr>\n",
       "    <tr>\n",
       "      <th>4</th>\n",
       "      <td>Lead Source_Welingak Website</td>\n",
       "      <td>1.32</td>\n",
       "    </tr>\n",
       "    <tr>\n",
       "      <th>8</th>\n",
       "      <td>What is your current occupation_Working Profes...</td>\n",
       "      <td>1.21</td>\n",
       "    </tr>\n",
       "    <tr>\n",
       "      <th>3</th>\n",
       "      <td>Lead Source_Olark Chat</td>\n",
       "      <td>1.20</td>\n",
       "    </tr>\n",
       "    <tr>\n",
       "      <th>7</th>\n",
       "      <td>Last Activity_Olark Chat Conversation</td>\n",
       "      <td>1.17</td>\n",
       "    </tr>\n",
       "    <tr>\n",
       "      <th>11</th>\n",
       "      <td>Last Notable Activity_Unreachable</td>\n",
       "      <td>1.01</td>\n",
       "    </tr>\n",
       "  </tbody>\n",
       "</table>\n",
       "</div>"
      ],
      "text/plain": [
       "                                                  var  value\n",
       "6                         Last Activity_Email Bounced   1.93\n",
       "1                         Total Time Spent on Website   1.90\n",
       "0                                         TotalVisits   1.83\n",
       "5                                    Do Not Email_Yes   1.64\n",
       "2                           Lead Origin_Lead Add Form   1.47\n",
       "10                     Last Notable Activity_SMS Sent   1.43\n",
       "9                 Last Notable Activity_Email Bounced   1.37\n",
       "4                        Lead Source_Welingak Website   1.32\n",
       "8   What is your current occupation_Working Profes...   1.21\n",
       "3                              Lead Source_Olark Chat   1.20\n",
       "7               Last Activity_Olark Chat Conversation   1.17\n",
       "11                  Last Notable Activity_Unreachable   1.01"
      ]
     },
     "execution_count": 178,
     "metadata": {},
     "output_type": "execute_result"
    }
   ],
   "source": [
    "vif(X_train)"
   ]
  },
  {
   "cell_type": "markdown",
   "metadata": {},
   "source": [
    "### Now, both the p-values and VIFs seem decent enough for all the variables. So let's go ahead and make predictions using this final set of features."
   ]
  },
  {
   "cell_type": "markdown",
   "metadata": {},
   "source": [
    "# Model Evaluation"
   ]
  },
  {
   "cell_type": "markdown",
   "metadata": {},
   "source": [
    "#### The Best Model based on P-Values & VIF is Model 4"
   ]
  },
  {
   "cell_type": "code",
   "execution_count": 179,
   "metadata": {
    "execution": {
     "iopub.execute_input": "2022-07-31T09:26:56.227060Z",
     "iopub.status.busy": "2022-07-31T09:26:56.226304Z",
     "iopub.status.idle": "2022-07-31T09:26:56.232633Z",
     "shell.execute_reply": "2022-07-31T09:26:56.231458Z",
     "shell.execute_reply.started": "2022-07-31T09:26:56.227014Z"
    }
   },
   "outputs": [],
   "source": [
    "final_model = model4"
   ]
  },
  {
   "cell_type": "markdown",
   "metadata": {},
   "source": [
    "### Predicting the Training y"
   ]
  },
  {
   "cell_type": "code",
   "execution_count": 180,
   "metadata": {
    "execution": {
     "iopub.execute_input": "2022-07-31T09:26:56.235540Z",
     "iopub.status.busy": "2022-07-31T09:26:56.234738Z",
     "iopub.status.idle": "2022-07-31T09:26:56.253031Z",
     "shell.execute_reply": "2022-07-31T09:26:56.251176Z",
     "shell.execute_reply.started": "2022-07-31T09:26:56.235493Z"
    }
   },
   "outputs": [],
   "source": [
    "X_train_sm = sm.add_constant(X_train) # adding the constant as the statsmodel does not add contant by deafult\n",
    "y_train_pred = final_model.predict(X_train_sm)"
   ]
  },
  {
   "cell_type": "markdown",
   "metadata": {},
   "source": [
    "#### Lets Create a Predict Table for Training Data"
   ]
  },
  {
   "cell_type": "code",
   "execution_count": 181,
   "metadata": {
    "execution": {
     "iopub.execute_input": "2022-07-31T09:26:56.255879Z",
     "iopub.status.busy": "2022-07-31T09:26:56.255061Z",
     "iopub.status.idle": "2022-07-31T09:26:56.272414Z",
     "shell.execute_reply": "2022-07-31T09:26:56.271290Z",
     "shell.execute_reply.started": "2022-07-31T09:26:56.255835Z"
    }
   },
   "outputs": [
    {
     "data": {
      "text/html": [
       "<div>\n",
       "<style scoped>\n",
       "    .dataframe tbody tr th:only-of-type {\n",
       "        vertical-align: middle;\n",
       "    }\n",
       "\n",
       "    .dataframe tbody tr th {\n",
       "        vertical-align: top;\n",
       "    }\n",
       "\n",
       "    .dataframe thead th {\n",
       "        text-align: right;\n",
       "    }\n",
       "</style>\n",
       "<table border=\"1\" class=\"dataframe\">\n",
       "  <thead>\n",
       "    <tr style=\"text-align: right;\">\n",
       "      <th></th>\n",
       "      <th>Converted</th>\n",
       "      <th>Converted_Prob</th>\n",
       "    </tr>\n",
       "  </thead>\n",
       "  <tbody>\n",
       "    <tr>\n",
       "      <th>8003</th>\n",
       "      <td>0</td>\n",
       "      <td>0.326482</td>\n",
       "    </tr>\n",
       "    <tr>\n",
       "      <th>218</th>\n",
       "      <td>0</td>\n",
       "      <td>0.158026</td>\n",
       "    </tr>\n",
       "    <tr>\n",
       "      <th>4171</th>\n",
       "      <td>1</td>\n",
       "      <td>0.149504</td>\n",
       "    </tr>\n",
       "    <tr>\n",
       "      <th>4037</th>\n",
       "      <td>1</td>\n",
       "      <td>0.349267</td>\n",
       "    </tr>\n",
       "    <tr>\n",
       "      <th>3660</th>\n",
       "      <td>1</td>\n",
       "      <td>0.960683</td>\n",
       "    </tr>\n",
       "  </tbody>\n",
       "</table>\n",
       "</div>"
      ],
      "text/plain": [
       "      Converted  Converted_Prob\n",
       "8003          0        0.326482\n",
       "218           0        0.158026\n",
       "4171          1        0.149504\n",
       "4037          1        0.349267\n",
       "3660          1        0.960683"
      ]
     },
     "execution_count": 181,
     "metadata": {},
     "output_type": "execute_result"
    }
   ],
   "source": [
    "train_predict_table = pd.DataFrame({'Converted':y_train,'Converted_Prob':y_train_pred})\n",
    "train_predict_table.head(5)"
   ]
  },
  {
   "cell_type": "markdown",
   "metadata": {},
   "source": [
    "### Deciding the Initial Cut off : Let 0.5 be the cut-off value for the Prediction (Initially)"
   ]
  },
  {
   "cell_type": "code",
   "execution_count": 182,
   "metadata": {
    "execution": {
     "iopub.execute_input": "2022-07-31T09:26:56.274476Z",
     "iopub.status.busy": "2022-07-31T09:26:56.273931Z",
     "iopub.status.idle": "2022-07-31T09:26:56.299345Z",
     "shell.execute_reply": "2022-07-31T09:26:56.298187Z",
     "shell.execute_reply.started": "2022-07-31T09:26:56.274416Z"
    }
   },
   "outputs": [
    {
     "data": {
      "text/html": [
       "<div>\n",
       "<style scoped>\n",
       "    .dataframe tbody tr th:only-of-type {\n",
       "        vertical-align: middle;\n",
       "    }\n",
       "\n",
       "    .dataframe tbody tr th {\n",
       "        vertical-align: top;\n",
       "    }\n",
       "\n",
       "    .dataframe thead th {\n",
       "        text-align: right;\n",
       "    }\n",
       "</style>\n",
       "<table border=\"1\" class=\"dataframe\">\n",
       "  <thead>\n",
       "    <tr style=\"text-align: right;\">\n",
       "      <th></th>\n",
       "      <th>Converted</th>\n",
       "      <th>Converted_Prob</th>\n",
       "      <th>Prediction</th>\n",
       "    </tr>\n",
       "  </thead>\n",
       "  <tbody>\n",
       "    <tr>\n",
       "      <th>8003</th>\n",
       "      <td>0</td>\n",
       "      <td>0.326482</td>\n",
       "      <td>0</td>\n",
       "    </tr>\n",
       "    <tr>\n",
       "      <th>218</th>\n",
       "      <td>0</td>\n",
       "      <td>0.158026</td>\n",
       "      <td>0</td>\n",
       "    </tr>\n",
       "    <tr>\n",
       "      <th>4171</th>\n",
       "      <td>1</td>\n",
       "      <td>0.149504</td>\n",
       "      <td>0</td>\n",
       "    </tr>\n",
       "    <tr>\n",
       "      <th>4037</th>\n",
       "      <td>1</td>\n",
       "      <td>0.349267</td>\n",
       "      <td>0</td>\n",
       "    </tr>\n",
       "    <tr>\n",
       "      <th>3660</th>\n",
       "      <td>1</td>\n",
       "      <td>0.960683</td>\n",
       "      <td>1</td>\n",
       "    </tr>\n",
       "  </tbody>\n",
       "</table>\n",
       "</div>"
      ],
      "text/plain": [
       "      Converted  Converted_Prob  Prediction\n",
       "8003          0        0.326482           0\n",
       "218           0        0.158026           0\n",
       "4171          1        0.149504           0\n",
       "4037          1        0.349267           0\n",
       "3660          1        0.960683           1"
      ]
     },
     "execution_count": 182,
     "metadata": {},
     "output_type": "execute_result"
    }
   ],
   "source": [
    "## creating the prediction column to the dataframe\n",
    "train_predict_table['Prediction'] = train_predict_table['Converted_Prob'].apply(lambda x : 1 if x > 0.5 else 0)\n",
    "train_predict_table.head(5)"
   ]
  },
  {
   "cell_type": "markdown",
   "metadata": {},
   "source": [
    "### Lets Look at the Evaluation Matrix of the logistic regression"
   ]
  },
  {
   "cell_type": "markdown",
   "metadata": {},
   "source": [
    "* #### Accuracy\n",
    "* #### Sensitivity\n",
    "* #### Specicity"
   ]
  },
  {
   "cell_type": "code",
   "execution_count": 183,
   "metadata": {
    "execution": {
     "iopub.execute_input": "2022-07-31T09:26:56.302255Z",
     "iopub.status.busy": "2022-07-31T09:26:56.301421Z",
     "iopub.status.idle": "2022-07-31T09:26:56.307497Z",
     "shell.execute_reply": "2022-07-31T09:26:56.306355Z",
     "shell.execute_reply.started": "2022-07-31T09:26:56.302207Z"
    }
   },
   "outputs": [],
   "source": [
    "# importing the metrics class form sklearn\n",
    "\n",
    "from sklearn import metrics"
   ]
  },
  {
   "cell_type": "code",
   "execution_count": 184,
   "metadata": {
    "execution": {
     "iopub.execute_input": "2022-07-31T09:26:56.310366Z",
     "iopub.status.busy": "2022-07-31T09:26:56.309566Z",
     "iopub.status.idle": "2022-07-31T09:26:56.336529Z",
     "shell.execute_reply": "2022-07-31T09:26:56.335193Z",
     "shell.execute_reply.started": "2022-07-31T09:26:56.310323Z"
    }
   },
   "outputs": [
    {
     "data": {
      "text/html": [
       "<div>\n",
       "<style scoped>\n",
       "    .dataframe tbody tr th:only-of-type {\n",
       "        vertical-align: middle;\n",
       "    }\n",
       "\n",
       "    .dataframe tbody tr th {\n",
       "        vertical-align: top;\n",
       "    }\n",
       "\n",
       "    .dataframe thead th {\n",
       "        text-align: right;\n",
       "    }\n",
       "</style>\n",
       "<table border=\"1\" class=\"dataframe\">\n",
       "  <thead>\n",
       "    <tr style=\"text-align: right;\">\n",
       "      <th></th>\n",
       "      <th>Not Churn</th>\n",
       "      <th>Churn</th>\n",
       "    </tr>\n",
       "  </thead>\n",
       "  <tbody>\n",
       "    <tr>\n",
       "      <th>Not Churn</th>\n",
       "      <td>1920</td>\n",
       "      <td>392</td>\n",
       "    </tr>\n",
       "    <tr>\n",
       "      <th>Churn</th>\n",
       "      <td>551</td>\n",
       "      <td>1598</td>\n",
       "    </tr>\n",
       "  </tbody>\n",
       "</table>\n",
       "</div>"
      ],
      "text/plain": [
       "           Not Churn  Churn\n",
       "Not Churn       1920    392\n",
       "Churn            551   1598"
      ]
     },
     "execution_count": 184,
     "metadata": {},
     "output_type": "execute_result"
    }
   ],
   "source": [
    "# confusion metrics \n",
    "\n",
    "confusion = metrics.confusion_matrix(train_predict_table['Converted'],train_predict_table['Prediction'])\n",
    "\n",
    "labels = ['Not Churn','Churn']\n",
    "pd.DataFrame(data = confusion, columns = labels, index = labels)"
   ]
  },
  {
   "cell_type": "code",
   "execution_count": 185,
   "metadata": {
    "execution": {
     "iopub.execute_input": "2022-07-31T09:26:56.346225Z",
     "iopub.status.busy": "2022-07-31T09:26:56.342924Z",
     "iopub.status.idle": "2022-07-31T09:26:56.362909Z",
     "shell.execute_reply": "2022-07-31T09:26:56.361548Z",
     "shell.execute_reply.started": "2022-07-31T09:26:56.346163Z"
    }
   },
   "outputs": [
    {
     "data": {
      "text/plain": [
       "(1598, 1920, 392, 551)"
      ]
     },
     "execution_count": 185,
     "metadata": {},
     "output_type": "execute_result"
    }
   ],
   "source": [
    "TP = confusion[1,1] # True Positive\n",
    "TN = confusion[0,0] # True Negative\n",
    "\n",
    "FP = confusion[0,1] # False Positive\n",
    "FN = confusion[1,0] # False Negative\n",
    "\n",
    "TP,TN,FP,FN"
   ]
  },
  {
   "cell_type": "code",
   "execution_count": 186,
   "metadata": {
    "execution": {
     "iopub.execute_input": "2022-07-31T09:26:56.371118Z",
     "iopub.status.busy": "2022-07-31T09:26:56.369765Z",
     "iopub.status.idle": "2022-07-31T09:26:56.378771Z",
     "shell.execute_reply": "2022-07-31T09:26:56.377656Z",
     "shell.execute_reply.started": "2022-07-31T09:26:56.371067Z"
    }
   },
   "outputs": [],
   "source": [
    "# Accuracy of the model \n",
    "\n",
    "accuracy = metrics.accuracy_score(train_predict_table['Converted'],train_predict_table['Prediction'])"
   ]
  },
  {
   "cell_type": "code",
   "execution_count": 187,
   "metadata": {
    "execution": {
     "iopub.execute_input": "2022-07-31T09:26:56.381151Z",
     "iopub.status.busy": "2022-07-31T09:26:56.380288Z",
     "iopub.status.idle": "2022-07-31T09:26:56.388641Z",
     "shell.execute_reply": "2022-07-31T09:26:56.387489Z",
     "shell.execute_reply.started": "2022-07-31T09:26:56.381066Z"
    }
   },
   "outputs": [],
   "source": [
    "# Calculate the Sensitivity & Specificity\n",
    "\n",
    "sensitivity = TP/(TP+FN)\n",
    "specificity = TN/(TN+FP)"
   ]
  },
  {
   "cell_type": "code",
   "execution_count": 188,
   "metadata": {
    "execution": {
     "iopub.execute_input": "2022-07-31T09:26:56.393061Z",
     "iopub.status.busy": "2022-07-31T09:26:56.392273Z",
     "iopub.status.idle": "2022-07-31T09:26:56.408938Z",
     "shell.execute_reply": "2022-07-31T09:26:56.407814Z",
     "shell.execute_reply.started": "2022-07-31T09:26:56.393022Z"
    }
   },
   "outputs": [
    {
     "data": {
      "text/html": [
       "<div>\n",
       "<style scoped>\n",
       "    .dataframe tbody tr th:only-of-type {\n",
       "        vertical-align: middle;\n",
       "    }\n",
       "\n",
       "    .dataframe tbody tr th {\n",
       "        vertical-align: top;\n",
       "    }\n",
       "\n",
       "    .dataframe thead th {\n",
       "        text-align: right;\n",
       "    }\n",
       "</style>\n",
       "<table border=\"1\" class=\"dataframe\">\n",
       "  <thead>\n",
       "    <tr style=\"text-align: right;\">\n",
       "      <th></th>\n",
       "      <th>metric</th>\n",
       "      <th>value</th>\n",
       "    </tr>\n",
       "  </thead>\n",
       "  <tbody>\n",
       "    <tr>\n",
       "      <th>0</th>\n",
       "      <td>accuracy</td>\n",
       "      <td>0.79</td>\n",
       "    </tr>\n",
       "    <tr>\n",
       "      <th>1</th>\n",
       "      <td>sensitivity</td>\n",
       "      <td>0.74</td>\n",
       "    </tr>\n",
       "    <tr>\n",
       "      <th>2</th>\n",
       "      <td>specificity</td>\n",
       "      <td>0.83</td>\n",
       "    </tr>\n",
       "  </tbody>\n",
       "</table>\n",
       "</div>"
      ],
      "text/plain": [
       "        metric  value\n",
       "0     accuracy   0.79\n",
       "1  sensitivity   0.74\n",
       "2  specificity   0.83"
      ]
     },
     "execution_count": 188,
     "metadata": {},
     "output_type": "execute_result"
    }
   ],
   "source": [
    "labels = ['accuracy','sensitivity','specificity']\n",
    "values = [round(x,2) for x in [ accuracy,sensitivity,specificity]]\n",
    "pd.DataFrame({'metric':labels, 'value':values})"
   ]
  },
  {
   "cell_type": "markdown",
   "metadata": {
    "execution": {
     "iopub.execute_input": "2022-07-30T14:51:49.211344Z",
     "iopub.status.busy": "2022-07-30T14:51:49.210950Z",
     "iopub.status.idle": "2022-07-30T14:51:49.219027Z",
     "shell.execute_reply": "2022-07-30T14:51:49.217386Z",
     "shell.execute_reply.started": "2022-07-30T14:51:49.211312Z"
    }
   },
   "source": [
    "# Finding the Optimal Cutoff\n",
    "\n",
    "### Cut-off = 0.5 was just arbitrary to loosely check the model performace. \n",
    "### But in order to get good results, you need to optimise the threshold. So first let's plot an ROC curve to see what AUC we get."
   ]
  },
  {
   "cell_type": "markdown",
   "metadata": {},
   "source": [
    "### User Defined Function to plot the ROC Curve "
   ]
  },
  {
   "cell_type": "code",
   "execution_count": 189,
   "metadata": {
    "execution": {
     "iopub.execute_input": "2022-07-31T09:26:56.411993Z",
     "iopub.status.busy": "2022-07-31T09:26:56.411128Z",
     "iopub.status.idle": "2022-07-31T09:26:56.422029Z",
     "shell.execute_reply": "2022-07-31T09:26:56.420885Z",
     "shell.execute_reply.started": "2022-07-31T09:26:56.411944Z"
    }
   },
   "outputs": [],
   "source": [
    "def plot_roc(actual_y,probability_y):\n",
    "    \n",
    "    fpr, tpr, thresholds = metrics.roc_curve(actual_y, probability_y,drop_intermediate = False )\n",
    "    \n",
    "    auc_score = metrics.roc_auc_score(actual_y, probability_y)\n",
    "    \n",
    "    plt.figure(figsize=(5, 5))\n",
    "    plt.plot( fpr, tpr, label='ROC Curve ( Area = %0.2f )' % auc_score )\n",
    "    plt.plot([0, 1], [0, 1], 'k--')\n",
    "    plt.xlim([0.0, 1.0])\n",
    "    plt.ylim([0.0, 1.05])\n",
    "    \n",
    "    plt.xlabel('FP Rate or [ 1 - TN Rate ]')\n",
    "    plt.ylabel('TP Rate')\n",
    "    plt.title('ROC Curve')\n",
    "    plt.legend(loc=\"lower right\")\n",
    "    \n",
    "    plt.show()\n",
    "\n",
    "    return None"
   ]
  },
  {
   "cell_type": "markdown",
   "metadata": {},
   "source": [
    "#### Lets plot the ROC with Cut-Offs = 0.5"
   ]
  },
  {
   "cell_type": "code",
   "execution_count": 190,
   "metadata": {
    "execution": {
     "iopub.execute_input": "2022-07-31T09:26:56.424367Z",
     "iopub.status.busy": "2022-07-31T09:26:56.423656Z",
     "iopub.status.idle": "2022-07-31T09:26:56.624975Z",
     "shell.execute_reply": "2022-07-31T09:26:56.623772Z",
     "shell.execute_reply.started": "2022-07-31T09:26:56.424330Z"
    }
   },
   "outputs": [
    {
     "data": {
      "image/png": "[encoded data removed]",
      "text/plain": [
       "<Figure size 360x360 with 1 Axes>"
      ]
     },
     "metadata": {
      "needs_background": "light"
     },
     "output_type": "display_data"
    }
   ],
   "source": [
    "plot_roc(train_predict_table['Converted'],train_predict_table['Converted_Prob'])"
   ]
  },
  {
   "cell_type": "markdown",
   "metadata": {},
   "source": [
    "### Inference : \n",
    "#### The area under the curve of the ROC is 0.86 which is quite good. \n",
    "#### So we seem to have a good model. "
   ]
  },
  {
   "cell_type": "markdown",
   "metadata": {},
   "source": [
    "### Let's also check the sensitivity and specificity tradeoff to find the optimal cutoff point."
   ]
  },
  {
   "cell_type": "code",
   "execution_count": 191,
   "metadata": {
    "execution": {
     "iopub.execute_input": "2022-07-31T09:26:56.627238Z",
     "iopub.status.busy": "2022-07-31T09:26:56.626677Z",
     "iopub.status.idle": "2022-07-31T09:26:56.689021Z",
     "shell.execute_reply": "2022-07-31T09:26:56.687793Z",
     "shell.execute_reply.started": "2022-07-31T09:26:56.627189Z"
    }
   },
   "outputs": [
    {
     "data": {
      "text/html": [
       "<div>\n",
       "<style scoped>\n",
       "    .dataframe tbody tr th:only-of-type {\n",
       "        vertical-align: middle;\n",
       "    }\n",
       "\n",
       "    .dataframe tbody tr th {\n",
       "        vertical-align: top;\n",
       "    }\n",
       "\n",
       "    .dataframe thead th {\n",
       "        text-align: right;\n",
       "    }\n",
       "</style>\n",
       "<table border=\"1\" class=\"dataframe\">\n",
       "  <thead>\n",
       "    <tr style=\"text-align: right;\">\n",
       "      <th></th>\n",
       "      <th>Converted</th>\n",
       "      <th>Converted_Prob</th>\n",
       "      <th>Prediction</th>\n",
       "      <th>0.1</th>\n",
       "      <th>0.2</th>\n",
       "      <th>0.3</th>\n",
       "      <th>0.4</th>\n",
       "      <th>0.5</th>\n",
       "      <th>0.6</th>\n",
       "      <th>0.7</th>\n",
       "      <th>0.8</th>\n",
       "      <th>0.9</th>\n",
       "    </tr>\n",
       "  </thead>\n",
       "  <tbody>\n",
       "    <tr>\n",
       "      <th>8003</th>\n",
       "      <td>0</td>\n",
       "      <td>0.326482</td>\n",
       "      <td>0</td>\n",
       "      <td>1</td>\n",
       "      <td>1</td>\n",
       "      <td>1</td>\n",
       "      <td>0</td>\n",
       "      <td>0</td>\n",
       "      <td>0</td>\n",
       "      <td>0</td>\n",
       "      <td>0</td>\n",
       "      <td>0</td>\n",
       "    </tr>\n",
       "    <tr>\n",
       "      <th>218</th>\n",
       "      <td>0</td>\n",
       "      <td>0.158026</td>\n",
       "      <td>0</td>\n",
       "      <td>1</td>\n",
       "      <td>0</td>\n",
       "      <td>0</td>\n",
       "      <td>0</td>\n",
       "      <td>0</td>\n",
       "      <td>0</td>\n",
       "      <td>0</td>\n",
       "      <td>0</td>\n",
       "      <td>0</td>\n",
       "    </tr>\n",
       "    <tr>\n",
       "      <th>4171</th>\n",
       "      <td>1</td>\n",
       "      <td>0.149504</td>\n",
       "      <td>0</td>\n",
       "      <td>1</td>\n",
       "      <td>0</td>\n",
       "      <td>0</td>\n",
       "      <td>0</td>\n",
       "      <td>0</td>\n",
       "      <td>0</td>\n",
       "      <td>0</td>\n",
       "      <td>0</td>\n",
       "      <td>0</td>\n",
       "    </tr>\n",
       "    <tr>\n",
       "      <th>4037</th>\n",
       "      <td>1</td>\n",
       "      <td>0.349267</td>\n",
       "      <td>0</td>\n",
       "      <td>1</td>\n",
       "      <td>1</td>\n",
       "      <td>1</td>\n",
       "      <td>0</td>\n",
       "      <td>0</td>\n",
       "      <td>0</td>\n",
       "      <td>0</td>\n",
       "      <td>0</td>\n",
       "      <td>0</td>\n",
       "    </tr>\n",
       "    <tr>\n",
       "      <th>3660</th>\n",
       "      <td>1</td>\n",
       "      <td>0.960683</td>\n",
       "      <td>1</td>\n",
       "      <td>1</td>\n",
       "      <td>1</td>\n",
       "      <td>1</td>\n",
       "      <td>1</td>\n",
       "      <td>1</td>\n",
       "      <td>1</td>\n",
       "      <td>1</td>\n",
       "      <td>1</td>\n",
       "      <td>1</td>\n",
       "    </tr>\n",
       "    <tr>\n",
       "      <th>...</th>\n",
       "      <td>...</td>\n",
       "      <td>...</td>\n",
       "      <td>...</td>\n",
       "      <td>...</td>\n",
       "      <td>...</td>\n",
       "      <td>...</td>\n",
       "      <td>...</td>\n",
       "      <td>...</td>\n",
       "      <td>...</td>\n",
       "      <td>...</td>\n",
       "      <td>...</td>\n",
       "      <td>...</td>\n",
       "    </tr>\n",
       "    <tr>\n",
       "      <th>8759</th>\n",
       "      <td>1</td>\n",
       "      <td>0.960683</td>\n",
       "      <td>1</td>\n",
       "      <td>1</td>\n",
       "      <td>1</td>\n",
       "      <td>1</td>\n",
       "      <td>1</td>\n",
       "      <td>1</td>\n",
       "      <td>1</td>\n",
       "      <td>1</td>\n",
       "      <td>1</td>\n",
       "      <td>1</td>\n",
       "    </tr>\n",
       "    <tr>\n",
       "      <th>100</th>\n",
       "      <td>0</td>\n",
       "      <td>0.793504</td>\n",
       "      <td>1</td>\n",
       "      <td>1</td>\n",
       "      <td>1</td>\n",
       "      <td>1</td>\n",
       "      <td>1</td>\n",
       "      <td>1</td>\n",
       "      <td>1</td>\n",
       "      <td>1</td>\n",
       "      <td>0</td>\n",
       "      <td>0</td>\n",
       "    </tr>\n",
       "    <tr>\n",
       "      <th>5877</th>\n",
       "      <td>0</td>\n",
       "      <td>0.915555</td>\n",
       "      <td>1</td>\n",
       "      <td>1</td>\n",
       "      <td>1</td>\n",
       "      <td>1</td>\n",
       "      <td>1</td>\n",
       "      <td>1</td>\n",
       "      <td>1</td>\n",
       "      <td>1</td>\n",
       "      <td>1</td>\n",
       "      <td>1</td>\n",
       "    </tr>\n",
       "    <tr>\n",
       "      <th>8658</th>\n",
       "      <td>0</td>\n",
       "      <td>0.229346</td>\n",
       "      <td>0</td>\n",
       "      <td>1</td>\n",
       "      <td>1</td>\n",
       "      <td>0</td>\n",
       "      <td>0</td>\n",
       "      <td>0</td>\n",
       "      <td>0</td>\n",
       "      <td>0</td>\n",
       "      <td>0</td>\n",
       "      <td>0</td>\n",
       "    </tr>\n",
       "    <tr>\n",
       "      <th>8217</th>\n",
       "      <td>0</td>\n",
       "      <td>0.398825</td>\n",
       "      <td>0</td>\n",
       "      <td>1</td>\n",
       "      <td>1</td>\n",
       "      <td>1</td>\n",
       "      <td>0</td>\n",
       "      <td>0</td>\n",
       "      <td>0</td>\n",
       "      <td>0</td>\n",
       "      <td>0</td>\n",
       "      <td>0</td>\n",
       "    </tr>\n",
       "  </tbody>\n",
       "</table>\n",
       "<p>4461 rows × 12 columns</p>\n",
       "</div>"
      ],
      "text/plain": [
       "      Converted  Converted_Prob  Prediction  0.1  0.2  0.3  0.4  0.5  0.6  \\\n",
       "8003          0        0.326482           0    1    1    1    0    0    0   \n",
       "218           0        0.158026           0    1    0    0    0    0    0   \n",
       "4171          1        0.149504           0    1    0    0    0    0    0   \n",
       "4037          1        0.349267           0    1    1    1    0    0    0   \n",
       "3660          1        0.960683           1    1    1    1    1    1    1   \n",
       "...         ...             ...         ...  ...  ...  ...  ...  ...  ...   \n",
       "8759          1        0.960683           1    1    1    1    1    1    1   \n",
       "100           0        0.793504           1    1    1    1    1    1    1   \n",
       "5877          0        0.915555           1    1    1    1    1    1    1   \n",
       "8658          0        0.229346           0    1    1    0    0    0    0   \n",
       "8217          0        0.398825           0    1    1    1    0    0    0   \n",
       "\n",
       "      0.7  0.8  0.9  \n",
       "8003    0    0    0  \n",
       "218     0    0    0  \n",
       "4171    0    0    0  \n",
       "4037    0    0    0  \n",
       "3660    1    1    1  \n",
       "...   ...  ...  ...  \n",
       "8759    1    1    1  \n",
       "100     1    0    0  \n",
       "5877    1    1    1  \n",
       "8658    0    0    0  \n",
       "8217    0    0    0  \n",
       "\n",
       "[4461 rows x 12 columns]"
      ]
     },
     "execution_count": 191,
     "metadata": {},
     "output_type": "execute_result"
    }
   ],
   "source": [
    "# Let's create different probability cutoffs ranging from 0.1 to 0.9 with step = 0.1\n",
    "\n",
    "cuts = np.arange(start = 0.1, stop = 1.0, step = 0.1)\n",
    "\n",
    "cuts_list = [round(x,1) for x in cuts]\n",
    "\n",
    "# Creating Prediction for all the mentioned cut-offs \n",
    "\n",
    "for cut_point in cuts_list :\n",
    "    \n",
    "    train_predict_table[cut_point] = train_predict_table['Converted_Prob'].apply(lambda x : 1 if x > cut_point else 0)\n",
    "\n",
    "train_predict_table"
   ]
  },
  {
   "cell_type": "code",
   "execution_count": 192,
   "metadata": {
    "execution": {
     "iopub.execute_input": "2022-07-31T09:26:56.691963Z",
     "iopub.status.busy": "2022-07-31T09:26:56.690794Z",
     "iopub.status.idle": "2022-07-31T09:26:56.733470Z",
     "shell.execute_reply": "2022-07-31T09:26:56.732378Z",
     "shell.execute_reply.started": "2022-07-31T09:26:56.691915Z"
    }
   },
   "outputs": [
    {
     "data": {
      "text/html": [
       "<div>\n",
       "<style scoped>\n",
       "    .dataframe tbody tr th:only-of-type {\n",
       "        vertical-align: middle;\n",
       "    }\n",
       "\n",
       "    .dataframe tbody tr th {\n",
       "        vertical-align: top;\n",
       "    }\n",
       "\n",
       "    .dataframe thead th {\n",
       "        text-align: right;\n",
       "    }\n",
       "</style>\n",
       "<table border=\"1\" class=\"dataframe\">\n",
       "  <thead>\n",
       "    <tr style=\"text-align: right;\">\n",
       "      <th></th>\n",
       "      <th>cut point</th>\n",
       "      <th>accuracy</th>\n",
       "      <th>sensitivity</th>\n",
       "      <th>specificity</th>\n",
       "      <th>precision</th>\n",
       "      <th>recall</th>\n",
       "    </tr>\n",
       "  </thead>\n",
       "  <tbody>\n",
       "    <tr>\n",
       "      <th>0</th>\n",
       "      <td>0.1</td>\n",
       "      <td>0.531495</td>\n",
       "      <td>0.992555</td>\n",
       "      <td>0.102941</td>\n",
       "      <td>0.507012</td>\n",
       "      <td>0.992555</td>\n",
       "    </tr>\n",
       "    <tr>\n",
       "      <th>1</th>\n",
       "      <td>0.2</td>\n",
       "      <td>0.717104</td>\n",
       "      <td>0.939507</td>\n",
       "      <td>0.510381</td>\n",
       "      <td>0.640749</td>\n",
       "      <td>0.939507</td>\n",
       "    </tr>\n",
       "    <tr>\n",
       "      <th>2</th>\n",
       "      <td>0.3</td>\n",
       "      <td>0.764403</td>\n",
       "      <td>0.904607</td>\n",
       "      <td>0.634083</td>\n",
       "      <td>0.696774</td>\n",
       "      <td>0.904607</td>\n",
       "    </tr>\n",
       "    <tr>\n",
       "      <th>3</th>\n",
       "      <td>0.4</td>\n",
       "      <td>0.787716</td>\n",
       "      <td>0.806422</td>\n",
       "      <td>0.770329</td>\n",
       "      <td>0.765459</td>\n",
       "      <td>0.806422</td>\n",
       "    </tr>\n",
       "    <tr>\n",
       "      <th>4</th>\n",
       "      <td>0.5</td>\n",
       "      <td>0.788612</td>\n",
       "      <td>0.743602</td>\n",
       "      <td>0.830450</td>\n",
       "      <td>0.803015</td>\n",
       "      <td>0.743602</td>\n",
       "    </tr>\n",
       "    <tr>\n",
       "      <th>5</th>\n",
       "      <td>0.6</td>\n",
       "      <td>0.774266</td>\n",
       "      <td>0.670079</td>\n",
       "      <td>0.871107</td>\n",
       "      <td>0.828539</td>\n",
       "      <td>0.670079</td>\n",
       "    </tr>\n",
       "    <tr>\n",
       "      <th>6</th>\n",
       "      <td>0.7</td>\n",
       "      <td>0.737279</td>\n",
       "      <td>0.543974</td>\n",
       "      <td>0.916955</td>\n",
       "      <td>0.858927</td>\n",
       "      <td>0.543974</td>\n",
       "    </tr>\n",
       "    <tr>\n",
       "      <th>7</th>\n",
       "      <td>0.8</td>\n",
       "      <td>0.712620</td>\n",
       "      <td>0.452769</td>\n",
       "      <td>0.954152</td>\n",
       "      <td>0.901761</td>\n",
       "      <td>0.452769</td>\n",
       "    </tr>\n",
       "    <tr>\n",
       "      <th>8</th>\n",
       "      <td>0.9</td>\n",
       "      <td>0.643129</td>\n",
       "      <td>0.274546</td>\n",
       "      <td>0.985727</td>\n",
       "      <td>0.947030</td>\n",
       "      <td>0.274546</td>\n",
       "    </tr>\n",
       "  </tbody>\n",
       "</table>\n",
       "</div>"
      ],
      "text/plain": [
       "   cut point  accuracy  sensitivity  specificity  precision    recall\n",
       "0        0.1  0.531495     0.992555     0.102941   0.507012  0.992555\n",
       "1        0.2  0.717104     0.939507     0.510381   0.640749  0.939507\n",
       "2        0.3  0.764403     0.904607     0.634083   0.696774  0.904607\n",
       "3        0.4  0.787716     0.806422     0.770329   0.765459  0.806422\n",
       "4        0.5  0.788612     0.743602     0.830450   0.803015  0.743602\n",
       "5        0.6  0.774266     0.670079     0.871107   0.828539  0.670079\n",
       "6        0.7  0.737279     0.543974     0.916955   0.858927  0.543974\n",
       "7        0.8  0.712620     0.452769     0.954152   0.901761  0.452769\n",
       "8        0.9  0.643129     0.274546     0.985727   0.947030  0.274546"
      ]
     },
     "execution_count": 192,
     "metadata": {},
     "output_type": "execute_result"
    }
   ],
   "source": [
    "accuracy_list = []\n",
    "sensitivity_list = []\n",
    "specificity_list = []\n",
    "precision_list = []\n",
    "recall_list = []\n",
    "\n",
    "for cut_point in cuts_list:\n",
    "    \n",
    "    confusion = metrics.confusion_matrix(train_predict_table['Converted'],train_predict_table[cut_point])\n",
    "    \n",
    "    TP = confusion[1,1] # True Positive\n",
    "    TN = confusion[0,0] # True Negative\n",
    "\n",
    "    FP = confusion[0,1] # False Positive\n",
    "    FN = confusion[1,0] # False Negative\n",
    "    \n",
    "    accuracy = metrics.accuracy_score(train_predict_table['Converted'],train_predict_table[cut_point])\n",
    "    \n",
    "    sensitivity = TP/(TP+FN)\n",
    "    specificity = TN/(TN+FP)\n",
    "    \n",
    "    precision = TP/(TP+FP)\n",
    "    recall = TP/(TP+FN)\n",
    "    \n",
    "    \n",
    "    accuracy_list.append(accuracy)\n",
    "    sensitivity_list.append(sensitivity)\n",
    "    specificity_list.append(specificity)\n",
    "    precision_list.append(precision)\n",
    "    recall_list.append(recall)\n",
    "    \n",
    "trade_off_table = pd.DataFrame({'cut point':cuts_list,\n",
    "             'accuracy':accuracy_list,\n",
    "             'sensitivity':sensitivity_list,\n",
    "             'specificity':specificity_list,\n",
    "             'precision': precision_list,\n",
    "             'recall': recall_list})\n",
    "\n",
    "trade_off_table"
   ]
  },
  {
   "cell_type": "markdown",
   "metadata": {},
   "source": [
    "### Lets plot the all the metrics in the same plot"
   ]
  },
  {
   "cell_type": "code",
   "execution_count": 193,
   "metadata": {
    "execution": {
     "iopub.execute_input": "2022-07-31T09:26:56.735462Z",
     "iopub.status.busy": "2022-07-31T09:26:56.735124Z",
     "iopub.status.idle": "2022-07-31T09:26:57.205906Z",
     "shell.execute_reply": "2022-07-31T09:26:57.205001Z",
     "shell.execute_reply.started": "2022-07-31T09:26:56.735429Z"
    }
   },
   "outputs": [
    {
     "data": {
      "image/png": "[encoded data removed]",
      "text/plain": [
       "<Figure size 1800x360 with 1 Axes>"
      ]
     },
     "metadata": {
      "needs_background": "light"
     },
     "output_type": "display_data"
    }
   ],
   "source": [
    "x = trade_off_table['cut point']\n",
    "y1 = trade_off_table['accuracy']\n",
    "y2 = trade_off_table['sensitivity']\n",
    "y3 = trade_off_table['specificity']\n",
    "y4 = trade_off_table['precision']\n",
    "y5 = trade_off_table['recall']\n",
    "\n",
    "plt.figure(figsize = [25,5])\n",
    "plt.plot(x,y1, label = y1.name)\n",
    "plt.plot(x,y2, label = y2.name)\n",
    "plt.plot(x,y3, label = y3.name)\n",
    "plt.plot(x,y4, label = y4.name)\n",
    "plt.plot(x,y5, label = y5.name)\n",
    "plt.xticks(np.arange(start = 0.1, stop = 0.91, step = 0.02),rotation = 45)\n",
    "plt.legend()\n",
    "plt.grid()\n",
    "plt.show()"
   ]
  },
  {
   "cell_type": "markdown",
   "metadata": {},
   "source": [
    "### Findings :\n",
    "\n",
    "#### As you can see that around 0.43, you get the optimal values of the three metrics. So let's choose 0.43 as our cutoff now.\n",
    "\n"
   ]
  },
  {
   "cell_type": "code",
   "execution_count": 194,
   "metadata": {
    "execution": {
     "iopub.execute_input": "2022-07-31T09:26:57.207698Z",
     "iopub.status.busy": "2022-07-31T09:26:57.207196Z",
     "iopub.status.idle": "2022-07-31T09:26:57.216393Z",
     "shell.execute_reply": "2022-07-31T09:26:57.215465Z",
     "shell.execute_reply.started": "2022-07-31T09:26:57.207664Z"
    }
   },
   "outputs": [],
   "source": [
    "# create a final prediction column with optimal cut-offs\n",
    "\n",
    "train_predict_table['Final_Prediction'] = train_predict_table['Converted_Prob'].apply(lambda x : 1 if x > 0.43 else 0)"
   ]
  },
  {
   "cell_type": "code",
   "execution_count": 195,
   "metadata": {
    "execution": {
     "iopub.execute_input": "2022-07-31T09:26:57.218521Z",
     "iopub.status.busy": "2022-07-31T09:26:57.217692Z",
     "iopub.status.idle": "2022-07-31T09:26:57.241627Z",
     "shell.execute_reply": "2022-07-31T09:26:57.240684Z",
     "shell.execute_reply.started": "2022-07-31T09:26:57.218488Z"
    }
   },
   "outputs": [
    {
     "data": {
      "text/html": [
       "<div>\n",
       "<style scoped>\n",
       "    .dataframe tbody tr th:only-of-type {\n",
       "        vertical-align: middle;\n",
       "    }\n",
       "\n",
       "    .dataframe tbody tr th {\n",
       "        vertical-align: top;\n",
       "    }\n",
       "\n",
       "    .dataframe thead th {\n",
       "        text-align: right;\n",
       "    }\n",
       "</style>\n",
       "<table border=\"1\" class=\"dataframe\">\n",
       "  <thead>\n",
       "    <tr style=\"text-align: right;\">\n",
       "      <th></th>\n",
       "      <th>Converted</th>\n",
       "      <th>Converted_Prob</th>\n",
       "      <th>Prediction</th>\n",
       "      <th>0.1</th>\n",
       "      <th>0.2</th>\n",
       "      <th>0.3</th>\n",
       "      <th>0.4</th>\n",
       "      <th>0.5</th>\n",
       "      <th>0.6</th>\n",
       "      <th>0.7</th>\n",
       "      <th>0.8</th>\n",
       "      <th>0.9</th>\n",
       "      <th>Final_Prediction</th>\n",
       "    </tr>\n",
       "  </thead>\n",
       "  <tbody>\n",
       "    <tr>\n",
       "      <th>8003</th>\n",
       "      <td>0</td>\n",
       "      <td>0.326482</td>\n",
       "      <td>0</td>\n",
       "      <td>1</td>\n",
       "      <td>1</td>\n",
       "      <td>1</td>\n",
       "      <td>0</td>\n",
       "      <td>0</td>\n",
       "      <td>0</td>\n",
       "      <td>0</td>\n",
       "      <td>0</td>\n",
       "      <td>0</td>\n",
       "      <td>0</td>\n",
       "    </tr>\n",
       "    <tr>\n",
       "      <th>218</th>\n",
       "      <td>0</td>\n",
       "      <td>0.158026</td>\n",
       "      <td>0</td>\n",
       "      <td>1</td>\n",
       "      <td>0</td>\n",
       "      <td>0</td>\n",
       "      <td>0</td>\n",
       "      <td>0</td>\n",
       "      <td>0</td>\n",
       "      <td>0</td>\n",
       "      <td>0</td>\n",
       "      <td>0</td>\n",
       "      <td>0</td>\n",
       "    </tr>\n",
       "    <tr>\n",
       "      <th>4171</th>\n",
       "      <td>1</td>\n",
       "      <td>0.149504</td>\n",
       "      <td>0</td>\n",
       "      <td>1</td>\n",
       "      <td>0</td>\n",
       "      <td>0</td>\n",
       "      <td>0</td>\n",
       "      <td>0</td>\n",
       "      <td>0</td>\n",
       "      <td>0</td>\n",
       "      <td>0</td>\n",
       "      <td>0</td>\n",
       "      <td>0</td>\n",
       "    </tr>\n",
       "    <tr>\n",
       "      <th>4037</th>\n",
       "      <td>1</td>\n",
       "      <td>0.349267</td>\n",
       "      <td>0</td>\n",
       "      <td>1</td>\n",
       "      <td>1</td>\n",
       "      <td>1</td>\n",
       "      <td>0</td>\n",
       "      <td>0</td>\n",
       "      <td>0</td>\n",
       "      <td>0</td>\n",
       "      <td>0</td>\n",
       "      <td>0</td>\n",
       "      <td>0</td>\n",
       "    </tr>\n",
       "    <tr>\n",
       "      <th>3660</th>\n",
       "      <td>1</td>\n",
       "      <td>0.960683</td>\n",
       "      <td>1</td>\n",
       "      <td>1</td>\n",
       "      <td>1</td>\n",
       "      <td>1</td>\n",
       "      <td>1</td>\n",
       "      <td>1</td>\n",
       "      <td>1</td>\n",
       "      <td>1</td>\n",
       "      <td>1</td>\n",
       "      <td>1</td>\n",
       "      <td>1</td>\n",
       "    </tr>\n",
       "  </tbody>\n",
       "</table>\n",
       "</div>"
      ],
      "text/plain": [
       "      Converted  Converted_Prob  Prediction  0.1  0.2  0.3  0.4  0.5  0.6  \\\n",
       "8003          0        0.326482           0    1    1    1    0    0    0   \n",
       "218           0        0.158026           0    1    0    0    0    0    0   \n",
       "4171          1        0.149504           0    1    0    0    0    0    0   \n",
       "4037          1        0.349267           0    1    1    1    0    0    0   \n",
       "3660          1        0.960683           1    1    1    1    1    1    1   \n",
       "\n",
       "      0.7  0.8  0.9  Final_Prediction  \n",
       "8003    0    0    0                 0  \n",
       "218     0    0    0                 0  \n",
       "4171    0    0    0                 0  \n",
       "4037    0    0    0                 0  \n",
       "3660    1    1    1                 1  "
      ]
     },
     "execution_count": 195,
     "metadata": {},
     "output_type": "execute_result"
    }
   ],
   "source": [
    "train_predict_table.head()"
   ]
  },
  {
   "cell_type": "code",
   "execution_count": 196,
   "metadata": {
    "execution": {
     "iopub.execute_input": "2022-07-31T09:26:57.243665Z",
     "iopub.status.busy": "2022-07-31T09:26:57.243308Z",
     "iopub.status.idle": "2022-07-31T09:26:57.252990Z",
     "shell.execute_reply": "2022-07-31T09:26:57.251829Z",
     "shell.execute_reply.started": "2022-07-31T09:26:57.243634Z"
    }
   },
   "outputs": [
    {
     "data": {
      "text/plain": [
       "0.7917507285362027"
      ]
     },
     "execution_count": 196,
     "metadata": {},
     "output_type": "execute_result"
    }
   ],
   "source": [
    "# Accuracy for the optimum cut-offs\n",
    "\n",
    "accuracy = metrics.accuracy_score(train_predict_table['Converted'],train_predict_table['Final_Prediction'])\n",
    "accuracy"
   ]
  },
  {
   "cell_type": "code",
   "execution_count": 197,
   "metadata": {
    "execution": {
     "iopub.execute_input": "2022-07-31T09:26:57.255406Z",
     "iopub.status.busy": "2022-07-31T09:26:57.254804Z",
     "iopub.status.idle": "2022-07-31T09:26:57.270971Z",
     "shell.execute_reply": "2022-07-31T09:26:57.270024Z",
     "shell.execute_reply.started": "2022-07-31T09:26:57.255362Z"
    },
    "scrolled": true
   },
   "outputs": [
    {
     "data": {
      "text/html": [
       "<div>\n",
       "<style scoped>\n",
       "    .dataframe tbody tr th:only-of-type {\n",
       "        vertical-align: middle;\n",
       "    }\n",
       "\n",
       "    .dataframe tbody tr th {\n",
       "        vertical-align: top;\n",
       "    }\n",
       "\n",
       "    .dataframe thead th {\n",
       "        text-align: right;\n",
       "    }\n",
       "</style>\n",
       "<table border=\"1\" class=\"dataframe\">\n",
       "  <thead>\n",
       "    <tr style=\"text-align: right;\">\n",
       "      <th></th>\n",
       "      <th>Not Churn</th>\n",
       "      <th>Churn</th>\n",
       "    </tr>\n",
       "  </thead>\n",
       "  <tbody>\n",
       "    <tr>\n",
       "      <th>Not Churn</th>\n",
       "      <td>1832</td>\n",
       "      <td>480</td>\n",
       "    </tr>\n",
       "    <tr>\n",
       "      <th>Churn</th>\n",
       "      <td>449</td>\n",
       "      <td>1700</td>\n",
       "    </tr>\n",
       "  </tbody>\n",
       "</table>\n",
       "</div>"
      ],
      "text/plain": [
       "           Not Churn  Churn\n",
       "Not Churn       1832    480\n",
       "Churn            449   1700"
      ]
     },
     "execution_count": 197,
     "metadata": {},
     "output_type": "execute_result"
    }
   ],
   "source": [
    "# Confusion matrix for the optimum cut-offs\n",
    "\n",
    "confusion = metrics.confusion_matrix(train_predict_table['Converted'],train_predict_table['Final_Prediction'])\n",
    "\n",
    "labels = ['Not Churn','Churn']\n",
    "pd.DataFrame(data = confusion, columns = labels, index = labels)"
   ]
  },
  {
   "cell_type": "code",
   "execution_count": 198,
   "metadata": {
    "execution": {
     "iopub.execute_input": "2022-07-31T09:26:57.273436Z",
     "iopub.status.busy": "2022-07-31T09:26:57.272432Z",
     "iopub.status.idle": "2022-07-31T09:26:57.282296Z",
     "shell.execute_reply": "2022-07-31T09:26:57.281337Z",
     "shell.execute_reply.started": "2022-07-31T09:26:57.273391Z"
    }
   },
   "outputs": [
    {
     "data": {
      "text/plain": [
       "(1700, 1832, 480, 449)"
      ]
     },
     "execution_count": 198,
     "metadata": {},
     "output_type": "execute_result"
    }
   ],
   "source": [
    "TP = confusion[1,1] # True Positive\n",
    "TN = confusion[0,0] # True Negative\n",
    "\n",
    "FP = confusion[0,1] # False Positive\n",
    "FN = confusion[1,0] # False Negative\n",
    "\n",
    "TP,TN,FP,FN"
   ]
  },
  {
   "cell_type": "code",
   "execution_count": 199,
   "metadata": {
    "execution": {
     "iopub.execute_input": "2022-07-31T09:26:57.285260Z",
     "iopub.status.busy": "2022-07-31T09:26:57.284281Z",
     "iopub.status.idle": "2022-07-31T09:26:57.292100Z",
     "shell.execute_reply": "2022-07-31T09:26:57.290958Z",
     "shell.execute_reply.started": "2022-07-31T09:26:57.285214Z"
    }
   },
   "outputs": [],
   "source": [
    "# Calculation of matrics for the optimal cut-offs\n",
    "\n",
    "sensitivity = TP/(TP+FN)\n",
    "specificity = TN/(TN+FP)\n",
    "precision = TP/(TP+FP)\n",
    "recall = TP/(TP+FN)"
   ]
  },
  {
   "cell_type": "code",
   "execution_count": 200,
   "metadata": {
    "execution": {
     "iopub.execute_input": "2022-07-31T09:26:57.294281Z",
     "iopub.status.busy": "2022-07-31T09:26:57.293675Z",
     "iopub.status.idle": "2022-07-31T09:26:57.311535Z",
     "shell.execute_reply": "2022-07-31T09:26:57.310360Z",
     "shell.execute_reply.started": "2022-07-31T09:26:57.294248Z"
    }
   },
   "outputs": [
    {
     "data": {
      "text/html": [
       "<div>\n",
       "<style scoped>\n",
       "    .dataframe tbody tr th:only-of-type {\n",
       "        vertical-align: middle;\n",
       "    }\n",
       "\n",
       "    .dataframe tbody tr th {\n",
       "        vertical-align: top;\n",
       "    }\n",
       "\n",
       "    .dataframe thead th {\n",
       "        text-align: right;\n",
       "    }\n",
       "</style>\n",
       "<table border=\"1\" class=\"dataframe\">\n",
       "  <thead>\n",
       "    <tr style=\"text-align: right;\">\n",
       "      <th></th>\n",
       "      <th>metric</th>\n",
       "      <th>train</th>\n",
       "    </tr>\n",
       "  </thead>\n",
       "  <tbody>\n",
       "    <tr>\n",
       "      <th>0</th>\n",
       "      <td>accuracy</td>\n",
       "      <td>0.79</td>\n",
       "    </tr>\n",
       "    <tr>\n",
       "      <th>1</th>\n",
       "      <td>sensitivity</td>\n",
       "      <td>0.79</td>\n",
       "    </tr>\n",
       "    <tr>\n",
       "      <th>2</th>\n",
       "      <td>specificity</td>\n",
       "      <td>0.79</td>\n",
       "    </tr>\n",
       "    <tr>\n",
       "      <th>3</th>\n",
       "      <td>precision</td>\n",
       "      <td>0.78</td>\n",
       "    </tr>\n",
       "    <tr>\n",
       "      <th>4</th>\n",
       "      <td>recall</td>\n",
       "      <td>0.79</td>\n",
       "    </tr>\n",
       "  </tbody>\n",
       "</table>\n",
       "</div>"
      ],
      "text/plain": [
       "        metric  train\n",
       "0     accuracy   0.79\n",
       "1  sensitivity   0.79\n",
       "2  specificity   0.79\n",
       "3    precision   0.78\n",
       "4       recall   0.79"
      ]
     },
     "execution_count": 200,
     "metadata": {},
     "output_type": "execute_result"
    }
   ],
   "source": [
    "# Displaying all the metrics together in DataFrame Format\n",
    "\n",
    "labels = ['accuracy','sensitivity','specificity','precision','recall']\n",
    "values = [round(x,2) for x in [ accuracy,sensitivity,specificity,precision,recall]]\n",
    "train_metric = pd.DataFrame({'metric':labels, \n",
    "                             'train':values})\n",
    "train_metric"
   ]
  },
  {
   "cell_type": "markdown",
   "metadata": {},
   "source": [
    "# Making Predictions on the test Set"
   ]
  },
  {
   "cell_type": "code",
   "execution_count": 201,
   "metadata": {
    "execution": {
     "iopub.execute_input": "2022-07-31T09:26:57.313809Z",
     "iopub.status.busy": "2022-07-31T09:26:57.313032Z",
     "iopub.status.idle": "2022-07-31T09:26:57.376273Z",
     "shell.execute_reply": "2022-07-31T09:26:57.374986Z",
     "shell.execute_reply.started": "2022-07-31T09:26:57.313775Z"
    }
   },
   "outputs": [],
   "source": [
    "# Transforming the test set - on the scaler object\n",
    "\n",
    "X_test[:] = scaler.transform(X_test)"
   ]
  },
  {
   "cell_type": "code",
   "execution_count": 202,
   "metadata": {
    "execution": {
     "iopub.execute_input": "2022-07-31T09:26:57.377910Z",
     "iopub.status.busy": "2022-07-31T09:26:57.377582Z",
     "iopub.status.idle": "2022-07-31T09:26:57.385046Z",
     "shell.execute_reply": "2022-07-31T09:26:57.384065Z",
     "shell.execute_reply.started": "2022-07-31T09:26:57.377880Z"
    }
   },
   "outputs": [],
   "source": [
    "# Reducing the test-set to the set columns present in the final model\n",
    "\n",
    "X_test = X_test[X_train.columns]"
   ]
  },
  {
   "cell_type": "code",
   "execution_count": 203,
   "metadata": {
    "execution": {
     "iopub.execute_input": "2022-07-31T09:26:57.396773Z",
     "iopub.status.busy": "2022-07-31T09:26:57.395946Z",
     "iopub.status.idle": "2022-07-31T09:26:57.405481Z",
     "shell.execute_reply": "2022-07-31T09:26:57.404407Z",
     "shell.execute_reply.started": "2022-07-31T09:26:57.396733Z"
    }
   },
   "outputs": [],
   "source": [
    "# Adding constant to the X_test for feed into statsmodel GLM\n",
    "\n",
    "X_test_sm = sm.add_constant(X_test)"
   ]
  },
  {
   "cell_type": "code",
   "execution_count": 204,
   "metadata": {
    "execution": {
     "iopub.execute_input": "2022-07-31T09:26:57.407346Z",
     "iopub.status.busy": "2022-07-31T09:26:57.406851Z",
     "iopub.status.idle": "2022-07-31T09:26:57.419546Z",
     "shell.execute_reply": "2022-07-31T09:26:57.418213Z",
     "shell.execute_reply.started": "2022-07-31T09:26:57.407306Z"
    }
   },
   "outputs": [],
   "source": [
    "# Predicting the y-test \n",
    "\n",
    "y_test_pred = final_model.predict(X_test_sm)"
   ]
  },
  {
   "cell_type": "code",
   "execution_count": 205,
   "metadata": {
    "execution": {
     "iopub.execute_input": "2022-07-31T09:26:57.422363Z",
     "iopub.status.busy": "2022-07-31T09:26:57.421567Z",
     "iopub.status.idle": "2022-07-31T09:26:57.439001Z",
     "shell.execute_reply": "2022-07-31T09:26:57.437741Z",
     "shell.execute_reply.started": "2022-07-31T09:26:57.422321Z"
    }
   },
   "outputs": [
    {
     "data": {
      "text/html": [
       "<div>\n",
       "<style scoped>\n",
       "    .dataframe tbody tr th:only-of-type {\n",
       "        vertical-align: middle;\n",
       "    }\n",
       "\n",
       "    .dataframe tbody tr th {\n",
       "        vertical-align: top;\n",
       "    }\n",
       "\n",
       "    .dataframe thead th {\n",
       "        text-align: right;\n",
       "    }\n",
       "</style>\n",
       "<table border=\"1\" class=\"dataframe\">\n",
       "  <thead>\n",
       "    <tr style=\"text-align: right;\">\n",
       "      <th></th>\n",
       "      <th>Converted</th>\n",
       "      <th>Converted_Prob</th>\n",
       "    </tr>\n",
       "  </thead>\n",
       "  <tbody>\n",
       "    <tr>\n",
       "      <th>4771</th>\n",
       "      <td>1</td>\n",
       "      <td>0.996871</td>\n",
       "    </tr>\n",
       "    <tr>\n",
       "      <th>6122</th>\n",
       "      <td>0</td>\n",
       "      <td>0.155916</td>\n",
       "    </tr>\n",
       "    <tr>\n",
       "      <th>9202</th>\n",
       "      <td>0</td>\n",
       "      <td>0.727173</td>\n",
       "    </tr>\n",
       "    <tr>\n",
       "      <th>6570</th>\n",
       "      <td>1</td>\n",
       "      <td>0.340511</td>\n",
       "    </tr>\n",
       "    <tr>\n",
       "      <th>2668</th>\n",
       "      <td>1</td>\n",
       "      <td>0.498842</td>\n",
       "    </tr>\n",
       "  </tbody>\n",
       "</table>\n",
       "</div>"
      ],
      "text/plain": [
       "      Converted  Converted_Prob\n",
       "4771          1        0.996871\n",
       "6122          0        0.155916\n",
       "9202          0        0.727173\n",
       "6570          1        0.340511\n",
       "2668          1        0.498842"
      ]
     },
     "execution_count": 205,
     "metadata": {},
     "output_type": "execute_result"
    }
   ],
   "source": [
    "# Creating a test-prediction table\n",
    "\n",
    "test_predict_table = pd.DataFrame({'Converted':y_test,'Converted_Prob':y_test_pred})\n",
    "test_predict_table.head(5)"
   ]
  },
  {
   "cell_type": "code",
   "execution_count": 206,
   "metadata": {
    "execution": {
     "iopub.execute_input": "2022-07-31T09:26:57.441804Z",
     "iopub.status.busy": "2022-07-31T09:26:57.440984Z",
     "iopub.status.idle": "2022-07-31T09:26:57.454616Z",
     "shell.execute_reply": "2022-07-31T09:26:57.453273Z",
     "shell.execute_reply.started": "2022-07-31T09:26:57.441758Z"
    }
   },
   "outputs": [],
   "source": [
    "# Applying the arrived optimal cut-off in the prediction table\n",
    "\n",
    "test_predict_table['Final_Prediction'] = test_predict_table['Converted_Prob'].apply(lambda x : 1 if x > 0.43 else 0)"
   ]
  },
  {
   "cell_type": "code",
   "execution_count": 207,
   "metadata": {
    "execution": {
     "iopub.execute_input": "2022-07-31T09:26:57.457421Z",
     "iopub.status.busy": "2022-07-31T09:26:57.456617Z",
     "iopub.status.idle": "2022-07-31T09:26:57.475774Z",
     "shell.execute_reply": "2022-07-31T09:26:57.474480Z",
     "shell.execute_reply.started": "2022-07-31T09:26:57.457368Z"
    }
   },
   "outputs": [
    {
     "data": {
      "text/html": [
       "<div>\n",
       "<style scoped>\n",
       "    .dataframe tbody tr th:only-of-type {\n",
       "        vertical-align: middle;\n",
       "    }\n",
       "\n",
       "    .dataframe tbody tr th {\n",
       "        vertical-align: top;\n",
       "    }\n",
       "\n",
       "    .dataframe thead th {\n",
       "        text-align: right;\n",
       "    }\n",
       "</style>\n",
       "<table border=\"1\" class=\"dataframe\">\n",
       "  <thead>\n",
       "    <tr style=\"text-align: right;\">\n",
       "      <th></th>\n",
       "      <th>Converted</th>\n",
       "      <th>Converted_Prob</th>\n",
       "      <th>Final_Prediction</th>\n",
       "    </tr>\n",
       "  </thead>\n",
       "  <tbody>\n",
       "    <tr>\n",
       "      <th>4771</th>\n",
       "      <td>1</td>\n",
       "      <td>0.996871</td>\n",
       "      <td>1</td>\n",
       "    </tr>\n",
       "    <tr>\n",
       "      <th>6122</th>\n",
       "      <td>0</td>\n",
       "      <td>0.155916</td>\n",
       "      <td>0</td>\n",
       "    </tr>\n",
       "    <tr>\n",
       "      <th>9202</th>\n",
       "      <td>0</td>\n",
       "      <td>0.727173</td>\n",
       "      <td>1</td>\n",
       "    </tr>\n",
       "    <tr>\n",
       "      <th>6570</th>\n",
       "      <td>1</td>\n",
       "      <td>0.340511</td>\n",
       "      <td>0</td>\n",
       "    </tr>\n",
       "    <tr>\n",
       "      <th>2668</th>\n",
       "      <td>1</td>\n",
       "      <td>0.498842</td>\n",
       "      <td>1</td>\n",
       "    </tr>\n",
       "  </tbody>\n",
       "</table>\n",
       "</div>"
      ],
      "text/plain": [
       "      Converted  Converted_Prob  Final_Prediction\n",
       "4771          1        0.996871                 1\n",
       "6122          0        0.155916                 0\n",
       "9202          0        0.727173                 1\n",
       "6570          1        0.340511                 0\n",
       "2668          1        0.498842                 1"
      ]
     },
     "execution_count": 207,
     "metadata": {},
     "output_type": "execute_result"
    }
   ],
   "source": [
    "test_predict_table.head(5)"
   ]
  },
  {
   "cell_type": "code",
   "execution_count": 208,
   "metadata": {},
   "outputs": [
    {
     "data": {
      "image/png": "[encoded data removed]",
      "text/plain": [
       "<Figure size 360x360 with 1 Axes>"
      ]
     },
     "metadata": {
      "needs_background": "light"
     },
     "output_type": "display_data"
    }
   ],
   "source": [
    "plot_roc(train_predict_table['Converted'],train_predict_table['Converted_Prob'])"
   ]
  },
  {
   "cell_type": "markdown",
   "metadata": {},
   "source": [
    "### Checking the Metrics in the Test - Prediction"
   ]
  },
  {
   "cell_type": "code",
   "execution_count": 209,
   "metadata": {
    "execution": {
     "iopub.execute_input": "2022-07-31T09:26:57.478947Z",
     "iopub.status.busy": "2022-07-31T09:26:57.477819Z",
     "iopub.status.idle": "2022-07-31T09:26:57.491539Z",
     "shell.execute_reply": "2022-07-31T09:26:57.490255Z",
     "shell.execute_reply.started": "2022-07-31T09:26:57.478889Z"
    }
   },
   "outputs": [
    {
     "data": {
      "text/plain": [
       "0.7860878661087866"
      ]
     },
     "execution_count": 209,
     "metadata": {},
     "output_type": "execute_result"
    }
   ],
   "source": [
    "# accuracy score for the Test-Prediction\n",
    "accuracy = metrics.accuracy_score(test_predict_table['Converted'],test_predict_table['Final_Prediction'])\n",
    "accuracy"
   ]
  },
  {
   "cell_type": "code",
   "execution_count": 210,
   "metadata": {
    "execution": {
     "iopub.execute_input": "2022-07-31T09:26:57.494792Z",
     "iopub.status.busy": "2022-07-31T09:26:57.493689Z",
     "iopub.status.idle": "2022-07-31T09:26:57.513140Z",
     "shell.execute_reply": "2022-07-31T09:26:57.511623Z",
     "shell.execute_reply.started": "2022-07-31T09:26:57.494738Z"
    }
   },
   "outputs": [
    {
     "data": {
      "text/html": [
       "<div>\n",
       "<style scoped>\n",
       "    .dataframe tbody tr th:only-of-type {\n",
       "        vertical-align: middle;\n",
       "    }\n",
       "\n",
       "    .dataframe tbody tr th {\n",
       "        vertical-align: top;\n",
       "    }\n",
       "\n",
       "    .dataframe thead th {\n",
       "        text-align: right;\n",
       "    }\n",
       "</style>\n",
       "<table border=\"1\" class=\"dataframe\">\n",
       "  <thead>\n",
       "    <tr style=\"text-align: right;\">\n",
       "      <th></th>\n",
       "      <th>Not Churn</th>\n",
       "      <th>Churn</th>\n",
       "    </tr>\n",
       "  </thead>\n",
       "  <tbody>\n",
       "    <tr>\n",
       "      <th>Not Churn</th>\n",
       "      <td>785</td>\n",
       "      <td>211</td>\n",
       "    </tr>\n",
       "    <tr>\n",
       "      <th>Churn</th>\n",
       "      <td>198</td>\n",
       "      <td>718</td>\n",
       "    </tr>\n",
       "  </tbody>\n",
       "</table>\n",
       "</div>"
      ],
      "text/plain": [
       "           Not Churn  Churn\n",
       "Not Churn        785    211\n",
       "Churn            198    718"
      ]
     },
     "execution_count": 210,
     "metadata": {},
     "output_type": "execute_result"
    }
   ],
   "source": [
    "# Confusion Matrics for the test-prediction\n",
    "confusion = metrics.confusion_matrix(test_predict_table['Converted'],test_predict_table['Final_Prediction'])\n",
    "\n",
    "labels = ['Not Churn','Churn']\n",
    "pd.DataFrame(data = confusion, columns = labels, index = labels)"
   ]
  },
  {
   "cell_type": "code",
   "execution_count": 211,
   "metadata": {
    "execution": {
     "iopub.execute_input": "2022-07-31T09:26:57.515850Z",
     "iopub.status.busy": "2022-07-31T09:26:57.515093Z",
     "iopub.status.idle": "2022-07-31T09:26:57.526001Z",
     "shell.execute_reply": "2022-07-31T09:26:57.524824Z",
     "shell.execute_reply.started": "2022-07-31T09:26:57.515801Z"
    }
   },
   "outputs": [
    {
     "data": {
      "text/plain": [
       "(718, 785, 211, 198)"
      ]
     },
     "execution_count": 211,
     "metadata": {},
     "output_type": "execute_result"
    }
   ],
   "source": [
    "TP = confusion[1,1] # True Positive\n",
    "TN = confusion[0,0] # True Negative\n",
    "\n",
    "FP = confusion[0,1] # False Positive\n",
    "FN = confusion[1,0] # False Negative\n",
    "\n",
    "TP,TN,FP,FN"
   ]
  },
  {
   "cell_type": "code",
   "execution_count": 212,
   "metadata": {
    "execution": {
     "iopub.execute_input": "2022-07-31T09:26:57.528857Z",
     "iopub.status.busy": "2022-07-31T09:26:57.527950Z",
     "iopub.status.idle": "2022-07-31T09:26:57.539343Z",
     "shell.execute_reply": "2022-07-31T09:26:57.538190Z",
     "shell.execute_reply.started": "2022-07-31T09:26:57.528675Z"
    }
   },
   "outputs": [],
   "source": [
    "# Calculation of matrics for test-prediction\n",
    "\n",
    "sensitivity = TP/(TP+FN)\n",
    "specificity = TN/(TN+FP)\n",
    "precision = TP/(TP+FP)\n",
    "recall = TP/(TP+FN)"
   ]
  },
  {
   "cell_type": "code",
   "execution_count": 213,
   "metadata": {
    "execution": {
     "iopub.execute_input": "2022-07-31T09:26:57.542033Z",
     "iopub.status.busy": "2022-07-31T09:26:57.541226Z",
     "iopub.status.idle": "2022-07-31T09:26:57.559861Z",
     "shell.execute_reply": "2022-07-31T09:26:57.558629Z",
     "shell.execute_reply.started": "2022-07-31T09:26:57.541986Z"
    }
   },
   "outputs": [
    {
     "data": {
      "text/html": [
       "<div>\n",
       "<style scoped>\n",
       "    .dataframe tbody tr th:only-of-type {\n",
       "        vertical-align: middle;\n",
       "    }\n",
       "\n",
       "    .dataframe tbody tr th {\n",
       "        vertical-align: top;\n",
       "    }\n",
       "\n",
       "    .dataframe thead th {\n",
       "        text-align: right;\n",
       "    }\n",
       "</style>\n",
       "<table border=\"1\" class=\"dataframe\">\n",
       "  <thead>\n",
       "    <tr style=\"text-align: right;\">\n",
       "      <th></th>\n",
       "      <th>metric</th>\n",
       "      <th>test</th>\n",
       "    </tr>\n",
       "  </thead>\n",
       "  <tbody>\n",
       "    <tr>\n",
       "      <th>0</th>\n",
       "      <td>accuracy</td>\n",
       "      <td>0.79</td>\n",
       "    </tr>\n",
       "    <tr>\n",
       "      <th>1</th>\n",
       "      <td>sensitivity</td>\n",
       "      <td>0.78</td>\n",
       "    </tr>\n",
       "    <tr>\n",
       "      <th>2</th>\n",
       "      <td>specificity</td>\n",
       "      <td>0.79</td>\n",
       "    </tr>\n",
       "    <tr>\n",
       "      <th>3</th>\n",
       "      <td>precision</td>\n",
       "      <td>0.77</td>\n",
       "    </tr>\n",
       "    <tr>\n",
       "      <th>4</th>\n",
       "      <td>recall</td>\n",
       "      <td>0.78</td>\n",
       "    </tr>\n",
       "  </tbody>\n",
       "</table>\n",
       "</div>"
      ],
      "text/plain": [
       "        metric  test\n",
       "0     accuracy  0.79\n",
       "1  sensitivity  0.78\n",
       "2  specificity  0.79\n",
       "3    precision  0.77\n",
       "4       recall  0.78"
      ]
     },
     "execution_count": 213,
     "metadata": {},
     "output_type": "execute_result"
    }
   ],
   "source": [
    "# Displaying the metrics together for the test-prediction\n",
    "\n",
    "labels = ['accuracy','sensitivity','specificity','precision','recall']\n",
    "values = [round(x,2) for x in [ accuracy,sensitivity,specificity,precision,recall]]\n",
    "test_metric = pd.DataFrame({'metric':labels, 'test':values})\n",
    "test_metric"
   ]
  },
  {
   "cell_type": "code",
   "execution_count": 214,
   "metadata": {
    "execution": {
     "iopub.execute_input": "2022-07-31T09:26:57.561760Z",
     "iopub.status.busy": "2022-07-31T09:26:57.561184Z",
     "iopub.status.idle": "2022-07-31T09:26:57.580274Z",
     "shell.execute_reply": "2022-07-31T09:26:57.579203Z",
     "shell.execute_reply.started": "2022-07-31T09:26:57.561717Z"
    }
   },
   "outputs": [
    {
     "data": {
      "text/html": [
       "<div>\n",
       "<style scoped>\n",
       "    .dataframe tbody tr th:only-of-type {\n",
       "        vertical-align: middle;\n",
       "    }\n",
       "\n",
       "    .dataframe tbody tr th {\n",
       "        vertical-align: top;\n",
       "    }\n",
       "\n",
       "    .dataframe thead th {\n",
       "        text-align: right;\n",
       "    }\n",
       "</style>\n",
       "<table border=\"1\" class=\"dataframe\">\n",
       "  <thead>\n",
       "    <tr style=\"text-align: right;\">\n",
       "      <th></th>\n",
       "      <th>metric</th>\n",
       "      <th>train</th>\n",
       "      <th>test</th>\n",
       "    </tr>\n",
       "  </thead>\n",
       "  <tbody>\n",
       "    <tr>\n",
       "      <th>0</th>\n",
       "      <td>accuracy</td>\n",
       "      <td>0.79</td>\n",
       "      <td>0.79</td>\n",
       "    </tr>\n",
       "    <tr>\n",
       "      <th>1</th>\n",
       "      <td>sensitivity</td>\n",
       "      <td>0.79</td>\n",
       "      <td>0.78</td>\n",
       "    </tr>\n",
       "    <tr>\n",
       "      <th>2</th>\n",
       "      <td>specificity</td>\n",
       "      <td>0.79</td>\n",
       "      <td>0.79</td>\n",
       "    </tr>\n",
       "    <tr>\n",
       "      <th>3</th>\n",
       "      <td>precision</td>\n",
       "      <td>0.78</td>\n",
       "      <td>0.77</td>\n",
       "    </tr>\n",
       "    <tr>\n",
       "      <th>4</th>\n",
       "      <td>recall</td>\n",
       "      <td>0.79</td>\n",
       "      <td>0.78</td>\n",
       "    </tr>\n",
       "  </tbody>\n",
       "</table>\n",
       "</div>"
      ],
      "text/plain": [
       "        metric  train  test\n",
       "0     accuracy   0.79  0.79\n",
       "1  sensitivity   0.79  0.78\n",
       "2  specificity   0.79  0.79\n",
       "3    precision   0.78  0.77\n",
       "4       recall   0.79  0.78"
      ]
     },
     "execution_count": 214,
     "metadata": {},
     "output_type": "execute_result"
    }
   ],
   "source": [
    "# Comparing the all metrics Train & Test Sets\n",
    "\n",
    "train_metric = train_metric.set_index('metric')\n",
    "test_metric = test_metric.set_index('metric')\n",
    "\n",
    "train_test_metric_table = pd.concat([train_metric,test_metric], axis = 1)\n",
    "train_test_metric_table.reset_index()"
   ]
  },
  {
   "cell_type": "code",
   "execution_count": 215,
   "metadata": {
    "execution": {
     "iopub.execute_input": "2022-07-31T09:28:56.762010Z",
     "iopub.status.busy": "2022-07-31T09:28:56.761613Z",
     "iopub.status.idle": "2022-07-31T09:28:56.984556Z",
     "shell.execute_reply": "2022-07-31T09:28:56.983161Z",
     "shell.execute_reply.started": "2022-07-31T09:28:56.761977Z"
    }
   },
   "outputs": [
    {
     "data": {
      "image/png": "[encoded data removed]",
      "text/plain": [
       "<Figure size 432x288 with 1 Axes>"
      ]
     },
     "metadata": {
      "needs_background": "light"
     },
     "output_type": "display_data"
    }
   ],
   "source": [
    "train_test_metric_table.plot.bar()\n",
    "plt.legend(loc = 4)\n",
    "plt.show()"
   ]
  },
  {
   "cell_type": "markdown",
   "metadata": {},
   "source": [
    "# Inferences :\n",
    "\n",
    "* #### Good Performance : The Model perform almost similar in the Train & Test Sets - Accuracy around 80%\n",
    "* #### Low Over fitting Tendancy : This model does not seem to overfit to the training dataset\n",
    "* #### Impression : Hence Capapable Making descent Prediction - Would Give confidnce to the state-holders"
   ]
  },
  {
   "cell_type": "markdown",
   "metadata": {},
   "source": [
    "### Model Parameters "
   ]
  },
  {
   "cell_type": "code",
   "execution_count": 253,
   "metadata": {},
   "outputs": [
    {
     "data": {
      "text/html": [
       "<div>\n",
       "<style scoped>\n",
       "    .dataframe tbody tr th:only-of-type {\n",
       "        vertical-align: middle;\n",
       "    }\n",
       "\n",
       "    .dataframe tbody tr th {\n",
       "        vertical-align: top;\n",
       "    }\n",
       "\n",
       "    .dataframe thead th {\n",
       "        text-align: right;\n",
       "    }\n",
       "</style>\n",
       "<table border=\"1\" class=\"dataframe\">\n",
       "  <thead>\n",
       "    <tr style=\"text-align: right;\">\n",
       "      <th></th>\n",
       "      <th>parameter</th>\n",
       "      <th>coeff</th>\n",
       "      <th>abs_coeff</th>\n",
       "    </tr>\n",
       "  </thead>\n",
       "  <tbody>\n",
       "    <tr>\n",
       "      <th>2</th>\n",
       "      <td>Total Time Spent on Website</td>\n",
       "      <td>4.400629</td>\n",
       "      <td>4.400629</td>\n",
       "    </tr>\n",
       "    <tr>\n",
       "      <th>3</th>\n",
       "      <td>Lead Origin_Lead Add Form</td>\n",
       "      <td>4.341117</td>\n",
       "      <td>4.341117</td>\n",
       "    </tr>\n",
       "    <tr>\n",
       "      <th>12</th>\n",
       "      <td>Last Notable Activity_Unreachable</td>\n",
       "      <td>2.659874</td>\n",
       "      <td>2.659874</td>\n",
       "    </tr>\n",
       "    <tr>\n",
       "      <th>9</th>\n",
       "      <td>What is your current occupation_Working Profes...</td>\n",
       "      <td>2.567773</td>\n",
       "      <td>2.567773</td>\n",
       "    </tr>\n",
       "    <tr>\n",
       "      <th>0</th>\n",
       "      <td>const</td>\n",
       "      <td>-2.326410</td>\n",
       "      <td>2.326410</td>\n",
       "    </tr>\n",
       "    <tr>\n",
       "      <th>5</th>\n",
       "      <td>Lead Source_Welingak Website</td>\n",
       "      <td>2.163321</td>\n",
       "      <td>2.163321</td>\n",
       "    </tr>\n",
       "    <tr>\n",
       "      <th>10</th>\n",
       "      <td>Last Notable Activity_Email Bounced</td>\n",
       "      <td>2.028001</td>\n",
       "      <td>2.028001</td>\n",
       "    </tr>\n",
       "    <tr>\n",
       "      <th>4</th>\n",
       "      <td>Lead Source_Olark Chat</td>\n",
       "      <td>1.704149</td>\n",
       "      <td>1.704149</td>\n",
       "    </tr>\n",
       "    <tr>\n",
       "      <th>7</th>\n",
       "      <td>Last Activity_Email Bounced</td>\n",
       "      <td>-1.565348</td>\n",
       "      <td>1.565348</td>\n",
       "    </tr>\n",
       "    <tr>\n",
       "      <th>6</th>\n",
       "      <td>Do Not Email_Yes</td>\n",
       "      <td>-1.401966</td>\n",
       "      <td>1.401966</td>\n",
       "    </tr>\n",
       "    <tr>\n",
       "      <th>1</th>\n",
       "      <td>TotalVisits</td>\n",
       "      <td>1.310499</td>\n",
       "      <td>1.310499</td>\n",
       "    </tr>\n",
       "    <tr>\n",
       "      <th>11</th>\n",
       "      <td>Last Notable Activity_SMS Sent</td>\n",
       "      <td>1.181274</td>\n",
       "      <td>1.181274</td>\n",
       "    </tr>\n",
       "    <tr>\n",
       "      <th>8</th>\n",
       "      <td>Last Activity_Olark Chat Conversation</td>\n",
       "      <td>-1.055504</td>\n",
       "      <td>1.055504</td>\n",
       "    </tr>\n",
       "  </tbody>\n",
       "</table>\n",
       "</div>"
      ],
      "text/plain": [
       "                                            parameter     coeff  abs_coeff\n",
       "2                         Total Time Spent on Website  4.400629   4.400629\n",
       "3                           Lead Origin_Lead Add Form  4.341117   4.341117\n",
       "12                  Last Notable Activity_Unreachable  2.659874   2.659874\n",
       "9   What is your current occupation_Working Profes...  2.567773   2.567773\n",
       "0                                               const -2.326410   2.326410\n",
       "5                        Lead Source_Welingak Website  2.163321   2.163321\n",
       "10                Last Notable Activity_Email Bounced  2.028001   2.028001\n",
       "4                              Lead Source_Olark Chat  1.704149   1.704149\n",
       "7                         Last Activity_Email Bounced -1.565348   1.565348\n",
       "6                                    Do Not Email_Yes -1.401966   1.401966\n",
       "1                                         TotalVisits  1.310499   1.310499\n",
       "11                     Last Notable Activity_SMS Sent  1.181274   1.181274\n",
       "8               Last Activity_Olark Chat Conversation -1.055504   1.055504"
      ]
     },
     "execution_count": 253,
     "metadata": {},
     "output_type": "execute_result"
    }
   ],
   "source": [
    "p_parameter = final_model.params\n",
    "p_Dataframe = pd.DataFrame({\"parameter\":p_parameter.index, \"coeff\":p_parameter.values})\n",
    "p_Dataframe[\"abs_coeff\"] = p_Dataframe[\"coeff\"].abs()\n",
    "p_Dataframe.sort_values(by = \"abs_coeff\", ascending = False, inplace = True)\n",
    "p_Dataframe"
   ]
  },
  {
   "cell_type": "markdown",
   "metadata": {
    "execution": {
     "iopub.execute_input": "2022-07-31T09:38:36.526499Z",
     "iopub.status.busy": "2022-07-31T09:38:36.526050Z",
     "iopub.status.idle": "2022-07-31T09:38:36.532077Z",
     "shell.execute_reply": "2022-07-31T09:38:36.530866Z",
     "shell.execute_reply.started": "2022-07-31T09:38:36.526463Z"
    }
   },
   "source": [
    "# End of the Notebook"
   ]
  }
 ],
 "metadata": {
  "kernelspec": {
   "display_name": "Python 3 (ipykernel)",
   "language": "python",
   "name": "python3"
  },
  "language_info": {
   "codemirror_mode": {
    "name": "ipython",
    "version": 3
   },
   "file_extension": ".py",
   "mimetype": "text/x-python",
   "name": "python",
   "nbconvert_exporter": "python",
   "pygments_lexer": "ipython3",
   "version": "3.9.7"
  }
 },
 "nbformat": 4,
 "nbformat_minor": 4
}
